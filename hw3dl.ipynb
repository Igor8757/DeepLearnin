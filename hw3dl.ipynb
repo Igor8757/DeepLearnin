{
 "cells": [
  {
   "cell_type": "markdown",
   "metadata": {
    "colab_type": "text",
    "id": "LCziYWI6-MOL"
   },
   "source": [
    "# Assignment 3 - Practical Deep Learning Workshop\n"
   ]
  },
  {
   "cell_type": "markdown",
   "metadata": {
    "colab_type": "text",
    "id": "kof0gpyU-MOj"
   },
   "source": [
    "#### In this task we will work with the dataset of the Home depot product search relevance competition.\n",
    "#### Some background: \n",
    "In this competition, Home Depot is asking to help them improve their customers' shopping experience by developing a model that can accurately predict the relevance of search results.\n",
    "\n",
    "Search relevancy is an implicit measure Home Depot uses to gauge how quickly they can get customers to the right products. \n",
    "\n",
    "This data set contains a number of products and real customer search terms from Home Depot's website. The challenge is to predict a relevance score for the provided combinations of search terms and products. To create the ground truth labels, Home Depot has crowdsourced the search/product pairs to multiple human raters.\n",
    "The relevance is a number between 1 (not relevant) to 3 (highly relevant). For example, a search for \"AA battery\" would be considered highly relevant to a pack of size AA batteries (relevance = 3), mildly relevant to a cordless drill battery (relevance = 2), and not relevant to a snow shovel (relevance = 1).\n",
    "\n",
    "Each pair was evaluated by at least three human raters. The provided relevance scores are the average value of the ratings. There are three additional things to know about the ratings:\n",
    "•\tThe specific instructions given to the raters is provided in relevance_instructions.docx.\n",
    "•\tRaters did not have access to the attributes.\n",
    "•\tRaters had access to product images, while the competition does not include images.\n",
    "\n",
    "\n",
    "#### Out task here is to predict the relevance for each pair listed in the test set. The test set contains both seen and unseen search terms.\n"
   ]
  },
  {
   "cell_type": "code",
   "execution_count": 1,
   "metadata": {
    "colab": {
     "base_uri": "https://localhost:8080/",
     "height": 35
    },
    "colab_type": "code",
    "id": "2MX3jC58-MOv",
    "outputId": "9f74ae18-0b27-4c65-dd5a-6794a697e7ca"
   },
   "outputs": [
    {
     "name": "stderr",
     "output_type": "stream",
     "text": [
      "Using TensorFlow backend.\n"
     ]
    }
   ],
   "source": [
    "from sklearn.feature_extraction.text import CountVectorizer\n",
    "from keras.preprocessing.text import Tokenizer\n",
    "from keras.preprocessing.sequence import pad_sequences\n",
    "from keras.models import Model, Sequential\n",
    "from keras.layers import * # Dense, Embedding, LSTM\n",
    "from sklearn.model_selection import train_test_split\n",
    "from keras.utils.np_utils import to_categorical\n",
    "from keras.regularizers import l2\n",
    "import re\n",
    "\n",
    "import pandas as pd\n",
    "import numpy as np\n",
    "import datetime\n",
    "import seaborn as sns \n",
    "import matplotlib.pyplot as plt\n",
    "import matplotlib.dates as mdates\n",
    "%matplotlib inline\n",
    " \n"
   ]
  },
  {
   "cell_type": "code",
   "execution_count": 2,
   "metadata": {
    "colab": {
     "base_uri": "https://localhost:8080/",
     "height": 35
    },
    "colab_type": "code",
    "id": "XZkB-Gjx-7Qf",
    "outputId": "572e905c-dc86-4417-8e70-9168a1ad49e7"
   },
   "outputs": [
    {
     "name": "stdout",
     "output_type": "stream",
     "text": [
      "Drive already mounted at /content/gdrive; to attempt to forcibly remount, call drive.mount(\"/content/gdrive\", force_remount=True).\n"
     ]
    }
   ],
   "source": [
    "from google.colab import drive\n",
    "drive.mount('/content/gdrive')"
   ]
  },
  {
   "cell_type": "markdown",
   "metadata": {
    "colab_type": "text",
    "id": "yiT5fXTC-MP9"
   },
   "source": [
    "#### First of all, we'll take a look at the data in each dataset of the input:"
   ]
  },
  {
   "cell_type": "markdown",
   "metadata": {
    "colab_type": "text",
    "id": "T1eqOAru-MQJ"
   },
   "source": [
    "train.csv is the training set, contains products, searches, and relevance scores."
   ]
  },
  {
   "cell_type": "code",
   "execution_count": 3,
   "metadata": {
    "colab": {
     "base_uri": "https://localhost:8080/",
     "height": 206
    },
    "colab_type": "code",
    "id": "571V6TUw-MQQ",
    "outputId": "626f91a9-43ac-4c06-b623-4614188073f1"
   },
   "outputs": [
    {
     "data": {
      "text/html": [
       "<div>\n",
       "<style scoped>\n",
       "    .dataframe tbody tr th:only-of-type {\n",
       "        vertical-align: middle;\n",
       "    }\n",
       "\n",
       "    .dataframe tbody tr th {\n",
       "        vertical-align: top;\n",
       "    }\n",
       "\n",
       "    .dataframe thead th {\n",
       "        text-align: right;\n",
       "    }\n",
       "</style>\n",
       "<table border=\"1\" class=\"dataframe\">\n",
       "  <thead>\n",
       "    <tr style=\"text-align: right;\">\n",
       "      <th></th>\n",
       "      <th>id</th>\n",
       "      <th>product_uid</th>\n",
       "      <th>product_title</th>\n",
       "      <th>search_term</th>\n",
       "      <th>relevance</th>\n",
       "    </tr>\n",
       "  </thead>\n",
       "  <tbody>\n",
       "    <tr>\n",
       "      <th>0</th>\n",
       "      <td>2</td>\n",
       "      <td>100001</td>\n",
       "      <td>Simpson Strong-Tie 12-Gauge Angle</td>\n",
       "      <td>angle bracket</td>\n",
       "      <td>3.00</td>\n",
       "    </tr>\n",
       "    <tr>\n",
       "      <th>1</th>\n",
       "      <td>3</td>\n",
       "      <td>100001</td>\n",
       "      <td>Simpson Strong-Tie 12-Gauge Angle</td>\n",
       "      <td>l bracket</td>\n",
       "      <td>2.50</td>\n",
       "    </tr>\n",
       "    <tr>\n",
       "      <th>2</th>\n",
       "      <td>9</td>\n",
       "      <td>100002</td>\n",
       "      <td>BEHR Premium Textured DeckOver 1-gal. #SC-141 ...</td>\n",
       "      <td>deck over</td>\n",
       "      <td>3.00</td>\n",
       "    </tr>\n",
       "    <tr>\n",
       "      <th>3</th>\n",
       "      <td>16</td>\n",
       "      <td>100005</td>\n",
       "      <td>Delta Vero 1-Handle Shower Only Faucet Trim Ki...</td>\n",
       "      <td>rain shower head</td>\n",
       "      <td>2.33</td>\n",
       "    </tr>\n",
       "    <tr>\n",
       "      <th>4</th>\n",
       "      <td>17</td>\n",
       "      <td>100005</td>\n",
       "      <td>Delta Vero 1-Handle Shower Only Faucet Trim Ki...</td>\n",
       "      <td>shower only faucet</td>\n",
       "      <td>2.67</td>\n",
       "    </tr>\n",
       "  </tbody>\n",
       "</table>\n",
       "</div>"
      ],
      "text/plain": [
       "   id  product_uid                                      product_title  \\\n",
       "0   2       100001                  Simpson Strong-Tie 12-Gauge Angle   \n",
       "1   3       100001                  Simpson Strong-Tie 12-Gauge Angle   \n",
       "2   9       100002  BEHR Premium Textured DeckOver 1-gal. #SC-141 ...   \n",
       "3  16       100005  Delta Vero 1-Handle Shower Only Faucet Trim Ki...   \n",
       "4  17       100005  Delta Vero 1-Handle Shower Only Faucet Trim Ki...   \n",
       "\n",
       "          search_term  relevance  \n",
       "0       angle bracket       3.00  \n",
       "1           l bracket       2.50  \n",
       "2           deck over       3.00  \n",
       "3    rain shower head       2.33  \n",
       "4  shower only faucet       2.67  "
      ]
     },
     "execution_count": 3,
     "metadata": {
      "tags": []
     },
     "output_type": "execute_result"
    }
   ],
   "source": [
    "train = pd.read_csv('/content/gdrive/My Drive/Colab Notebooks/input/train.csv',encoding='latin1')\n",
    "train.head()"
   ]
  },
  {
   "cell_type": "markdown",
   "metadata": {
    "colab_type": "text",
    "id": "6Fs9YZB5-MRD"
   },
   "source": [
    "test.csv is the test set, contains products and searches. We will need to predict the relevance for these pairs."
   ]
  },
  {
   "cell_type": "code",
   "execution_count": 4,
   "metadata": {
    "colab": {
     "base_uri": "https://localhost:8080/",
     "height": 206
    },
    "colab_type": "code",
    "id": "CCp-j0Fo-MRP",
    "outputId": "28c5cd10-980e-4c48-a7ae-dec5f70e876f"
   },
   "outputs": [
    {
     "data": {
      "text/html": [
       "<div>\n",
       "<style scoped>\n",
       "    .dataframe tbody tr th:only-of-type {\n",
       "        vertical-align: middle;\n",
       "    }\n",
       "\n",
       "    .dataframe tbody tr th {\n",
       "        vertical-align: top;\n",
       "    }\n",
       "\n",
       "    .dataframe thead th {\n",
       "        text-align: right;\n",
       "    }\n",
       "</style>\n",
       "<table border=\"1\" class=\"dataframe\">\n",
       "  <thead>\n",
       "    <tr style=\"text-align: right;\">\n",
       "      <th></th>\n",
       "      <th>id</th>\n",
       "      <th>product_uid</th>\n",
       "      <th>product_title</th>\n",
       "      <th>search_term</th>\n",
       "    </tr>\n",
       "  </thead>\n",
       "  <tbody>\n",
       "    <tr>\n",
       "      <th>0</th>\n",
       "      <td>1</td>\n",
       "      <td>100001</td>\n",
       "      <td>Simpson Strong-Tie 12-Gauge Angle</td>\n",
       "      <td>90 degree bracket</td>\n",
       "    </tr>\n",
       "    <tr>\n",
       "      <th>1</th>\n",
       "      <td>4</td>\n",
       "      <td>100001</td>\n",
       "      <td>Simpson Strong-Tie 12-Gauge Angle</td>\n",
       "      <td>metal l brackets</td>\n",
       "    </tr>\n",
       "    <tr>\n",
       "      <th>2</th>\n",
       "      <td>5</td>\n",
       "      <td>100001</td>\n",
       "      <td>Simpson Strong-Tie 12-Gauge Angle</td>\n",
       "      <td>simpson sku able</td>\n",
       "    </tr>\n",
       "    <tr>\n",
       "      <th>3</th>\n",
       "      <td>6</td>\n",
       "      <td>100001</td>\n",
       "      <td>Simpson Strong-Tie 12-Gauge Angle</td>\n",
       "      <td>simpson strong  ties</td>\n",
       "    </tr>\n",
       "    <tr>\n",
       "      <th>4</th>\n",
       "      <td>7</td>\n",
       "      <td>100001</td>\n",
       "      <td>Simpson Strong-Tie 12-Gauge Angle</td>\n",
       "      <td>simpson strong tie hcc668</td>\n",
       "    </tr>\n",
       "  </tbody>\n",
       "</table>\n",
       "</div>"
      ],
      "text/plain": [
       "   id  product_uid                      product_title  \\\n",
       "0   1       100001  Simpson Strong-Tie 12-Gauge Angle   \n",
       "1   4       100001  Simpson Strong-Tie 12-Gauge Angle   \n",
       "2   5       100001  Simpson Strong-Tie 12-Gauge Angle   \n",
       "3   6       100001  Simpson Strong-Tie 12-Gauge Angle   \n",
       "4   7       100001  Simpson Strong-Tie 12-Gauge Angle   \n",
       "\n",
       "                 search_term  \n",
       "0          90 degree bracket  \n",
       "1           metal l brackets  \n",
       "2           simpson sku able  \n",
       "3       simpson strong  ties  \n",
       "4  simpson strong tie hcc668  "
      ]
     },
     "execution_count": 4,
     "metadata": {
      "tags": []
     },
     "output_type": "execute_result"
    }
   ],
   "source": [
    "test = pd.read_csv('/content/gdrive/My Drive/Colab Notebooks/input/test.csv',encoding='latin1')\n",
    "test.head()"
   ]
  },
  {
   "cell_type": "code",
   "execution_count": 5,
   "metadata": {
    "colab": {
     "base_uri": "https://localhost:8080/",
     "height": 206
    },
    "colab_type": "code",
    "id": "D_hsG1N33Drp",
    "outputId": "cd6fa57c-c25f-4fb6-9725-42ae7a344dd9"
   },
   "outputs": [
    {
     "data": {
      "text/html": [
       "<div>\n",
       "<style scoped>\n",
       "    .dataframe tbody tr th:only-of-type {\n",
       "        vertical-align: middle;\n",
       "    }\n",
       "\n",
       "    .dataframe tbody tr th {\n",
       "        vertical-align: top;\n",
       "    }\n",
       "\n",
       "    .dataframe thead th {\n",
       "        text-align: right;\n",
       "    }\n",
       "</style>\n",
       "<table border=\"1\" class=\"dataframe\">\n",
       "  <thead>\n",
       "    <tr style=\"text-align: right;\">\n",
       "      <th></th>\n",
       "      <th>id</th>\n",
       "      <th>relevance</th>\n",
       "      <th>Usage</th>\n",
       "    </tr>\n",
       "  </thead>\n",
       "  <tbody>\n",
       "    <tr>\n",
       "      <th>0</th>\n",
       "      <td>1</td>\n",
       "      <td>-1.00</td>\n",
       "      <td>Ignored</td>\n",
       "    </tr>\n",
       "    <tr>\n",
       "      <th>1</th>\n",
       "      <td>4</td>\n",
       "      <td>2.33</td>\n",
       "      <td>Public</td>\n",
       "    </tr>\n",
       "    <tr>\n",
       "      <th>2</th>\n",
       "      <td>5</td>\n",
       "      <td>2.33</td>\n",
       "      <td>Private</td>\n",
       "    </tr>\n",
       "    <tr>\n",
       "      <th>3</th>\n",
       "      <td>6</td>\n",
       "      <td>2.67</td>\n",
       "      <td>Private</td>\n",
       "    </tr>\n",
       "    <tr>\n",
       "      <th>4</th>\n",
       "      <td>7</td>\n",
       "      <td>2.00</td>\n",
       "      <td>Public</td>\n",
       "    </tr>\n",
       "  </tbody>\n",
       "</table>\n",
       "</div>"
      ],
      "text/plain": [
       "   id  relevance    Usage\n",
       "0   1      -1.00  Ignored\n",
       "1   4       2.33   Public\n",
       "2   5       2.33  Private\n",
       "3   6       2.67  Private\n",
       "4   7       2.00   Public"
      ]
     },
     "execution_count": 5,
     "metadata": {
      "tags": []
     },
     "output_type": "execute_result"
    }
   ],
   "source": [
    "test_sol = pd.read_csv('/content/gdrive/My Drive/Colab Notebooks/input/solution.csv',encoding='latin1')\n",
    "test_sol.head()"
   ]
  },
  {
   "cell_type": "markdown",
   "metadata": {
    "colab_type": "text",
    "id": "o5QyHDbp-MR0"
   },
   "source": [
    "product_descriptions.csv contains a text description of each product. We may join this table to the training or test set via the product_uid."
   ]
  },
  {
   "cell_type": "code",
   "execution_count": 6,
   "metadata": {
    "colab": {
     "base_uri": "https://localhost:8080/",
     "height": 206
    },
    "colab_type": "code",
    "id": "kly-_Lrw-MSC",
    "outputId": "5ca8fd93-d32d-407b-bc49-d080497fa81b"
   },
   "outputs": [
    {
     "data": {
      "text/html": [
       "<div>\n",
       "<style scoped>\n",
       "    .dataframe tbody tr th:only-of-type {\n",
       "        vertical-align: middle;\n",
       "    }\n",
       "\n",
       "    .dataframe tbody tr th {\n",
       "        vertical-align: top;\n",
       "    }\n",
       "\n",
       "    .dataframe thead th {\n",
       "        text-align: right;\n",
       "    }\n",
       "</style>\n",
       "<table border=\"1\" class=\"dataframe\">\n",
       "  <thead>\n",
       "    <tr style=\"text-align: right;\">\n",
       "      <th></th>\n",
       "      <th>product_uid</th>\n",
       "      <th>product_description</th>\n",
       "    </tr>\n",
       "  </thead>\n",
       "  <tbody>\n",
       "    <tr>\n",
       "      <th>0</th>\n",
       "      <td>100001</td>\n",
       "      <td>Not only do angles make joints stronger, they ...</td>\n",
       "    </tr>\n",
       "    <tr>\n",
       "      <th>1</th>\n",
       "      <td>100002</td>\n",
       "      <td>BEHR Premium Textured DECKOVER is an innovativ...</td>\n",
       "    </tr>\n",
       "    <tr>\n",
       "      <th>2</th>\n",
       "      <td>100003</td>\n",
       "      <td>Classic architecture meets contemporary design...</td>\n",
       "    </tr>\n",
       "    <tr>\n",
       "      <th>3</th>\n",
       "      <td>100004</td>\n",
       "      <td>The Grape Solar 265-Watt Polycrystalline PV So...</td>\n",
       "    </tr>\n",
       "    <tr>\n",
       "      <th>4</th>\n",
       "      <td>100005</td>\n",
       "      <td>Update your bathroom with the Delta Vero Singl...</td>\n",
       "    </tr>\n",
       "  </tbody>\n",
       "</table>\n",
       "</div>"
      ],
      "text/plain": [
       "   product_uid                                product_description\n",
       "0       100001  Not only do angles make joints stronger, they ...\n",
       "1       100002  BEHR Premium Textured DECKOVER is an innovativ...\n",
       "2       100003  Classic architecture meets contemporary design...\n",
       "3       100004  The Grape Solar 265-Watt Polycrystalline PV So...\n",
       "4       100005  Update your bathroom with the Delta Vero Singl..."
      ]
     },
     "execution_count": 6,
     "metadata": {
      "tags": []
     },
     "output_type": "execute_result"
    }
   ],
   "source": [
    "product_descriptions = pd.read_csv('/content/gdrive/My Drive/Colab Notebooks/input/product_descriptions.csv',encoding='latin1')\n",
    "product_descriptions.head()"
   ]
  },
  {
   "cell_type": "markdown",
   "metadata": {
    "colab_type": "text",
    "id": "2DlmxNyV-MS-"
   },
   "source": [
    "attributes.csv provides extended information about a subset of the products (typically representing detailed technical specifications). Not every product will have attributes."
   ]
  },
  {
   "cell_type": "code",
   "execution_count": 7,
   "metadata": {
    "colab": {
     "base_uri": "https://localhost:8080/",
     "height": 206
    },
    "colab_type": "code",
    "id": "_9ryYcng-MTE",
    "outputId": "57d2d4e8-5fef-4036-cc19-4dc687f66387"
   },
   "outputs": [
    {
     "data": {
      "text/html": [
       "<div>\n",
       "<style scoped>\n",
       "    .dataframe tbody tr th:only-of-type {\n",
       "        vertical-align: middle;\n",
       "    }\n",
       "\n",
       "    .dataframe tbody tr th {\n",
       "        vertical-align: top;\n",
       "    }\n",
       "\n",
       "    .dataframe thead th {\n",
       "        text-align: right;\n",
       "    }\n",
       "</style>\n",
       "<table border=\"1\" class=\"dataframe\">\n",
       "  <thead>\n",
       "    <tr style=\"text-align: right;\">\n",
       "      <th></th>\n",
       "      <th>product_uid</th>\n",
       "      <th>name</th>\n",
       "      <th>value</th>\n",
       "    </tr>\n",
       "  </thead>\n",
       "  <tbody>\n",
       "    <tr>\n",
       "      <th>0</th>\n",
       "      <td>100001.0</td>\n",
       "      <td>Bullet01</td>\n",
       "      <td>Versatile connector for various 90Â° connectio...</td>\n",
       "    </tr>\n",
       "    <tr>\n",
       "      <th>1</th>\n",
       "      <td>100001.0</td>\n",
       "      <td>Bullet02</td>\n",
       "      <td>Stronger than angled nailing or screw fastenin...</td>\n",
       "    </tr>\n",
       "    <tr>\n",
       "      <th>2</th>\n",
       "      <td>100001.0</td>\n",
       "      <td>Bullet03</td>\n",
       "      <td>Help ensure joints are consistently straight a...</td>\n",
       "    </tr>\n",
       "    <tr>\n",
       "      <th>3</th>\n",
       "      <td>100001.0</td>\n",
       "      <td>Bullet04</td>\n",
       "      <td>Dimensions: 3 in. x 3 in. x 1-1/2 in.</td>\n",
       "    </tr>\n",
       "    <tr>\n",
       "      <th>4</th>\n",
       "      <td>100001.0</td>\n",
       "      <td>Bullet05</td>\n",
       "      <td>Made from 12-Gauge steel</td>\n",
       "    </tr>\n",
       "  </tbody>\n",
       "</table>\n",
       "</div>"
      ],
      "text/plain": [
       "   product_uid      name                                              value\n",
       "0     100001.0  Bullet01  Versatile connector for various 90Â° connectio...\n",
       "1     100001.0  Bullet02  Stronger than angled nailing or screw fastenin...\n",
       "2     100001.0  Bullet03  Help ensure joints are consistently straight a...\n",
       "3     100001.0  Bullet04              Dimensions: 3 in. x 3 in. x 1-1/2 in.\n",
       "4     100001.0  Bullet05                           Made from 12-Gauge steel"
      ]
     },
     "execution_count": 7,
     "metadata": {
      "tags": []
     },
     "output_type": "execute_result"
    }
   ],
   "source": [
    "attributes = pd.read_csv('/content/gdrive/My Drive/Colab Notebooks/input/attributes.csv',encoding='latin1')\n",
    "attributes.head()"
   ]
  },
  {
   "cell_type": "markdown",
   "metadata": {
    "colab_type": "text",
    "id": "XWx4D8OI-MTf"
   },
   "source": [
    "Data fields:\n",
    "- id - a unique Id field which represents a (search_term, product_uid) pair\n",
    "- product_uid - an id for the products\n",
    "- product_title - the product title\n",
    "- product_description - the text description of the product (may contain HTML content)\n",
    "- search_term - the search query\n",
    "- relevance - the average of the relevance ratings for a given id\n",
    "- name - an attribute name\n",
    "- value - the attribute's value\n"
   ]
  },
  {
   "cell_type": "markdown",
   "metadata": {
    "colab_type": "text",
    "id": "OH3P79hG-MTn"
   },
   "source": [
    "## Preprocessing the data"
   ]
  },
  {
   "cell_type": "markdown",
   "metadata": {
    "colab_type": "text",
    "id": "O8MOqmXE-MTu"
   },
   "source": [
    "We would like to have the products' corresponding product description, so we will merge the train and test datasets with the product_description table.\n",
    "\n",
    "Note: in order to decrease the dimensionality of the text, we will lower the characters."
   ]
  },
  {
   "cell_type": "code",
   "execution_count": 8,
   "metadata": {
    "colab": {
     "base_uri": "https://localhost:8080/",
     "height": 206
    },
    "colab_type": "code",
    "id": "Boqw3h6t-MTy",
    "outputId": "1c7fed2e-52d0-42a2-bdc0-c348c7e78659",
    "scrolled": true
   },
   "outputs": [
    {
     "data": {
      "text/html": [
       "<div>\n",
       "<style scoped>\n",
       "    .dataframe tbody tr th:only-of-type {\n",
       "        vertical-align: middle;\n",
       "    }\n",
       "\n",
       "    .dataframe tbody tr th {\n",
       "        vertical-align: top;\n",
       "    }\n",
       "\n",
       "    .dataframe thead th {\n",
       "        text-align: right;\n",
       "    }\n",
       "</style>\n",
       "<table border=\"1\" class=\"dataframe\">\n",
       "  <thead>\n",
       "    <tr style=\"text-align: right;\">\n",
       "      <th></th>\n",
       "      <th>id</th>\n",
       "      <th>product_uid</th>\n",
       "      <th>product_title</th>\n",
       "      <th>search_term</th>\n",
       "      <th>relevance</th>\n",
       "      <th>product_description</th>\n",
       "    </tr>\n",
       "  </thead>\n",
       "  <tbody>\n",
       "    <tr>\n",
       "      <th>0</th>\n",
       "      <td>2</td>\n",
       "      <td>100001</td>\n",
       "      <td>Simpson Strong-Tie 12-Gauge Angle</td>\n",
       "      <td>angle bracket</td>\n",
       "      <td>3.00</td>\n",
       "      <td>not only do angles make joints stronger, they ...</td>\n",
       "    </tr>\n",
       "    <tr>\n",
       "      <th>1</th>\n",
       "      <td>3</td>\n",
       "      <td>100001</td>\n",
       "      <td>Simpson Strong-Tie 12-Gauge Angle</td>\n",
       "      <td>l bracket</td>\n",
       "      <td>2.50</td>\n",
       "      <td>not only do angles make joints stronger, they ...</td>\n",
       "    </tr>\n",
       "    <tr>\n",
       "      <th>2</th>\n",
       "      <td>9</td>\n",
       "      <td>100002</td>\n",
       "      <td>BEHR Premium Textured DeckOver 1-gal. #SC-141 ...</td>\n",
       "      <td>deck over</td>\n",
       "      <td>3.00</td>\n",
       "      <td>behr premium textured deckover is an innovativ...</td>\n",
       "    </tr>\n",
       "    <tr>\n",
       "      <th>3</th>\n",
       "      <td>16</td>\n",
       "      <td>100005</td>\n",
       "      <td>Delta Vero 1-Handle Shower Only Faucet Trim Ki...</td>\n",
       "      <td>rain shower head</td>\n",
       "      <td>2.33</td>\n",
       "      <td>update your bathroom with the delta vero singl...</td>\n",
       "    </tr>\n",
       "    <tr>\n",
       "      <th>4</th>\n",
       "      <td>17</td>\n",
       "      <td>100005</td>\n",
       "      <td>Delta Vero 1-Handle Shower Only Faucet Trim Ki...</td>\n",
       "      <td>shower only faucet</td>\n",
       "      <td>2.67</td>\n",
       "      <td>update your bathroom with the delta vero singl...</td>\n",
       "    </tr>\n",
       "  </tbody>\n",
       "</table>\n",
       "</div>"
      ],
      "text/plain": [
       "   id  product_uid                                      product_title  \\\n",
       "0   2       100001                  Simpson Strong-Tie 12-Gauge Angle   \n",
       "1   3       100001                  Simpson Strong-Tie 12-Gauge Angle   \n",
       "2   9       100002  BEHR Premium Textured DeckOver 1-gal. #SC-141 ...   \n",
       "3  16       100005  Delta Vero 1-Handle Shower Only Faucet Trim Ki...   \n",
       "4  17       100005  Delta Vero 1-Handle Shower Only Faucet Trim Ki...   \n",
       "\n",
       "          search_term  relevance  \\\n",
       "0       angle bracket       3.00   \n",
       "1           l bracket       2.50   \n",
       "2           deck over       3.00   \n",
       "3    rain shower head       2.33   \n",
       "4  shower only faucet       2.67   \n",
       "\n",
       "                                 product_description  \n",
       "0  not only do angles make joints stronger, they ...  \n",
       "1  not only do angles make joints stronger, they ...  \n",
       "2  behr premium textured deckover is an innovativ...  \n",
       "3  update your bathroom with the delta vero singl...  \n",
       "4  update your bathroom with the delta vero singl...  "
      ]
     },
     "execution_count": 8,
     "metadata": {
      "tags": []
     },
     "output_type": "execute_result"
    }
   ],
   "source": [
    "mergedTrain = pd.merge(train, product_descriptions, how='inner', on='product_uid')\n",
    "mergedTrain.search_term = mergedTrain.search_term.apply(lambda x: x.lower())\n",
    "mergedTrain.product_description = mergedTrain.product_description.apply(lambda x: x.lower())\n",
    "\n",
    "mergedTrain.head()"
   ]
  },
  {
   "cell_type": "code",
   "execution_count": 9,
   "metadata": {
    "colab": {
     "base_uri": "https://localhost:8080/",
     "height": 206
    },
    "colab_type": "code",
    "id": "AG8ijy_k-MT9",
    "outputId": "aac0c3be-a802-407d-89b1-85a8a21631e7"
   },
   "outputs": [
    {
     "data": {
      "text/html": [
       "<div>\n",
       "<style scoped>\n",
       "    .dataframe tbody tr th:only-of-type {\n",
       "        vertical-align: middle;\n",
       "    }\n",
       "\n",
       "    .dataframe tbody tr th {\n",
       "        vertical-align: top;\n",
       "    }\n",
       "\n",
       "    .dataframe thead th {\n",
       "        text-align: right;\n",
       "    }\n",
       "</style>\n",
       "<table border=\"1\" class=\"dataframe\">\n",
       "  <thead>\n",
       "    <tr style=\"text-align: right;\">\n",
       "      <th></th>\n",
       "      <th>id</th>\n",
       "      <th>product_uid</th>\n",
       "      <th>product_title</th>\n",
       "      <th>search_term</th>\n",
       "      <th>product_description</th>\n",
       "    </tr>\n",
       "  </thead>\n",
       "  <tbody>\n",
       "    <tr>\n",
       "      <th>0</th>\n",
       "      <td>1</td>\n",
       "      <td>100001</td>\n",
       "      <td>Simpson Strong-Tie 12-Gauge Angle</td>\n",
       "      <td>90 degree bracket</td>\n",
       "      <td>not only do angles make joints stronger, they ...</td>\n",
       "    </tr>\n",
       "    <tr>\n",
       "      <th>1</th>\n",
       "      <td>4</td>\n",
       "      <td>100001</td>\n",
       "      <td>Simpson Strong-Tie 12-Gauge Angle</td>\n",
       "      <td>metal l brackets</td>\n",
       "      <td>not only do angles make joints stronger, they ...</td>\n",
       "    </tr>\n",
       "    <tr>\n",
       "      <th>2</th>\n",
       "      <td>5</td>\n",
       "      <td>100001</td>\n",
       "      <td>Simpson Strong-Tie 12-Gauge Angle</td>\n",
       "      <td>simpson sku able</td>\n",
       "      <td>not only do angles make joints stronger, they ...</td>\n",
       "    </tr>\n",
       "    <tr>\n",
       "      <th>3</th>\n",
       "      <td>6</td>\n",
       "      <td>100001</td>\n",
       "      <td>Simpson Strong-Tie 12-Gauge Angle</td>\n",
       "      <td>simpson strong  ties</td>\n",
       "      <td>not only do angles make joints stronger, they ...</td>\n",
       "    </tr>\n",
       "    <tr>\n",
       "      <th>4</th>\n",
       "      <td>7</td>\n",
       "      <td>100001</td>\n",
       "      <td>Simpson Strong-Tie 12-Gauge Angle</td>\n",
       "      <td>simpson strong tie hcc668</td>\n",
       "      <td>not only do angles make joints stronger, they ...</td>\n",
       "    </tr>\n",
       "  </tbody>\n",
       "</table>\n",
       "</div>"
      ],
      "text/plain": [
       "   id  product_uid                      product_title  \\\n",
       "0   1       100001  Simpson Strong-Tie 12-Gauge Angle   \n",
       "1   4       100001  Simpson Strong-Tie 12-Gauge Angle   \n",
       "2   5       100001  Simpson Strong-Tie 12-Gauge Angle   \n",
       "3   6       100001  Simpson Strong-Tie 12-Gauge Angle   \n",
       "4   7       100001  Simpson Strong-Tie 12-Gauge Angle   \n",
       "\n",
       "                 search_term  \\\n",
       "0          90 degree bracket   \n",
       "1           metal l brackets   \n",
       "2           simpson sku able   \n",
       "3       simpson strong  ties   \n",
       "4  simpson strong tie hcc668   \n",
       "\n",
       "                                 product_description  \n",
       "0  not only do angles make joints stronger, they ...  \n",
       "1  not only do angles make joints stronger, they ...  \n",
       "2  not only do angles make joints stronger, they ...  \n",
       "3  not only do angles make joints stronger, they ...  \n",
       "4  not only do angles make joints stronger, they ...  "
      ]
     },
     "execution_count": 9,
     "metadata": {
      "tags": []
     },
     "output_type": "execute_result"
    }
   ],
   "source": [
    "mergedTest= pd.merge(test, product_descriptions, how='inner', on='product_uid')\n",
    "mergedTest.search_term = mergedTest.search_term.apply(lambda x: x.lower())\n",
    "mergedTest.product_description = mergedTest.product_description.apply(lambda x: x.lower())\n",
    "\n",
    "mergedTest.head()"
   ]
  },
  {
   "cell_type": "markdown",
   "metadata": {
    "colab_type": "text",
    "id": "nT0BmvrG-MUE"
   },
   "source": [
    "We convert the product_description and search_term attributes' values to lists of characters."
   ]
  },
  {
   "cell_type": "code",
   "execution_count": 0,
   "metadata": {
    "colab": {},
    "colab_type": "code",
    "id": "MVcxj3yH-MUF"
   },
   "outputs": [],
   "source": [
    "search_term_chars = []\n",
    "product_description_chars = []\n",
    "search_term_chars = mergedTrain.search_term.apply(lambda x: search_term_chars + list(x))\n",
    "product_description_chars = mergedTrain.product_description.apply(lambda x: product_description_chars + list(x))\n",
    "search_term_chars = [item for sublist in search_term_chars for item in sublist]\n",
    "product_description_chars = [item for sublist in product_description_chars for item in sublist]\n"
   ]
  },
  {
   "cell_type": "markdown",
   "metadata": {
    "colab_type": "text",
    "id": "6I0gPihE-MUQ"
   },
   "source": [
    "And then, translate the characters to a unique integer values. We create two dictionaries (one for search_term and another for product_description), containing the pairs of characters and their uniquie values. "
   ]
  },
  {
   "cell_type": "code",
   "execution_count": 0,
   "metadata": {
    "colab": {},
    "colab_type": "code",
    "id": "p2pdGCwJ-MUS"
   },
   "outputs": [],
   "source": [
    "search_term_char_set = sorted(set(search_term_chars))\n",
    "product_description_char_set = sorted(set(product_description_chars))\n",
    "\n",
    "# translate from character to number, it's enumerator\n",
    "search_term_char_to_int = dict((c, i) for i, c in enumerate(search_term_char_set))\n",
    "search_term_int_to_char = dict((i, c) for i, c in enumerate(search_term_char_set))\n",
    "product_description_char_to_int = dict((c, i) for i, c in enumerate(product_description_char_set))\n",
    "product_description_int_to_char = dict((i, c) for i, c in enumerate(product_description_char_set))"
   ]
  },
  {
   "cell_type": "code",
   "execution_count": 12,
   "metadata": {
    "colab": {
     "base_uri": "https://localhost:8080/",
     "height": 90
    },
    "colab_type": "code",
    "id": "xRlcIGMS-MUa",
    "outputId": "aaedc1d3-537a-495b-ebb4-5b6ca769edb1"
   },
   "outputs": [
    {
     "name": "stdout",
     "output_type": "stream",
     "text": [
      "search_term Total Characters:  1407926\n",
      "search_term Total Vocab:  51\n",
      "product_description Total Characters:  65598457\n",
      "product_description Total Vocab:  67\n"
     ]
    }
   ],
   "source": [
    "# summarize the loaded data\n",
    "n_chars = len(search_term_chars)\n",
    "n_vocab = len(search_term_char_set)\n",
    "print(\"search_term Total Characters: \", n_chars)\n",
    "print(\"search_term Total Vocab: \", n_vocab)\n",
    "\n",
    "n_chars2 = len(product_description_chars)\n",
    "n_vocab2 = len(product_description_char_set)\n",
    "print(\"product_description Total Characters: \", n_chars2)\n",
    "print(\"product_description Total Vocab: \", n_vocab2)"
   ]
  },
  {
   "cell_type": "code",
   "execution_count": 13,
   "metadata": {
    "colab": {
     "base_uri": "https://localhost:8080/",
     "height": 206
    },
    "colab_type": "code",
    "id": "qNnrXX4O-MUk",
    "outputId": "e4c44416-b9bc-4b70-b33e-4ab1811ab3a4"
   },
   "outputs": [
    {
     "data": {
      "text/html": [
       "<div>\n",
       "<style scoped>\n",
       "    .dataframe tbody tr th:only-of-type {\n",
       "        vertical-align: middle;\n",
       "    }\n",
       "\n",
       "    .dataframe tbody tr th {\n",
       "        vertical-align: top;\n",
       "    }\n",
       "\n",
       "    .dataframe thead th {\n",
       "        text-align: right;\n",
       "    }\n",
       "</style>\n",
       "<table border=\"1\" class=\"dataframe\">\n",
       "  <thead>\n",
       "    <tr style=\"text-align: right;\">\n",
       "      <th></th>\n",
       "      <th>id</th>\n",
       "      <th>product_uid</th>\n",
       "      <th>product_title</th>\n",
       "      <th>search_term</th>\n",
       "      <th>relevance</th>\n",
       "      <th>product_description</th>\n",
       "    </tr>\n",
       "  </thead>\n",
       "  <tbody>\n",
       "    <tr>\n",
       "      <th>0</th>\n",
       "      <td>2</td>\n",
       "      <td>100001</td>\n",
       "      <td>Simpson Strong-Tie 12-Gauge Angle</td>\n",
       "      <td>[a, n, g, l, e,  , b, r, a, c, k, e, t]</td>\n",
       "      <td>3.00</td>\n",
       "      <td>[n, o, t,  , o, n, l, y,  , d, o,  , a, n, g, ...</td>\n",
       "    </tr>\n",
       "    <tr>\n",
       "      <th>1</th>\n",
       "      <td>3</td>\n",
       "      <td>100001</td>\n",
       "      <td>Simpson Strong-Tie 12-Gauge Angle</td>\n",
       "      <td>[l,  , b, r, a, c, k, e, t]</td>\n",
       "      <td>2.50</td>\n",
       "      <td>[n, o, t,  , o, n, l, y,  , d, o,  , a, n, g, ...</td>\n",
       "    </tr>\n",
       "    <tr>\n",
       "      <th>2</th>\n",
       "      <td>9</td>\n",
       "      <td>100002</td>\n",
       "      <td>BEHR Premium Textured DeckOver 1-gal. #SC-141 ...</td>\n",
       "      <td>[d, e, c, k,  , o, v, e, r]</td>\n",
       "      <td>3.00</td>\n",
       "      <td>[b, e, h, r,  , p, r, e, m, i, u, m,  , t, e, ...</td>\n",
       "    </tr>\n",
       "    <tr>\n",
       "      <th>3</th>\n",
       "      <td>16</td>\n",
       "      <td>100005</td>\n",
       "      <td>Delta Vero 1-Handle Shower Only Faucet Trim Ki...</td>\n",
       "      <td>[r, a, i, n,  , s, h, o, w, e, r,  , h, e, a, d]</td>\n",
       "      <td>2.33</td>\n",
       "      <td>[u, p, d, a, t, e,  , y, o, u, r,  , b, a, t, ...</td>\n",
       "    </tr>\n",
       "    <tr>\n",
       "      <th>4</th>\n",
       "      <td>17</td>\n",
       "      <td>100005</td>\n",
       "      <td>Delta Vero 1-Handle Shower Only Faucet Trim Ki...</td>\n",
       "      <td>[s, h, o, w, e, r,  , o, n, l, y,  , f, a, u, ...</td>\n",
       "      <td>2.67</td>\n",
       "      <td>[u, p, d, a, t, e,  , y, o, u, r,  , b, a, t, ...</td>\n",
       "    </tr>\n",
       "  </tbody>\n",
       "</table>\n",
       "</div>"
      ],
      "text/plain": [
       "   id  product_uid                                      product_title  \\\n",
       "0   2       100001                  Simpson Strong-Tie 12-Gauge Angle   \n",
       "1   3       100001                  Simpson Strong-Tie 12-Gauge Angle   \n",
       "2   9       100002  BEHR Premium Textured DeckOver 1-gal. #SC-141 ...   \n",
       "3  16       100005  Delta Vero 1-Handle Shower Only Faucet Trim Ki...   \n",
       "4  17       100005  Delta Vero 1-Handle Shower Only Faucet Trim Ki...   \n",
       "\n",
       "                                         search_term  relevance  \\\n",
       "0            [a, n, g, l, e,  , b, r, a, c, k, e, t]       3.00   \n",
       "1                        [l,  , b, r, a, c, k, e, t]       2.50   \n",
       "2                        [d, e, c, k,  , o, v, e, r]       3.00   \n",
       "3   [r, a, i, n,  , s, h, o, w, e, r,  , h, e, a, d]       2.33   \n",
       "4  [s, h, o, w, e, r,  , o, n, l, y,  , f, a, u, ...       2.67   \n",
       "\n",
       "                                 product_description  \n",
       "0  [n, o, t,  , o, n, l, y,  , d, o,  , a, n, g, ...  \n",
       "1  [n, o, t,  , o, n, l, y,  , d, o,  , a, n, g, ...  \n",
       "2  [b, e, h, r,  , p, r, e, m, i, u, m,  , t, e, ...  \n",
       "3  [u, p, d, a, t, e,  , y, o, u, r,  , b, a, t, ...  \n",
       "4  [u, p, d, a, t, e,  , y, o, u, r,  , b, a, t, ...  "
      ]
     },
     "execution_count": 13,
     "metadata": {
      "tags": []
     },
     "output_type": "execute_result"
    }
   ],
   "source": [
    "mergedTrain.search_term = mergedTrain.search_term.apply(lambda x: list(x))\n",
    "mergedTrain.product_description = mergedTrain.product_description.apply(lambda x: list(x))\n",
    "mergedTrain.head()"
   ]
  },
  {
   "cell_type": "markdown",
   "metadata": {
    "colab_type": "text",
    "id": "dqacim7ORVOY"
   },
   "source": [
    "We would like to turn the search_term and the product_description into sequences of unique integers."
   ]
  },
  {
   "cell_type": "code",
   "execution_count": 0,
   "metadata": {
    "colab": {},
    "colab_type": "code",
    "id": "FG0e7bN_-MUv"
   },
   "outputs": [],
   "source": [
    "def createData(char_to_int, char_arr):\n",
    "    #seq_length = 100\n",
    "    dataX = []\n",
    "    for i in range(0,len(char_arr)):\n",
    "        dataX.append(char_to_int[char_arr[i]])\n",
    "    return np.asarray(dataX)"
   ]
  },
  {
   "cell_type": "code",
   "execution_count": 15,
   "metadata": {
    "colab": {
     "base_uri": "https://localhost:8080/",
     "height": 206
    },
    "colab_type": "code",
    "id": "xwnz8Nmb-MU-",
    "outputId": "efda5a41-543d-400d-fa7e-a6b90a8b86b5"
   },
   "outputs": [
    {
     "data": {
      "text/html": [
       "<div>\n",
       "<style scoped>\n",
       "    .dataframe tbody tr th:only-of-type {\n",
       "        vertical-align: middle;\n",
       "    }\n",
       "\n",
       "    .dataframe tbody tr th {\n",
       "        vertical-align: top;\n",
       "    }\n",
       "\n",
       "    .dataframe thead th {\n",
       "        text-align: right;\n",
       "    }\n",
       "</style>\n",
       "<table border=\"1\" class=\"dataframe\">\n",
       "  <thead>\n",
       "    <tr style=\"text-align: right;\">\n",
       "      <th></th>\n",
       "      <th>id</th>\n",
       "      <th>product_uid</th>\n",
       "      <th>product_title</th>\n",
       "      <th>search_term</th>\n",
       "      <th>relevance</th>\n",
       "      <th>product_description</th>\n",
       "    </tr>\n",
       "  </thead>\n",
       "  <tbody>\n",
       "    <tr>\n",
       "      <th>0</th>\n",
       "      <td>2</td>\n",
       "      <td>100001</td>\n",
       "      <td>Simpson Strong-Tie 12-Gauge Angle</td>\n",
       "      <td>[24, 37, 30, 35, 28, 0, 25, 41, 24, 26, 34, 28...</td>\n",
       "      <td>3.00</td>\n",
       "      <td>[52, 53, 58, 0, 53, 52, 50, 63, 0, 42, 53, 0, ...</td>\n",
       "    </tr>\n",
       "    <tr>\n",
       "      <th>1</th>\n",
       "      <td>3</td>\n",
       "      <td>100001</td>\n",
       "      <td>Simpson Strong-Tie 12-Gauge Angle</td>\n",
       "      <td>[35, 0, 25, 41, 24, 26, 34, 28, 43]</td>\n",
       "      <td>2.50</td>\n",
       "      <td>[52, 53, 58, 0, 53, 52, 50, 63, 0, 42, 53, 0, ...</td>\n",
       "    </tr>\n",
       "    <tr>\n",
       "      <th>2</th>\n",
       "      <td>9</td>\n",
       "      <td>100002</td>\n",
       "      <td>BEHR Premium Textured DeckOver 1-gal. #SC-141 ...</td>\n",
       "      <td>[27, 28, 26, 34, 0, 38, 45, 28, 41]</td>\n",
       "      <td>3.00</td>\n",
       "      <td>[40, 43, 46, 56, 0, 54, 56, 43, 51, 47, 59, 51...</td>\n",
       "    </tr>\n",
       "    <tr>\n",
       "      <th>3</th>\n",
       "      <td>16</td>\n",
       "      <td>100005</td>\n",
       "      <td>Delta Vero 1-Handle Shower Only Faucet Trim Ki...</td>\n",
       "      <td>[41, 24, 32, 37, 0, 42, 31, 38, 46, 28, 41, 0,...</td>\n",
       "      <td>2.33</td>\n",
       "      <td>[59, 54, 42, 39, 58, 43, 0, 63, 53, 59, 56, 0,...</td>\n",
       "    </tr>\n",
       "    <tr>\n",
       "      <th>4</th>\n",
       "      <td>17</td>\n",
       "      <td>100005</td>\n",
       "      <td>Delta Vero 1-Handle Shower Only Faucet Trim Ki...</td>\n",
       "      <td>[42, 31, 38, 46, 28, 41, 0, 38, 37, 35, 48, 0,...</td>\n",
       "      <td>2.67</td>\n",
       "      <td>[59, 54, 42, 39, 58, 43, 0, 63, 53, 59, 56, 0,...</td>\n",
       "    </tr>\n",
       "  </tbody>\n",
       "</table>\n",
       "</div>"
      ],
      "text/plain": [
       "   id  product_uid                                      product_title  \\\n",
       "0   2       100001                  Simpson Strong-Tie 12-Gauge Angle   \n",
       "1   3       100001                  Simpson Strong-Tie 12-Gauge Angle   \n",
       "2   9       100002  BEHR Premium Textured DeckOver 1-gal. #SC-141 ...   \n",
       "3  16       100005  Delta Vero 1-Handle Shower Only Faucet Trim Ki...   \n",
       "4  17       100005  Delta Vero 1-Handle Shower Only Faucet Trim Ki...   \n",
       "\n",
       "                                         search_term  relevance  \\\n",
       "0  [24, 37, 30, 35, 28, 0, 25, 41, 24, 26, 34, 28...       3.00   \n",
       "1                [35, 0, 25, 41, 24, 26, 34, 28, 43]       2.50   \n",
       "2                [27, 28, 26, 34, 0, 38, 45, 28, 41]       3.00   \n",
       "3  [41, 24, 32, 37, 0, 42, 31, 38, 46, 28, 41, 0,...       2.33   \n",
       "4  [42, 31, 38, 46, 28, 41, 0, 38, 37, 35, 48, 0,...       2.67   \n",
       "\n",
       "                                 product_description  \n",
       "0  [52, 53, 58, 0, 53, 52, 50, 63, 0, 42, 53, 0, ...  \n",
       "1  [52, 53, 58, 0, 53, 52, 50, 63, 0, 42, 53, 0, ...  \n",
       "2  [40, 43, 46, 56, 0, 54, 56, 43, 51, 47, 59, 51...  \n",
       "3  [59, 54, 42, 39, 58, 43, 0, 63, 53, 59, 56, 0,...  \n",
       "4  [59, 54, 42, 39, 58, 43, 0, 63, 53, 59, 56, 0,...  "
      ]
     },
     "execution_count": 15,
     "metadata": {
      "tags": []
     },
     "output_type": "execute_result"
    }
   ],
   "source": [
    "mergedTrain.search_term = mergedTrain.search_term.apply(lambda x: createData(search_term_char_to_int, x))\n",
    "mergedTrain.product_description = mergedTrain.product_description.apply(lambda x: createData(product_description_char_to_int, x))\n",
    "mergedTrain.head()\n"
   ]
  },
  {
   "cell_type": "markdown",
   "metadata": {
    "colab_type": "text",
    "id": "htvjGJp2RVO1"
   },
   "source": [
    "## The target value - relevance\n",
    "\n",
    "Each pair was evaluated by at least three human raters. The provided relevance scores are the average value of the ratings. Thus, we would like to see the number of unique values, between 1 and 3. There are 13 unique relevance values in the data sample. We could address the problem as a classification problem, but we want to address the distance from the maximum relevance value, so we will treat this as a regression problem."
   ]
  },
  {
   "cell_type": "code",
   "execution_count": 16,
   "metadata": {
    "colab": {
     "base_uri": "https://localhost:8080/",
     "height": 267
    },
    "colab_type": "code",
    "id": "ovjlzjBI96a1",
    "outputId": "352e0f0f-f417-4d88-e686-a6518e1c7481"
   },
   "outputs": [
    {
     "data": {
      "image/png": "[encoded data removed]",
      "text/plain": [
       "<Figure size 432x288 with 1 Axes>"
      ]
     },
     "metadata": {
      "tags": []
     },
     "output_type": "display_data"
    }
   ],
   "source": [
    "plt.hist(np.unique(mergedTrain.relevance.values),density=True, histtype='bar')\n",
    "plt.show()"
   ]
  },
  {
   "cell_type": "code",
   "execution_count": 17,
   "metadata": {
    "colab": {
     "base_uri": "https://localhost:8080/",
     "height": 35
    },
    "colab_type": "code",
    "id": "Jonu-0k7_zkJ",
    "outputId": "eb9e76a0-76ab-4f0d-f123-35d39df69b1e"
   },
   "outputs": [
    {
     "data": {
      "text/plain": [
       "13"
      ]
     },
     "execution_count": 17,
     "metadata": {
      "tags": []
     },
     "output_type": "execute_result"
    }
   ],
   "source": [
    "np.unique(mergedTrain.relevance.values).size\n",
    "          "
   ]
  },
  {
   "cell_type": "markdown",
   "metadata": {
    "colab_type": "text",
    "id": "0Yn2kRsfRVPL"
   },
   "source": [
    "In order to predict the relevance values we need to preprocess the values, and change the range from 1 - 3, to 0 - 1. We want to see the maximum length of each column - the search_term and product_description. We try to limit the char sequences to 75 chars as in the same manner as characters, the lengths of the sequences must be the same in order to unite the data in specified part of the network to enable predictions based on both of these inputs. We also want to see the max sizes of sequences in each column to find the optimal value that will get enough data from both columns."
   ]
  },
  {
   "cell_type": "code",
   "execution_count": 18,
   "metadata": {
    "colab": {
     "base_uri": "https://localhost:8080/",
     "height": 109
    },
    "colab_type": "code",
    "id": "1XvHxr8U-MVI",
    "outputId": "30afa306-4e6a-4204-d9d8-d20ebad3a39e"
   },
   "outputs": [
    {
     "data": {
      "text/plain": [
       "array([[1.   ],\n",
       "       [0.75 ],\n",
       "       [1.   ],\n",
       "       [0.665],\n",
       "       [0.835]])"
      ]
     },
     "execution_count": 18,
     "metadata": {
      "tags": []
     },
     "output_type": "execute_result"
    }
   ],
   "source": [
    "from sklearn import preprocessing\n",
    "\n",
    "target = mergedTrain['relevance'].values\n",
    "min_max_scaler = preprocessing.MinMaxScaler()\n",
    "Y = min_max_scaler.fit_transform(target.reshape(-1, 1))\n",
    "\n",
    "Y[:5]\n"
   ]
  },
  {
   "cell_type": "code",
   "execution_count": 0,
   "metadata": {
    "colab": {},
    "colab_type": "code",
    "id": "1ZXo6K1w-MVV"
   },
   "outputs": [],
   "source": [
    "X1 = mergedTrain['search_term'].values\n",
    "X2 = mergedTrain['product_description'].values\n"
   ]
  },
  {
   "cell_type": "code",
   "execution_count": 0,
   "metadata": {
    "colab": {},
    "colab_type": "code",
    "id": "QHeLb30d-MVg"
   },
   "outputs": [],
   "source": [
    "search_terms_lens = []\n",
    "for element in mergedTrain['search_term'].values:\n",
    "    search_terms_lens.append(len(element))\n",
    "    \n",
    "product_description_lens = []\n",
    "for element in mergedTrain['product_description'].values:\n",
    "    product_description_lens.append(len(element))\n",
    "    \n",
    "max_length1 = max(search_terms_lens)\n",
    "max_length2 = max(product_description_lens)\n"
   ]
  },
  {
   "cell_type": "markdown",
   "metadata": {
    "colab_type": "text",
    "id": "0mX69mX2RVP0"
   },
   "source": [
    "After trying a few options, we choose the maximum lenght of the sequences to be 75 integers, in order to yield better results. Sequences that are shorter, will be padded in order to meet this lenght. "
   ]
  },
  {
   "cell_type": "code",
   "execution_count": 0,
   "metadata": {
    "colab": {},
    "colab_type": "code",
    "id": "SRq6AFLA-MVk"
   },
   "outputs": [],
   "source": [
    "max_length = 50\n",
    "\n",
    "def padding(seq, length):\n",
    "    ans = []\n",
    "    for i in range(0,min(len(seq),length)):\n",
    "        ans.append(seq[i])\n",
    "    if len(seq) <= length:\n",
    "        for i in range(0,length-len(seq)):\n",
    "            ans.append(0)\n",
    "    return ans\n",
    "\n",
    "X1 = np.asarray([padding(x,max_length) for x in X1])\n",
    "X2 = np.asarray([padding(x,max_length) for x in X2])\n",
    "X1 = X1.reshape(X1.shape[0],X1.shape[1],1)\n",
    "X2 = X2.reshape(X2.shape[0],X2.shape[1],1)"
   ]
  },
  {
   "cell_type": "code",
   "execution_count": 0,
   "metadata": {
    "colab": {},
    "colab_type": "code",
    "id": "DXbFfj_BM1FI"
   },
   "outputs": [],
   "source": [
    "X1 = X1.astype(np.float32)\n",
    "X2 = X2.astype(np.float32)"
   ]
  },
  {
   "cell_type": "code",
   "execution_count": 23,
   "metadata": {
    "colab": {
     "base_uri": "https://localhost:8080/",
     "height": 54
    },
    "colab_type": "code",
    "id": "UwnIr1XLDdUv",
    "outputId": "cd569444-0db5-466a-eeec-52ee21553400"
   },
   "outputs": [
    {
     "name": "stdout",
     "output_type": "stream",
     "text": [
      "(74067, 50, 1)\n",
      "(74067, 50, 1)\n"
     ]
    }
   ],
   "source": [
    "print(X1.shape)\n",
    "print(X2.shape)"
   ]
  },
  {
   "cell_type": "markdown",
   "metadata": {
    "colab_type": "text",
    "id": "Lw4ehAAQRVQO"
   },
   "source": [
    "This is the input that we insert into the model."
   ]
  },
  {
   "cell_type": "markdown",
   "metadata": {
    "colab_type": "text",
    "id": "5asiCyByRVQP"
   },
   "source": [
    "## Building the model\n",
    "\n",
    "Here we create a siamese model. Siamese neural network is a class of neural network architectures that contain two or more identical subnetworks and a contrastive loss function joining them. Identical here means they have the same configuration with the same parameters and weights. Parameter updating is mirrored across both subnetworks.\n",
    "\n",
    "Our model also includes an LSTM and a Dense layers.\n",
    "\n",
    "As for the function, we will use the negative manhattan distance. The Manhattan distance between two items is the sum of the differences of their corresponding components.\n",
    "\n",
    "Our optimizer here is Adadelta, which is a more robust extension of Adagrad that adapts learning rates based on a moving window of gradient updates, instead of accumulating all past gradients. This way, Adadelta continues learning even when many updates have been done. "
   ]
  },
  {
   "cell_type": "code",
   "execution_count": 0,
   "metadata": {
    "colab": {},
    "colab_type": "code",
    "id": "KWrg7kIp-MVs"
   },
   "outputs": [],
   "source": [
    "st_input = Input(shape=(max_length,1), name='st_input',dtype='float32')\n",
    "pd_input = Input(shape=(max_length,1), name='pd_input',dtype='float32')\n",
    "\n",
    "\n",
    "def createModel():\n",
    "    model = Sequential()\n",
    "    model.add(LSTM(40))\n",
    "    model.add(Dense(40, activation='relu'))\n",
    "    return model"
   ]
  },
  {
   "cell_type": "code",
   "execution_count": 25,
   "metadata": {
    "colab": {
     "base_uri": "https://localhost:8080/",
     "height": 109
    },
    "colab_type": "code",
    "id": "1P5CErP3-MVy",
    "outputId": "7f5cb823-0024-474f-fab5-b618d7630e0a"
   },
   "outputs": [
    {
     "name": "stdout",
     "output_type": "stream",
     "text": [
      "WARNING:tensorflow:From /usr/local/lib/python3.6/dist-packages/tensorflow/python/framework/op_def_library.py:263: colocate_with (from tensorflow.python.framework.ops) is deprecated and will be removed in a future version.\n",
      "Instructions for updating:\n",
      "Colocations handled automatically by placer.\n"
     ]
    },
    {
     "name": "stderr",
     "output_type": "stream",
     "text": [
      "/usr/local/lib/python3.6/dist-packages/ipykernel_launcher.py:11: UserWarning: Update your `Model` call to the Keras 2 API: `Model(inputs=[<tf.Tenso..., outputs=[<tf.Tenso...)`\n",
      "  # This is added back by InteractiveShellApp.init_path()\n"
     ]
    }
   ],
   "source": [
    "from keras.optimizers import Adadelta\n",
    "\n",
    "st_model = createModel()\n",
    "pd_model = createModel()\n",
    "\n",
    "\n",
    "def createSiameseModel(model1,model2,customLoss):\n",
    "  out = Lambda(function=lambda x: K.exp(-K.sum(K.abs(x[0]-x[1]), axis=1, keepdims=True)),\n",
    "                output_shape=lambda x: (x[0][0], 1),\n",
    "                name='prediction')([model1(st_input), model2(pd_input)])\n",
    "  siamese_net = Model(input=[st_input,pd_input],output=[out])\n",
    "  siamese_net.compile(loss=customLoss,optimizer=Adadelta(lr=1.0, rho=0.95,clipnorm=1.20))\n",
    "  return siamese_net\n",
    "\n",
    "siamese_net1 = createSiameseModel(st_model,pd_model,'mse')\n",
    "siamese_net2 = createSiameseModel(st_model,pd_model,'mae')\n"
   ]
  },
  {
   "cell_type": "code",
   "execution_count": 26,
   "metadata": {
    "colab": {
     "base_uri": "https://localhost:8080/",
     "height": 219
    },
    "colab_type": "code",
    "id": "gGKY0Jg83jqr",
    "outputId": "7354bc9b-c0f5-481e-b421-94b9491936ba"
   },
   "outputs": [
    {
     "name": "stdout",
     "output_type": "stream",
     "text": [
      "_________________________________________________________________\n",
      "Layer (type)                 Output Shape              Param #   \n",
      "=================================================================\n",
      "lstm_1 (LSTM)                (None, 40)                6720      \n",
      "_________________________________________________________________\n",
      "dense_1 (Dense)              (None, 40)                1640      \n",
      "=================================================================\n",
      "Total params: 8,360\n",
      "Trainable params: 8,360\n",
      "Non-trainable params: 0\n",
      "_________________________________________________________________\n"
     ]
    }
   ],
   "source": [
    "st_model.summary()"
   ]
  },
  {
   "cell_type": "code",
   "execution_count": 27,
   "metadata": {
    "colab": {
     "base_uri": "https://localhost:8080/",
     "height": 348
    },
    "colab_type": "code",
    "id": "YACG1GiJ-MWC",
    "outputId": "a1b8f492-9441-4d8d-fc0f-262db6715f76"
   },
   "outputs": [
    {
     "name": "stdout",
     "output_type": "stream",
     "text": [
      "__________________________________________________________________________________________________\n",
      "Layer (type)                    Output Shape         Param #     Connected to                     \n",
      "==================================================================================================\n",
      "st_input (InputLayer)           (None, 50, 1)        0                                            \n",
      "__________________________________________________________________________________________________\n",
      "pd_input (InputLayer)           (None, 50, 1)        0                                            \n",
      "__________________________________________________________________________________________________\n",
      "sequential_1 (Sequential)       (None, 40)           8360        st_input[0][0]                   \n",
      "__________________________________________________________________________________________________\n",
      "sequential_2 (Sequential)       (None, 40)           8360        pd_input[0][0]                   \n",
      "__________________________________________________________________________________________________\n",
      "prediction (Lambda)             (None, 1)            0           sequential_1[1][0]               \n",
      "                                                                 sequential_2[1][0]               \n",
      "==================================================================================================\n",
      "Total params: 16,720\n",
      "Trainable params: 16,720\n",
      "Non-trainable params: 0\n",
      "__________________________________________________________________________________________________\n"
     ]
    }
   ],
   "source": [
    "siamese_net1.summary()"
   ]
  },
  {
   "cell_type": "markdown",
   "metadata": {
    "colab_type": "text",
    "id": "CO1z5w0pRVQ-"
   },
   "source": [
    "We have a good amount of trainable parameters. "
   ]
  },
  {
   "cell_type": "code",
   "execution_count": 0,
   "metadata": {
    "colab": {},
    "colab_type": "code",
    "id": "D5nCWY89-MWP"
   },
   "outputs": [],
   "source": [
    "X1_train,X1_val,X2_train,X2_val,Y_train, Y_val = train_test_split(X1,X2,Y,test_size = 0.2)\n"
   ]
  },
  {
   "cell_type": "markdown",
   "metadata": {
    "colab_type": "text",
    "id": "q2grAcgMRVRC"
   },
   "source": [
    "We split the data into train and validation/test sets. We choose the validation to be 20% of the entire data. \n",
    "\n",
    "We save the model weights that are best, in order to use them later for feature extraction without the need to train the model again. "
   ]
  },
  {
   "cell_type": "code",
   "execution_count": 0,
   "metadata": {
    "colab": {},
    "colab_type": "code",
    "id": "uN8i5wFE-MWU"
   },
   "outputs": [],
   "source": [
    "from keras.callbacks import *\n",
    "\n",
    "path = 'gdrive/My Drive/Colab Notebooks'\n",
    "def set_callbacks(description='run1',patience=15,tb_base_logdir='./logs/'):\n",
    "    cp = ModelCheckpoint(path + '/best_model_weights_char.h5'.format(description),save_best_only=True)\n",
    "    rlop = ReduceLROnPlateau(patience=5)   \n",
    "    cb = [cp,rlop]\n",
    "    return cb"
   ]
  },
  {
   "cell_type": "markdown",
   "metadata": {
    "colab_type": "text",
    "id": "8X-I5MjURVRK"
   },
   "source": [
    "### Here we train the model: "
   ]
  },
  {
   "cell_type": "markdown",
   "metadata": {
    "colab_type": "text",
    "id": "shNYvEnu1c1v"
   },
   "source": [
    "We trained the model for 5 epochs here which is a relatively small amount. The reason for that is that in our previous attempts, when traning the model for more epochs, we didn't see a significant improvemnet in the accuracy of the model. "
   ]
  },
  {
   "cell_type": "code",
   "execution_count": 30,
   "metadata": {
    "colab": {
     "base_uri": "https://localhost:8080/",
     "height": 274
    },
    "colab_type": "code",
    "id": "w5adk4qt-MWY",
    "outputId": "b174190c-2a88-40da-9a06-5647714fc344"
   },
   "outputs": [
    {
     "name": "stdout",
     "output_type": "stream",
     "text": [
      "WARNING:tensorflow:From /usr/local/lib/python3.6/dist-packages/tensorflow/python/ops/math_ops.py:3066: to_int32 (from tensorflow.python.ops.math_ops) is deprecated and will be removed in a future version.\n",
      "Instructions for updating:\n",
      "Use tf.cast instead.\n",
      "Train on 59253 samples, validate on 14814 samples\n",
      "Epoch 1/5\n",
      "59253/59253 [==============================] - 27s 454us/step - loss: 0.1910 - val_loss: 0.0733\n",
      "Epoch 2/5\n",
      "59253/59253 [==============================] - 25s 429us/step - loss: 0.0721 - val_loss: 0.0716\n",
      "Epoch 3/5\n",
      "59253/59253 [==============================] - 25s 425us/step - loss: 0.0713 - val_loss: 0.0716\n",
      "Epoch 4/5\n",
      "59253/59253 [==============================] - 25s 426us/step - loss: 0.0712 - val_loss: 0.0715\n",
      "Epoch 5/5\n",
      "59253/59253 [==============================] - 25s 425us/step - loss: 0.0711 - val_loss: 0.0713\n"
     ]
    }
   ],
   "source": [
    "start = time.time()\n",
    "history = siamese_net1.fit([X1_train,X2_train],Y_train,batch_size=1024, epochs=5, verbose=1, validation_data=([X1_val,X2_val],Y_val), callbacks=set_callbacks())\n",
    "end = time.time()\n",
    "total_time = end - start"
   ]
  },
  {
   "cell_type": "code",
   "execution_count": 31,
   "metadata": {
    "colab": {
     "base_uri": "https://localhost:8080/",
     "height": 265
    },
    "colab_type": "code",
    "id": "V-48pZPv-MWe",
    "outputId": "e58026de-7778-4884-adb8-59ecda047e06"
   },
   "outputs": [
    {
     "data": {
      "image/png": "[encoded data removed]",
      "text/plain": [
       "<Figure size 432x288 with 1 Axes>"
      ]
     },
     "metadata": {
      "tags": []
     },
     "output_type": "display_data"
    }
   ],
   "source": [
    "plt.plot(history.history['loss'], label='train')\n",
    "plt.plot(history.history['val_loss'], label='test')\n",
    "plt.legend()\n",
    "plt.show()\n"
   ]
  },
  {
   "cell_type": "code",
   "execution_count": 0,
   "metadata": {
    "colab": {},
    "colab_type": "code",
    "id": "ficxWZ0V-MWj"
   },
   "outputs": [],
   "source": [
    "val_preds = siamese_net1.predict([X1_val,X2_val])\n",
    "train_preds = siamese_net1.predict([X1_train,X2_train])"
   ]
  },
  {
   "cell_type": "markdown",
   "metadata": {
    "colab_type": "text",
    "id": "anFfQuUR3vNw"
   },
   "source": [
    "We transform the predicted values and the real values. The values are between 0 and 1. We will invernse transform them back to 1 - 3 range."
   ]
  },
  {
   "cell_type": "code",
   "execution_count": 0,
   "metadata": {
    "colab": {},
    "colab_type": "code",
    "id": "VwECxbic3lTj"
   },
   "outputs": [],
   "source": [
    "def revertNormalization(val):\n",
    "  return min_max_scaler.inverse_transform(val.reshape(-1, 1))\n",
    "\n"
   ]
  },
  {
   "cell_type": "code",
   "execution_count": 0,
   "metadata": {
    "colab": {},
    "colab_type": "code",
    "id": "0KiePumq4d4w"
   },
   "outputs": [],
   "source": [
    "real_val_preds = revertNormalization(val_preds)\n",
    "real_Y_val = revertNormalization(Y_val)"
   ]
  },
  {
   "cell_type": "markdown",
   "metadata": {
    "colab_type": "text",
    "id": "aT-rCoCsCOzz"
   },
   "source": [
    "### Validation Results"
   ]
  },
  {
   "cell_type": "code",
   "execution_count": 35,
   "metadata": {
    "colab": {
     "base_uri": "https://localhost:8080/",
     "height": 513
    },
    "colab_type": "code",
    "id": "y8D6DtGa-MWn",
    "outputId": "9ff0d104-81a2-4b8d-c615-9bc369ab33c9"
   },
   "outputs": [
    {
     "data": {
      "image/png": "[encoded data removed]",
      "text/plain": [
       "<Figure size 432x288 with 1 Axes>"
      ]
     },
     "metadata": {
      "tags": []
     },
     "output_type": "display_data"
    },
    {
     "data": {
      "image/png": "[encoded data removed]",
      "text/plain": [
       "<Figure size 432x288 with 1 Axes>"
      ]
     },
     "metadata": {
      "tags": []
     },
     "output_type": "display_data"
    }
   ],
   "source": [
    "\n",
    "plt.hist(real_val_preds,density=True, histtype='bar')\n",
    "plt.show()\n",
    "plt.hist(real_Y_val,density=True, histtype='bar')\n",
    "plt.show()"
   ]
  },
  {
   "cell_type": "markdown",
   "metadata": {
    "colab_type": "text",
    "id": "0tZfcrCCTwXu"
   },
   "source": [
    "We can see that the model predicted values around the average mark."
   ]
  },
  {
   "cell_type": "code",
   "execution_count": 0,
   "metadata": {
    "colab": {},
    "colab_type": "code",
    "id": "KxFU9_Mbgdo3"
   },
   "outputs": [],
   "source": [
    "resultsTable = pd.DataFrame(columns=['model','runtime','TrainRMSE','ValRMSE','TestRMSE','TrainMAE','ValMAE','TestMAE'])\n",
    "\n",
    "def resetTable():\n",
    "  resultsTable = pd.DataFrame(columns=['model','runtime','TrainRMSE','ValRMSE','TestRMSE','TrainMAE','ValMAE','TestMAE'])\n",
    "\n",
    "\n",
    "def addToTable(modelName,runtime,train_rmse,val_rmse,test_rmse,train_mae,val_mae,test_mae):\n",
    "  return resultsTable.append({'model': modelName,'runtime': runtime,'TrainRMSE': train_rmse,'ValRMSE': val_rmse,\n",
    "                       'TestRMSE': test_rmse,'TrainMAE': train_mae,'ValMAE' :val_mae,'TestMAE': test_mae},ignore_index=True)\n",
    "  \n"
   ]
  },
  {
   "cell_type": "markdown",
   "metadata": {
    "colab_type": "text",
    "id": "nooyhLOfURe0"
   },
   "source": [
    "Lets run the model on the test samples. In order to do that we need to repeat the preprocessing and the normalization process on the test data set as well."
   ]
  },
  {
   "cell_type": "code",
   "execution_count": 37,
   "metadata": {
    "colab": {
     "base_uri": "https://localhost:8080/",
     "height": 206
    },
    "colab_type": "code",
    "id": "ND_G1M_S-MW_",
    "outputId": "319390a8-9ef3-472f-f1e3-25052d91b1cc"
   },
   "outputs": [
    {
     "data": {
      "text/html": [
       "<div>\n",
       "<style scoped>\n",
       "    .dataframe tbody tr th:only-of-type {\n",
       "        vertical-align: middle;\n",
       "    }\n",
       "\n",
       "    .dataframe tbody tr th {\n",
       "        vertical-align: top;\n",
       "    }\n",
       "\n",
       "    .dataframe thead th {\n",
       "        text-align: right;\n",
       "    }\n",
       "</style>\n",
       "<table border=\"1\" class=\"dataframe\">\n",
       "  <thead>\n",
       "    <tr style=\"text-align: right;\">\n",
       "      <th></th>\n",
       "      <th>id</th>\n",
       "      <th>product_uid</th>\n",
       "      <th>product_title</th>\n",
       "      <th>search_term</th>\n",
       "      <th>product_description</th>\n",
       "    </tr>\n",
       "  </thead>\n",
       "  <tbody>\n",
       "    <tr>\n",
       "      <th>0</th>\n",
       "      <td>1</td>\n",
       "      <td>100001</td>\n",
       "      <td>Simpson Strong-Tie 12-Gauge Angle</td>\n",
       "      <td>[18, 9, 0, 27, 28, 30, 41, 28, 28, 0, 25, 41, ...</td>\n",
       "      <td>[52, 53, 58, 0, 53, 52, 50, 63, 0, 42, 53, 0, ...</td>\n",
       "    </tr>\n",
       "    <tr>\n",
       "      <th>1</th>\n",
       "      <td>4</td>\n",
       "      <td>100001</td>\n",
       "      <td>Simpson Strong-Tie 12-Gauge Angle</td>\n",
       "      <td>[36, 28, 43, 24, 35, 0, 35, 0, 25, 41, 24, 26,...</td>\n",
       "      <td>[52, 53, 58, 0, 53, 52, 50, 63, 0, 42, 53, 0, ...</td>\n",
       "    </tr>\n",
       "    <tr>\n",
       "      <th>2</th>\n",
       "      <td>5</td>\n",
       "      <td>100001</td>\n",
       "      <td>Simpson Strong-Tie 12-Gauge Angle</td>\n",
       "      <td>[42, 32, 36, 39, 42, 38, 37, 0, 42, 34, 44, 0,...</td>\n",
       "      <td>[52, 53, 58, 0, 53, 52, 50, 63, 0, 42, 53, 0, ...</td>\n",
       "    </tr>\n",
       "    <tr>\n",
       "      <th>3</th>\n",
       "      <td>6</td>\n",
       "      <td>100001</td>\n",
       "      <td>Simpson Strong-Tie 12-Gauge Angle</td>\n",
       "      <td>[42, 32, 36, 39, 42, 38, 37, 0, 42, 43, 41, 38...</td>\n",
       "      <td>[52, 53, 58, 0, 53, 52, 50, 63, 0, 42, 53, 0, ...</td>\n",
       "    </tr>\n",
       "    <tr>\n",
       "      <th>4</th>\n",
       "      <td>7</td>\n",
       "      <td>100001</td>\n",
       "      <td>Simpson Strong-Tie 12-Gauge Angle</td>\n",
       "      <td>[42, 32, 36, 39, 42, 38, 37, 0, 42, 43, 41, 38...</td>\n",
       "      <td>[52, 53, 58, 0, 53, 52, 50, 63, 0, 42, 53, 0, ...</td>\n",
       "    </tr>\n",
       "  </tbody>\n",
       "</table>\n",
       "</div>"
      ],
      "text/plain": [
       "   id  product_uid                      product_title  \\\n",
       "0   1       100001  Simpson Strong-Tie 12-Gauge Angle   \n",
       "1   4       100001  Simpson Strong-Tie 12-Gauge Angle   \n",
       "2   5       100001  Simpson Strong-Tie 12-Gauge Angle   \n",
       "3   6       100001  Simpson Strong-Tie 12-Gauge Angle   \n",
       "4   7       100001  Simpson Strong-Tie 12-Gauge Angle   \n",
       "\n",
       "                                         search_term  \\\n",
       "0  [18, 9, 0, 27, 28, 30, 41, 28, 28, 0, 25, 41, ...   \n",
       "1  [36, 28, 43, 24, 35, 0, 35, 0, 25, 41, 24, 26,...   \n",
       "2  [42, 32, 36, 39, 42, 38, 37, 0, 42, 34, 44, 0,...   \n",
       "3  [42, 32, 36, 39, 42, 38, 37, 0, 42, 43, 41, 38...   \n",
       "4  [42, 32, 36, 39, 42, 38, 37, 0, 42, 43, 41, 38...   \n",
       "\n",
       "                                 product_description  \n",
       "0  [52, 53, 58, 0, 53, 52, 50, 63, 0, 42, 53, 0, ...  \n",
       "1  [52, 53, 58, 0, 53, 52, 50, 63, 0, 42, 53, 0, ...  \n",
       "2  [52, 53, 58, 0, 53, 52, 50, 63, 0, 42, 53, 0, ...  \n",
       "3  [52, 53, 58, 0, 53, 52, 50, 63, 0, 42, 53, 0, ...  \n",
       "4  [52, 53, 58, 0, 53, 52, 50, 63, 0, 42, 53, 0, ...  "
      ]
     },
     "execution_count": 37,
     "metadata": {
      "tags": []
     },
     "output_type": "execute_result"
    }
   ],
   "source": [
    "search_term_chars2 = []\n",
    "product_description_chars2 = []\n",
    "search_term_chars2 = mergedTest.search_term.apply(lambda x: search_term_chars2 + list(x))\n",
    "product_description_chars2 = mergedTest.product_description.apply(lambda x: product_description_chars2 + list(x))\n",
    "search_term_chars2 = [item for sublist in search_term_chars2 for item in sublist]\n",
    "product_description_chars2 = [item for sublist in product_description_chars2 for item in sublist]\n",
    "search_term_char_set2 = sorted(set(search_term_chars2))\n",
    "product_description_char_set2 = sorted(set(product_description_chars2))\n",
    "\n",
    "# translate from character to number, it's enumerator\n",
    "search_term_char_to_int2 = dict((c, i) for i, c in enumerate(search_term_char_set2))\n",
    "search_term_int_to_char2 = dict((i, c) for i, c in enumerate(search_term_char_set2))\n",
    "product_description_char_to_int2 = dict((c, i) for i, c in enumerate(product_description_char_set2))\n",
    "product_description_int_to_char2 = dict((i, c) for i, c in enumerate(product_description_char_set2))\n",
    "\n",
    "mergedTest.search_term = mergedTest.search_term.apply(lambda x: list(x))\n",
    "mergedTest.product_description = mergedTest.product_description.apply(lambda x: list(x))\n",
    "\n",
    "mergedTest.search_term = mergedTest.search_term.apply(lambda x: createData(search_term_char_to_int2, x))\n",
    "mergedTest.product_description = mergedTest.product_description.apply(lambda x: createData(product_description_char_to_int2, x))\n",
    "mergedTest.head()"
   ]
  },
  {
   "cell_type": "code",
   "execution_count": 0,
   "metadata": {
    "colab": {},
    "colab_type": "code",
    "id": "yyaG_bNVi7ME"
   },
   "outputs": [],
   "source": [
    "X1_test = mergedTest.search_term.values\n",
    "X2_test = mergedTest.product_description.values\n",
    "X1_test = np.asarray([padding(x,max_length) for x in X1_test])\n",
    "X2_test = np.asarray([padding(x,max_length) for x in X2_test])\n",
    "X1_test = X1_test.reshape(X1_test.shape[0],X1_test.shape[1],1)\n",
    "X2_test = X2_test.reshape(X2_test.shape[0],X2_test.shape[1],1)\n"
   ]
  },
  {
   "cell_type": "code",
   "execution_count": 0,
   "metadata": {
    "colab": {},
    "colab_type": "code",
    "id": "jlh2Ks6FlUEC"
   },
   "outputs": [],
   "source": [
    "test_preds = siamese_net1.predict([X1_test,X2_test])"
   ]
  },
  {
   "cell_type": "code",
   "execution_count": 0,
   "metadata": {
    "colab": {},
    "colab_type": "code",
    "id": "ZTH7-cW55-pW"
   },
   "outputs": [],
   "source": [
    "Y_test = test_sol.relevance.values\n",
    "Y_test = Y_test.reshape(Y_test.shape[0],1)\n"
   ]
  },
  {
   "cell_type": "markdown",
   "metadata": {
    "colab_type": "text",
    "id": "qhS-4bakCLSW"
   },
   "source": [
    "### Test Results"
   ]
  },
  {
   "cell_type": "code",
   "execution_count": 41,
   "metadata": {
    "colab": {
     "base_uri": "https://localhost:8080/",
     "height": 513
    },
    "colab_type": "code",
    "id": "6hiOuo7l5wHA",
    "outputId": "a6aa7556-aef0-4b77-dc58-6d96b7540510"
   },
   "outputs": [
    {
     "data": {
      "image/png": "[encoded data removed]",
      "text/plain": [
       "<Figure size 432x288 with 1 Axes>"
      ]
     },
     "metadata": {
      "tags": []
     },
     "output_type": "display_data"
    },
    {
     "data": {
      "image/png": "[encoded data removed]",
      "text/plain": [
       "<Figure size 432x288 with 1 Axes>"
      ]
     },
     "metadata": {
      "tags": []
     },
     "output_type": "display_data"
    }
   ],
   "source": [
    "\n",
    "plt.hist(revertNormalization(test_preds),density=True, histtype='bar')\n",
    "plt.show()\n",
    "plt.hist(Y_test,density=True, histtype='bar')\n",
    "plt.show()"
   ]
  },
  {
   "cell_type": "code",
   "execution_count": 42,
   "metadata": {
    "colab": {
     "base_uri": "https://localhost:8080/",
     "height": 81
    },
    "colab_type": "code",
    "id": "ayBm0bzElu22",
    "outputId": "98822c21-0f34-4c83-a3f6-4bcb77c71fc0"
   },
   "outputs": [
    {
     "data": {
      "text/html": [
       "<div>\n",
       "<style scoped>\n",
       "    .dataframe tbody tr th:only-of-type {\n",
       "        vertical-align: middle;\n",
       "    }\n",
       "\n",
       "    .dataframe tbody tr th {\n",
       "        vertical-align: top;\n",
       "    }\n",
       "\n",
       "    .dataframe thead th {\n",
       "        text-align: right;\n",
       "    }\n",
       "</style>\n",
       "<table border=\"1\" class=\"dataframe\">\n",
       "  <thead>\n",
       "    <tr style=\"text-align: right;\">\n",
       "      <th></th>\n",
       "      <th>model</th>\n",
       "      <th>runtime</th>\n",
       "      <th>TrainRMSE</th>\n",
       "      <th>ValRMSE</th>\n",
       "      <th>TestRMSE</th>\n",
       "      <th>TrainMAE</th>\n",
       "      <th>ValMAE</th>\n",
       "      <th>TestMAE</th>\n",
       "    </tr>\n",
       "  </thead>\n",
       "  <tbody>\n",
       "    <tr>\n",
       "      <th>0</th>\n",
       "      <td>CHAR_SiameseNetwork</td>\n",
       "      <td>132.153588</td>\n",
       "      <td>0.284046</td>\n",
       "      <td>0.285338</td>\n",
       "      <td>3.954929</td>\n",
       "      <td>0.437019</td>\n",
       "      <td>0.436452</td>\n",
       "      <td>1.40484</td>\n",
       "    </tr>\n",
       "  </tbody>\n",
       "</table>\n",
       "</div>"
      ],
      "text/plain": [
       "                 model     runtime  TrainRMSE   ValRMSE  TestRMSE  TrainMAE  \\\n",
       "0  CHAR_SiameseNetwork  132.153588   0.284046  0.285338  3.954929  0.437019   \n",
       "\n",
       "     ValMAE  TestMAE  \n",
       "0  0.436452  1.40484  "
      ]
     },
     "execution_count": 42,
     "metadata": {
      "tags": []
     },
     "output_type": "execute_result"
    }
   ],
   "source": [
    "from sklearn.metrics import mean_absolute_error as mae\n",
    "from sklearn.metrics import mean_squared_error as mse\n",
    "\n",
    "\n",
    "resultsTable = addToTable('CHAR_SiameseNetwork',total_time,\n",
    "                          mse(revertNormalization(train_preds),revertNormalization(Y_train)),mse(revertNormalization(val_preds),revertNormalization(Y_val)),mse(revertNormalization(test_preds),Y_test),\n",
    "                          mae(revertNormalization(train_preds),revertNormalization(Y_train)),mae(revertNormalization(val_preds),revertNormalization(Y_val)),mae(revertNormalization(test_preds),Y_test))\n",
    "resultsTable"
   ]
  },
  {
   "cell_type": "markdown",
   "metadata": {
    "colab_type": "text",
    "id": "-f4aACtRUxjB"
   },
   "source": [
    "We calculated the RMSE and the MAE between the prediction and the true value in each one of the training, validation and test parts of the dataset.\n",
    "We can see that the test results are not that good. We also notice that there are a lot of samples with relevance -1, this value was not present at the training sample set. This might heavily impact the performance of the models as there is a difference in the distribution of values in the training and the testing sets. We dont want to alter our models based on the testing set so we will continue in the same manner but this special case with -1 relevance value is labeled as 'ignored'. It might be a good idea to include these samples in the training set. \n"
   ]
  },
  {
   "cell_type": "markdown",
   "metadata": {
    "colab_type": "text",
    "id": "S_l3rmQY-MXQ"
   },
   "source": [
    "## ML Benchmark"
   ]
  },
  {
   "cell_type": "markdown",
   "metadata": {
    "colab_type": "text",
    "id": "cUAzEBHZVkBE"
   },
   "source": [
    "Lets create a benchmark model to compare the results of our model and the benchmark. We do a similiar character embedding process like in our model, but this time we will use the sklearn Vectorizer to do this process.  The benchmark model that we will use is the Random Forest Regressor."
   ]
  },
  {
   "cell_type": "code",
   "execution_count": 43,
   "metadata": {
    "colab": {
     "base_uri": "https://localhost:8080/",
     "height": 206
    },
    "colab_type": "code",
    "id": "jCX_kRgi-MXU",
    "outputId": "574dfa57-37be-41b7-e570-86efa237724e"
   },
   "outputs": [
    {
     "data": {
      "text/html": [
       "<div>\n",
       "<style scoped>\n",
       "    .dataframe tbody tr th:only-of-type {\n",
       "        vertical-align: middle;\n",
       "    }\n",
       "\n",
       "    .dataframe tbody tr th {\n",
       "        vertical-align: top;\n",
       "    }\n",
       "\n",
       "    .dataframe thead th {\n",
       "        text-align: right;\n",
       "    }\n",
       "</style>\n",
       "<table border=\"1\" class=\"dataframe\">\n",
       "  <thead>\n",
       "    <tr style=\"text-align: right;\">\n",
       "      <th></th>\n",
       "      <th>id</th>\n",
       "      <th>product_uid</th>\n",
       "      <th>product_title</th>\n",
       "      <th>search_term</th>\n",
       "      <th>relevance</th>\n",
       "      <th>product_description</th>\n",
       "    </tr>\n",
       "  </thead>\n",
       "  <tbody>\n",
       "    <tr>\n",
       "      <th>0</th>\n",
       "      <td>2</td>\n",
       "      <td>100001</td>\n",
       "      <td>Simpson Strong-Tie 12-Gauge Angle</td>\n",
       "      <td>angle bracket</td>\n",
       "      <td>3.00</td>\n",
       "      <td>Not only do angles make joints stronger, they ...</td>\n",
       "    </tr>\n",
       "    <tr>\n",
       "      <th>1</th>\n",
       "      <td>3</td>\n",
       "      <td>100001</td>\n",
       "      <td>Simpson Strong-Tie 12-Gauge Angle</td>\n",
       "      <td>l bracket</td>\n",
       "      <td>2.50</td>\n",
       "      <td>Not only do angles make joints stronger, they ...</td>\n",
       "    </tr>\n",
       "    <tr>\n",
       "      <th>2</th>\n",
       "      <td>9</td>\n",
       "      <td>100002</td>\n",
       "      <td>BEHR Premium Textured DeckOver 1-gal. #SC-141 ...</td>\n",
       "      <td>deck over</td>\n",
       "      <td>3.00</td>\n",
       "      <td>BEHR Premium Textured DECKOVER is an innovativ...</td>\n",
       "    </tr>\n",
       "    <tr>\n",
       "      <th>3</th>\n",
       "      <td>16</td>\n",
       "      <td>100005</td>\n",
       "      <td>Delta Vero 1-Handle Shower Only Faucet Trim Ki...</td>\n",
       "      <td>rain shower head</td>\n",
       "      <td>2.33</td>\n",
       "      <td>Update your bathroom with the Delta Vero Singl...</td>\n",
       "    </tr>\n",
       "    <tr>\n",
       "      <th>4</th>\n",
       "      <td>17</td>\n",
       "      <td>100005</td>\n",
       "      <td>Delta Vero 1-Handle Shower Only Faucet Trim Ki...</td>\n",
       "      <td>shower only faucet</td>\n",
       "      <td>2.67</td>\n",
       "      <td>Update your bathroom with the Delta Vero Singl...</td>\n",
       "    </tr>\n",
       "  </tbody>\n",
       "</table>\n",
       "</div>"
      ],
      "text/plain": [
       "   id  product_uid                                      product_title  \\\n",
       "0   2       100001                  Simpson Strong-Tie 12-Gauge Angle   \n",
       "1   3       100001                  Simpson Strong-Tie 12-Gauge Angle   \n",
       "2   9       100002  BEHR Premium Textured DeckOver 1-gal. #SC-141 ...   \n",
       "3  16       100005  Delta Vero 1-Handle Shower Only Faucet Trim Ki...   \n",
       "4  17       100005  Delta Vero 1-Handle Shower Only Faucet Trim Ki...   \n",
       "\n",
       "          search_term  relevance  \\\n",
       "0       angle bracket       3.00   \n",
       "1           l bracket       2.50   \n",
       "2           deck over       3.00   \n",
       "3    rain shower head       2.33   \n",
       "4  shower only faucet       2.67   \n",
       "\n",
       "                                 product_description  \n",
       "0  Not only do angles make joints stronger, they ...  \n",
       "1  Not only do angles make joints stronger, they ...  \n",
       "2  BEHR Premium Textured DECKOVER is an innovativ...  \n",
       "3  Update your bathroom with the Delta Vero Singl...  \n",
       "4  Update your bathroom with the Delta Vero Singl...  "
      ]
     },
     "execution_count": 43,
     "metadata": {
      "tags": []
     },
     "output_type": "execute_result"
    }
   ],
   "source": [
    "mergedTrain2 = pd.merge(train, product_descriptions, how='inner', on='product_uid')\n",
    "mergedTrain2.head()"
   ]
  },
  {
   "cell_type": "code",
   "execution_count": 44,
   "metadata": {
    "colab": {
     "base_uri": "https://localhost:8080/",
     "height": 206
    },
    "colab_type": "code",
    "id": "4UrGOB2v8qn6",
    "outputId": "d6b78baf-fc4f-4443-ecc0-489510d656ad"
   },
   "outputs": [
    {
     "data": {
      "text/html": [
       "<div>\n",
       "<style scoped>\n",
       "    .dataframe tbody tr th:only-of-type {\n",
       "        vertical-align: middle;\n",
       "    }\n",
       "\n",
       "    .dataframe tbody tr th {\n",
       "        vertical-align: top;\n",
       "    }\n",
       "\n",
       "    .dataframe thead th {\n",
       "        text-align: right;\n",
       "    }\n",
       "</style>\n",
       "<table border=\"1\" class=\"dataframe\">\n",
       "  <thead>\n",
       "    <tr style=\"text-align: right;\">\n",
       "      <th></th>\n",
       "      <th>id</th>\n",
       "      <th>product_uid</th>\n",
       "      <th>product_title</th>\n",
       "      <th>search_term</th>\n",
       "      <th>product_description</th>\n",
       "    </tr>\n",
       "  </thead>\n",
       "  <tbody>\n",
       "    <tr>\n",
       "      <th>0</th>\n",
       "      <td>1</td>\n",
       "      <td>100001</td>\n",
       "      <td>Simpson Strong-Tie 12-Gauge Angle</td>\n",
       "      <td>90 degree bracket</td>\n",
       "      <td>Not only do angles make joints stronger, they ...</td>\n",
       "    </tr>\n",
       "    <tr>\n",
       "      <th>1</th>\n",
       "      <td>4</td>\n",
       "      <td>100001</td>\n",
       "      <td>Simpson Strong-Tie 12-Gauge Angle</td>\n",
       "      <td>metal l brackets</td>\n",
       "      <td>Not only do angles make joints stronger, they ...</td>\n",
       "    </tr>\n",
       "    <tr>\n",
       "      <th>2</th>\n",
       "      <td>5</td>\n",
       "      <td>100001</td>\n",
       "      <td>Simpson Strong-Tie 12-Gauge Angle</td>\n",
       "      <td>simpson sku able</td>\n",
       "      <td>Not only do angles make joints stronger, they ...</td>\n",
       "    </tr>\n",
       "    <tr>\n",
       "      <th>3</th>\n",
       "      <td>6</td>\n",
       "      <td>100001</td>\n",
       "      <td>Simpson Strong-Tie 12-Gauge Angle</td>\n",
       "      <td>simpson strong  ties</td>\n",
       "      <td>Not only do angles make joints stronger, they ...</td>\n",
       "    </tr>\n",
       "    <tr>\n",
       "      <th>4</th>\n",
       "      <td>7</td>\n",
       "      <td>100001</td>\n",
       "      <td>Simpson Strong-Tie 12-Gauge Angle</td>\n",
       "      <td>simpson strong tie hcc668</td>\n",
       "      <td>Not only do angles make joints stronger, they ...</td>\n",
       "    </tr>\n",
       "  </tbody>\n",
       "</table>\n",
       "</div>"
      ],
      "text/plain": [
       "   id  product_uid                      product_title  \\\n",
       "0   1       100001  Simpson Strong-Tie 12-Gauge Angle   \n",
       "1   4       100001  Simpson Strong-Tie 12-Gauge Angle   \n",
       "2   5       100001  Simpson Strong-Tie 12-Gauge Angle   \n",
       "3   6       100001  Simpson Strong-Tie 12-Gauge Angle   \n",
       "4   7       100001  Simpson Strong-Tie 12-Gauge Angle   \n",
       "\n",
       "                 search_term  \\\n",
       "0          90 degree bracket   \n",
       "1           metal l brackets   \n",
       "2           simpson sku able   \n",
       "3       simpson strong  ties   \n",
       "4  simpson strong tie hcc668   \n",
       "\n",
       "                                 product_description  \n",
       "0  Not only do angles make joints stronger, they ...  \n",
       "1  Not only do angles make joints stronger, they ...  \n",
       "2  Not only do angles make joints stronger, they ...  \n",
       "3  Not only do angles make joints stronger, they ...  \n",
       "4  Not only do angles make joints stronger, they ...  "
      ]
     },
     "execution_count": 44,
     "metadata": {
      "tags": []
     },
     "output_type": "execute_result"
    }
   ],
   "source": [
    "mergedTest2 = pd.merge(test, product_descriptions, how='inner', on='product_uid')\n",
    "mergedTest2.head()"
   ]
  },
  {
   "cell_type": "code",
   "execution_count": 0,
   "metadata": {
    "colab": {},
    "colab_type": "code",
    "id": "ptKpWyix-MXa"
   },
   "outputs": [],
   "source": [
    "from sklearn.feature_extraction.text import CountVectorizer\n",
    "\n",
    "vectorizer = CountVectorizer(encoding='latin-1', analyzer='char')\n",
    "vectorizer.fit(mergedTrain2['search_term'])\n",
    "\n",
    "mltrain_x, mlval_x, mltrain_y, mlval_y = train_test_split(mergedTrain2['search_term'].values,mergedTrain2['relevance'].values, test_size = 0.2)\n",
    "train_x_count =  vectorizer.transform(mltrain_x)\n",
    "val_x_count =  vectorizer.transform(mlval_x)\n",
    "test_x_count =  vectorizer.transform(mergedTest2['search_term'].values)\n"
   ]
  },
  {
   "cell_type": "code",
   "execution_count": 46,
   "metadata": {
    "colab": {
     "base_uri": "https://localhost:8080/",
     "height": 54
    },
    "colab_type": "code",
    "id": "QzNz1fOM-MXi",
    "outputId": "79cf0fb5-280e-4fd3-db86-f5b7435e86a0"
   },
   "outputs": [
    {
     "name": "stderr",
     "output_type": "stream",
     "text": [
      "/usr/local/lib/python3.6/dist-packages/sklearn/ensemble/forest.py:246: FutureWarning: The default value of n_estimators will change from 10 in version 0.20 to 100 in 0.22.\n",
      "  \"10 in version 0.20 to 100 in 0.22.\", FutureWarning)\n"
     ]
    }
   ],
   "source": [
    "from sklearn import model_selection, preprocessing, linear_model, naive_bayes, metrics, svm,ensemble\n",
    "\n",
    "ml = ensemble.RandomForestRegressor()\n",
    "start_time = time.time()\n",
    "ml.fit(train_x_count, mltrain_y)\n",
    "end_time = time.time()\n",
    "total_time = end_time - start_time\n",
    "\n",
    "ml_train_preds = ml.predict(train_x_count)\n",
    "ml_val_preds = ml.predict(val_x_count)\n",
    "ml_test_preds = ml.predict(test_x_count)\n",
    "\n"
   ]
  },
  {
   "cell_type": "code",
   "execution_count": 47,
   "metadata": {
    "colab": {
     "base_uri": "https://localhost:8080/",
     "height": 112
    },
    "colab_type": "code",
    "id": "UBwEQ_Ge1527",
    "outputId": "76a98924-581f-4ed5-97db-89e541a9a4b6"
   },
   "outputs": [
    {
     "data": {
      "text/html": [
       "<div>\n",
       "<style scoped>\n",
       "    .dataframe tbody tr th:only-of-type {\n",
       "        vertical-align: middle;\n",
       "    }\n",
       "\n",
       "    .dataframe tbody tr th {\n",
       "        vertical-align: top;\n",
       "    }\n",
       "\n",
       "    .dataframe thead th {\n",
       "        text-align: right;\n",
       "    }\n",
       "</style>\n",
       "<table border=\"1\" class=\"dataframe\">\n",
       "  <thead>\n",
       "    <tr style=\"text-align: right;\">\n",
       "      <th></th>\n",
       "      <th>model</th>\n",
       "      <th>runtime</th>\n",
       "      <th>TrainRMSE</th>\n",
       "      <th>ValRMSE</th>\n",
       "      <th>TestRMSE</th>\n",
       "      <th>TrainMAE</th>\n",
       "      <th>ValMAE</th>\n",
       "      <th>TestMAE</th>\n",
       "    </tr>\n",
       "  </thead>\n",
       "  <tbody>\n",
       "    <tr>\n",
       "      <th>0</th>\n",
       "      <td>CHAR_SiameseNetwork</td>\n",
       "      <td>132.153588</td>\n",
       "      <td>0.284046</td>\n",
       "      <td>0.285338</td>\n",
       "      <td>3.954929</td>\n",
       "      <td>0.437019</td>\n",
       "      <td>0.436452</td>\n",
       "      <td>1.404840</td>\n",
       "    </tr>\n",
       "    <tr>\n",
       "      <th>1</th>\n",
       "      <td>CHAR_RandomForestBenchmark</td>\n",
       "      <td>46.228773</td>\n",
       "      <td>0.156810</td>\n",
       "      <td>0.230951</td>\n",
       "      <td>4.164663</td>\n",
       "      <td>0.308467</td>\n",
       "      <td>0.377454</td>\n",
       "      <td>1.428889</td>\n",
       "    </tr>\n",
       "  </tbody>\n",
       "</table>\n",
       "</div>"
      ],
      "text/plain": [
       "                        model     runtime  TrainRMSE   ValRMSE  TestRMSE  \\\n",
       "0         CHAR_SiameseNetwork  132.153588   0.284046  0.285338  3.954929   \n",
       "1  CHAR_RandomForestBenchmark   46.228773   0.156810  0.230951  4.164663   \n",
       "\n",
       "   TrainMAE    ValMAE   TestMAE  \n",
       "0  0.437019  0.436452  1.404840  \n",
       "1  0.308467  0.377454  1.428889  "
      ]
     },
     "execution_count": 47,
     "metadata": {
      "tags": []
     },
     "output_type": "execute_result"
    }
   ],
   "source": [
    "resultsTable = addToTable('CHAR_RandomForestBenchmark',total_time,mse(ml_train_preds,mltrain_y),mse(ml_val_preds,mlval_y),mse(ml_test_preds,Y_test),mae(ml_train_preds,mltrain_y),mae(ml_val_preds,mlval_y),mae(ml_test_preds,Y_test))\n",
    "resultsTable"
   ]
  },
  {
   "cell_type": "markdown",
   "metadata": {
    "colab_type": "text",
    "id": "UBe7gZlTDdtH"
   },
   "source": [
    "### Validation Results"
   ]
  },
  {
   "cell_type": "code",
   "execution_count": 48,
   "metadata": {
    "colab": {
     "base_uri": "https://localhost:8080/",
     "height": 517
    },
    "colab_type": "code",
    "id": "Kr7dK6bI-MXq",
    "outputId": "f9a67a92-45b9-4c58-f201-02e4fcbfc266"
   },
   "outputs": [
    {
     "data": {
      "image/png": "[encoded data removed]",
      "text/plain": [
       "<Figure size 432x288 with 1 Axes>"
      ]
     },
     "metadata": {
      "tags": []
     },
     "output_type": "display_data"
    },
    {
     "data": {
      "image/png": "[encoded data removed]",
      "text/plain": [
       "<Figure size 432x288 with 1 Axes>"
      ]
     },
     "metadata": {
      "tags": []
     },
     "output_type": "display_data"
    }
   ],
   "source": [
    "plt.hist(ml_val_preds,density=True, histtype='bar')\n",
    "plt.show()\n",
    "plt.hist(mlval_y,density=True, histtype='bar')\n",
    "plt.show()"
   ]
  },
  {
   "cell_type": "markdown",
   "metadata": {
    "colab_type": "text",
    "id": "iGyGuVVqDgq1"
   },
   "source": [
    "### Test Results"
   ]
  },
  {
   "cell_type": "code",
   "execution_count": 49,
   "metadata": {
    "colab": {
     "base_uri": "https://localhost:8080/",
     "height": 513
    },
    "colab_type": "code",
    "id": "S2CczB3oDdIs",
    "outputId": "b002a714-55c9-4545-8704-bf0085781b5f"
   },
   "outputs": [
    {
     "data": {
      "image/png": "[encoded data removed]",
      "text/plain": [
       "<Figure size 432x288 with 1 Axes>"
      ]
     },
     "metadata": {
      "tags": []
     },
     "output_type": "display_data"
    },
    {
     "data": {
      "image/png": "[encoded data removed]",
      "text/plain": [
       "<Figure size 432x288 with 1 Axes>"
      ]
     },
     "metadata": {
      "tags": []
     },
     "output_type": "display_data"
    }
   ],
   "source": [
    "plt.hist(ml_test_preds,density=True, histtype='bar')\n",
    "plt.show()\n",
    "plt.hist(Y_test,density=True, histtype='bar')\n",
    "plt.show()"
   ]
  },
  {
   "cell_type": "markdown",
   "metadata": {
    "colab_type": "text",
    "id": "i1BECZ1ZWK13"
   },
   "source": [
    "The benchmark model performed better than our siamese model on train and validation, but a bit worse on the test set. This shows us that our model is not achieving the desired scores to see good enough results.\n",
    "\n",
    "Here are some possible ways to improve the model:\n",
    "\n",
    "*   The model is still not tuned with the correct parameters in the intermediate layers. Finding the most percise values for the LSTM node number or the number of outputs in the Dense layer. We tried higher values but it looked like the model was overfitted when it handles large number of LSTM nodes.\n",
    "*   There might be some imbalance in the data when we pad the search_term and the product_description, the search_term sequences are a lot shorter than the product_description, so we need to chose the right amount of  characters in each sequence or change the value that we pad with in the padding function, currently its 0. \n",
    "\n"
   ]
  },
  {
   "cell_type": "markdown",
   "metadata": {
    "colab_type": "text",
    "id": "BH7kinB_-MXv"
   },
   "source": [
    "## Feature Extraction"
   ]
  },
  {
   "cell_type": "markdown",
   "metadata": {
    "colab_type": "text",
    "id": "Q28nY8lgYM6W"
   },
   "source": [
    "We want to check how the feature extarction abilities of the model compare by taking out the last layers outputs - the processed search_term and product_description inputs and concatinate that to feed to a ML model to see the RMSE and MAE of the ML models with the features from our network. \n",
    "The machine learning we use are the Random Forest model and the SVM from sklearn."
   ]
  },
  {
   "cell_type": "code",
   "execution_count": 50,
   "metadata": {
    "colab": {
     "base_uri": "https://localhost:8080/",
     "height": 35
    },
    "colab_type": "code",
    "id": "9tN-8dzt-MXw",
    "outputId": "3690cc16-c6ec-4fc5-f0e9-712d50a17a60"
   },
   "outputs": [
    {
     "name": "stderr",
     "output_type": "stream",
     "text": [
      "/usr/local/lib/python3.6/dist-packages/ipykernel_launcher.py:17: UserWarning: Update your `Model` call to the Keras 2 API: `Model(inputs=[<tf.Tenso..., outputs=[<tf.Tenso...)`\n"
     ]
    }
   ],
   "source": [
    "\n",
    "fe_st_input = Input(shape=(max_length,1), name='st_input',dtype='float32')\n",
    "fe_pd_input = Input(shape=(max_length,1), name='pd_input',dtype='float32')\n",
    "\n",
    "input_layer1 = siamese_net1.layers[0].input[0]\n",
    "input_layer2 = siamese_net1.layers[1].input[0]\n",
    "\n",
    "fe_st_model = createModel()\n",
    "fe_pd_model = createModel()\n",
    "\n",
    "output_layer1 = siamese_net1.layers[3].get_output_at(0)\n",
    "output_layer2 = siamese_net1.layers[3].get_output_at(1)\n",
    "\n",
    "output_fn = K.function([st_input, pd_input], [output_layer1, output_layer2])\n",
    "def extractFeatures(model1,model2,customLoss):\n",
    "  out = concatenate([model1(fe_st_input), model2(fe_pd_input)])\n",
    "  siamese_net = Model(input=[fe_st_input,fe_pd_input],output=[out])\n",
    "  siamese_net.load_weights(path + '/best_model_weights_char.h5')\n",
    "  siamese_net.compile(loss=customLoss,optimizer=Adadelta(lr=1.0, rho=0.95,clipnorm=1.20))\n",
    "  return siamese_net\n",
    "\n",
    "fe_model = extractFeatures(fe_st_model,fe_pd_model,'mse')\n"
   ]
  },
  {
   "cell_type": "code",
   "execution_count": 0,
   "metadata": {
    "colab": {},
    "colab_type": "code",
    "id": "ApFV_C1wFt9I"
   },
   "outputs": [],
   "source": [
    "fe_train_features = fe_model.predict([X1_train,X2_train])\n",
    "fe_val_features = fe_model.predict([X1_val,X2_val])\n",
    "fe_test_features = fe_model.predict([X1_test,X2_test])"
   ]
  },
  {
   "cell_type": "code",
   "execution_count": 52,
   "metadata": {
    "colab": {
     "base_uri": "https://localhost:8080/",
     "height": 90
    },
    "colab_type": "code",
    "id": "dbFYrdYpFpe1",
    "outputId": "ba3854a0-85b6-459c-9d8e-75ff95d97ff5"
   },
   "outputs": [
    {
     "name": "stderr",
     "output_type": "stream",
     "text": [
      "/usr/local/lib/python3.6/dist-packages/sklearn/ensemble/forest.py:246: FutureWarning: The default value of n_estimators will change from 10 in version 0.20 to 100 in 0.22.\n",
      "  \"10 in version 0.20 to 100 in 0.22.\", FutureWarning)\n",
      "/usr/local/lib/python3.6/dist-packages/ipykernel_launcher.py:4: DataConversionWarning: A column-vector y was passed when a 1d array was expected. Please change the shape of y to (n_samples,), for example using ravel().\n",
      "  after removing the cwd from sys.path.\n"
     ]
    }
   ],
   "source": [
    "\n",
    "randomForest = ensemble.RandomForestRegressor()\n",
    "start_time = time.time()\n",
    "randomForest.fit(fe_train_features, Y_train)\n",
    "end_time = time.time()\n",
    "total_time = end_time - start_time\n",
    "\n",
    "\n",
    "fe_train_preds = randomForest.predict(fe_train_features)\n",
    "fe_val_preds = randomForest.predict(fe_val_features)\n",
    "fe_test_preds = randomForest.predict(fe_test_features)\n",
    "\n",
    "resultsTable = addToTable('FE_RandomForest_CHAR',total_time,\n",
    "                          mse(revertNormalization(fe_train_preds),revertNormalization(Y_train)),mse(revertNormalization(fe_val_preds),revertNormalization(Y_val)),mse(revertNormalization(fe_test_preds),Y_test),\n",
    "                          mae(revertNormalization(fe_train_preds),revertNormalization(Y_train)),mae(revertNormalization(fe_val_preds),revertNormalization(Y_val)),mae(revertNormalization(fe_test_preds),Y_test))\n"
   ]
  },
  {
   "cell_type": "code",
   "execution_count": 53,
   "metadata": {
    "colab": {
     "base_uri": "https://localhost:8080/",
     "height": 74
    },
    "colab_type": "code",
    "id": "E7Rk5t_iUD3t",
    "outputId": "bf750f95-fb71-4d4b-e1a2-59766a72848f"
   },
   "outputs": [
    {
     "name": "stderr",
     "output_type": "stream",
     "text": [
      "/usr/local/lib/python3.6/dist-packages/sklearn/utils/validation.py:761: DataConversionWarning: A column-vector y was passed when a 1d array was expected. Please change the shape of y to (n_samples, ), for example using ravel().\n",
      "  y = column_or_1d(y, warn=True)\n"
     ]
    }
   ],
   "source": [
    "\n",
    "adaboost = ensemble.AdaBoostRegressor()\n",
    "start_time = time.time()\n",
    "adaboost.fit(fe_train_features, Y_train)\n",
    "end_time = time.time()\n",
    "total_time = end_time - start_time\n",
    "\n",
    "\n",
    "fe_train_preds2= adaboost.predict(fe_train_features)\n",
    "fe_val_preds2 = adaboost.predict(fe_val_features)\n",
    "fe_test_preds2 = adaboost.predict(fe_test_features)\n",
    "\n",
    "resultsTable = addToTable('FE_Adaboost_CHAR',total_time,\n",
    "                          mse(revertNormalization(fe_train_preds2),revertNormalization(Y_train)),mse(revertNormalization(fe_val_preds2),revertNormalization(Y_val)),mse(revertNormalization(fe_test_preds2),Y_test),\n",
    "                          mae(revertNormalization(fe_train_preds2),revertNormalization(Y_train)),mae(revertNormalization(fe_val_preds2),revertNormalization(Y_val)),mae(revertNormalization(fe_test_preds2),Y_test))\n"
   ]
  },
  {
   "cell_type": "code",
   "execution_count": 54,
   "metadata": {
    "colab": {
     "base_uri": "https://localhost:8080/",
     "height": 806
    },
    "colab_type": "code",
    "id": "6GIr9jIFDYjK",
    "outputId": "03f65a10-cb77-4114-b583-7dd6a8c9b508"
   },
   "outputs": [
    {
     "data": {
      "image/png": "[encoded data removed]",
      "text/plain": [
       "<Figure size 432x288 with 1 Axes>"
      ]
     },
     "metadata": {
      "tags": []
     },
     "output_type": "display_data"
    },
    {
     "data": {
      "image/png": "[encoded data removed]",
      "text/plain": [
       "<Figure size 432x288 with 1 Axes>"
      ]
     },
     "metadata": {
      "tags": []
     },
     "output_type": "display_data"
    },
    {
     "data": {
      "image/png": "[encoded data removed]",
      "text/plain": [
       "<Figure size 432x288 with 1 Axes>"
      ]
     },
     "metadata": {
      "tags": []
     },
     "output_type": "display_data"
    }
   ],
   "source": [
    "plt.hist(revertNormalization(fe_test_preds),density=True, histtype='bar')\n",
    "plt.title('Random Forest FE test Results')\n",
    "plt.show()\n",
    "plt.hist(revertNormalization(fe_test_preds2),density=True, histtype='bar')\n",
    "plt.title('Adaboost FE test Results')\n",
    "plt.show()\n",
    "plt.hist(Y_test,density=True, histtype='bar')\n",
    "plt.title('True Values')\n",
    "plt.show()"
   ]
  },
  {
   "cell_type": "code",
   "execution_count": 55,
   "metadata": {
    "colab": {
     "base_uri": "https://localhost:8080/",
     "height": 175
    },
    "colab_type": "code",
    "id": "S4eAd617UeZa",
    "outputId": "8e46375d-5bfb-4c7f-c3a4-86a0881abbb9"
   },
   "outputs": [
    {
     "data": {
      "text/html": [
       "<div>\n",
       "<style scoped>\n",
       "    .dataframe tbody tr th:only-of-type {\n",
       "        vertical-align: middle;\n",
       "    }\n",
       "\n",
       "    .dataframe tbody tr th {\n",
       "        vertical-align: top;\n",
       "    }\n",
       "\n",
       "    .dataframe thead th {\n",
       "        text-align: right;\n",
       "    }\n",
       "</style>\n",
       "<table border=\"1\" class=\"dataframe\">\n",
       "  <thead>\n",
       "    <tr style=\"text-align: right;\">\n",
       "      <th></th>\n",
       "      <th>model</th>\n",
       "      <th>runtime</th>\n",
       "      <th>TrainRMSE</th>\n",
       "      <th>ValRMSE</th>\n",
       "      <th>TestRMSE</th>\n",
       "      <th>TrainMAE</th>\n",
       "      <th>ValMAE</th>\n",
       "      <th>TestMAE</th>\n",
       "    </tr>\n",
       "  </thead>\n",
       "  <tbody>\n",
       "    <tr>\n",
       "      <th>0</th>\n",
       "      <td>CHAR_SiameseNetwork</td>\n",
       "      <td>132.153588</td>\n",
       "      <td>0.284046</td>\n",
       "      <td>0.285338</td>\n",
       "      <td>3.954929</td>\n",
       "      <td>0.437019</td>\n",
       "      <td>0.436452</td>\n",
       "      <td>1.404840</td>\n",
       "    </tr>\n",
       "    <tr>\n",
       "      <th>1</th>\n",
       "      <td>CHAR_RandomForestBenchmark</td>\n",
       "      <td>46.228773</td>\n",
       "      <td>0.156810</td>\n",
       "      <td>0.230951</td>\n",
       "      <td>4.164663</td>\n",
       "      <td>0.308467</td>\n",
       "      <td>0.377454</td>\n",
       "      <td>1.428889</td>\n",
       "    </tr>\n",
       "    <tr>\n",
       "      <th>2</th>\n",
       "      <td>FE_RandomForest_CHAR</td>\n",
       "      <td>6.859185</td>\n",
       "      <td>0.131588</td>\n",
       "      <td>0.242680</td>\n",
       "      <td>4.171411</td>\n",
       "      <td>0.275356</td>\n",
       "      <td>0.386893</td>\n",
       "      <td>1.437754</td>\n",
       "    </tr>\n",
       "    <tr>\n",
       "      <th>3</th>\n",
       "      <td>FE_Adaboost_CHAR</td>\n",
       "      <td>2.208713</td>\n",
       "      <td>0.287369</td>\n",
       "      <td>0.288035</td>\n",
       "      <td>3.775366</td>\n",
       "      <td>0.442420</td>\n",
       "      <td>0.440698</td>\n",
       "      <td>1.381365</td>\n",
       "    </tr>\n",
       "  </tbody>\n",
       "</table>\n",
       "</div>"
      ],
      "text/plain": [
       "                        model     runtime  TrainRMSE   ValRMSE  TestRMSE  \\\n",
       "0         CHAR_SiameseNetwork  132.153588   0.284046  0.285338  3.954929   \n",
       "1  CHAR_RandomForestBenchmark   46.228773   0.156810  0.230951  4.164663   \n",
       "2        FE_RandomForest_CHAR    6.859185   0.131588  0.242680  4.171411   \n",
       "3            FE_Adaboost_CHAR    2.208713   0.287369  0.288035  3.775366   \n",
       "\n",
       "   TrainMAE    ValMAE   TestMAE  \n",
       "0  0.437019  0.436452  1.404840  \n",
       "1  0.308467  0.377454  1.428889  \n",
       "2  0.275356  0.386893  1.437754  \n",
       "3  0.442420  0.440698  1.381365  "
      ]
     },
     "execution_count": 55,
     "metadata": {
      "tags": []
     },
     "output_type": "execute_result"
    }
   ],
   "source": [
    "resultsTable"
   ]
  },
  {
   "cell_type": "markdown",
   "metadata": {
    "colab_type": "text",
    "id": "R58eYzbbZOWX"
   },
   "source": [
    "We see that the feature extraction ML models had pretty much the same performance as the siamese network. This means that the inaccuarcy of our model is in the feature extraction phase, maybe by making the improvements listed above we might acheive a better score."
   ]
  },
  {
   "cell_type": "markdown",
   "metadata": {
    "colab_type": "text",
    "id": "1kQLJokSc-NC"
   },
   "source": [
    "# Word Level Embedding"
   ]
  },
  {
   "cell_type": "markdown",
   "metadata": {
    "colab_type": "text",
    "id": "V_Do6yENY7X-"
   },
   "source": [
    "We want to repeat the process but this time we want to do the embedding on a word level. Each word, instead of each character as in the last part, will get a unique value in a sequence of values that will be fed to a similiar siamese network and will be checked in the same manner as the character embedding."
   ]
  },
  {
   "cell_type": "markdown",
   "metadata": {
    "colab_type": "text",
    "id": "mVzzub8ZaYQD"
   },
   "source": [
    "## Data Preprocessing"
   ]
  },
  {
   "cell_type": "markdown",
   "metadata": {
    "colab_type": "text",
    "id": "e6ZJoSdIZXNa"
   },
   "source": [
    "Similiarly we find the amount of unique words that are available for each of the search_term and product_description samples and create dictionaries for each one of them to converts the texts to unique value sequences for the model to train and predict on."
   ]
  },
  {
   "cell_type": "code",
   "execution_count": 56,
   "metadata": {
    "colab": {
     "base_uri": "https://localhost:8080/",
     "height": 206
    },
    "colab_type": "code",
    "id": "yMRi6xlKdpEC",
    "outputId": "93380a67-19b6-44e3-fa44-6063e7237dfe"
   },
   "outputs": [
    {
     "data": {
      "text/html": [
       "<div>\n",
       "<style scoped>\n",
       "    .dataframe tbody tr th:only-of-type {\n",
       "        vertical-align: middle;\n",
       "    }\n",
       "\n",
       "    .dataframe tbody tr th {\n",
       "        vertical-align: top;\n",
       "    }\n",
       "\n",
       "    .dataframe thead th {\n",
       "        text-align: right;\n",
       "    }\n",
       "</style>\n",
       "<table border=\"1\" class=\"dataframe\">\n",
       "  <thead>\n",
       "    <tr style=\"text-align: right;\">\n",
       "      <th></th>\n",
       "      <th>id</th>\n",
       "      <th>product_uid</th>\n",
       "      <th>product_title</th>\n",
       "      <th>search_term</th>\n",
       "      <th>relevance</th>\n",
       "      <th>product_description</th>\n",
       "    </tr>\n",
       "  </thead>\n",
       "  <tbody>\n",
       "    <tr>\n",
       "      <th>0</th>\n",
       "      <td>2</td>\n",
       "      <td>100001</td>\n",
       "      <td>Simpson Strong-Tie 12-Gauge Angle</td>\n",
       "      <td>angle bracket</td>\n",
       "      <td>3.00</td>\n",
       "      <td>not only do angles make joints stronger, they ...</td>\n",
       "    </tr>\n",
       "    <tr>\n",
       "      <th>1</th>\n",
       "      <td>3</td>\n",
       "      <td>100001</td>\n",
       "      <td>Simpson Strong-Tie 12-Gauge Angle</td>\n",
       "      <td>l bracket</td>\n",
       "      <td>2.50</td>\n",
       "      <td>not only do angles make joints stronger, they ...</td>\n",
       "    </tr>\n",
       "    <tr>\n",
       "      <th>2</th>\n",
       "      <td>9</td>\n",
       "      <td>100002</td>\n",
       "      <td>BEHR Premium Textured DeckOver 1-gal. #SC-141 ...</td>\n",
       "      <td>deck over</td>\n",
       "      <td>3.00</td>\n",
       "      <td>behr premium textured deckover is an innovativ...</td>\n",
       "    </tr>\n",
       "    <tr>\n",
       "      <th>3</th>\n",
       "      <td>16</td>\n",
       "      <td>100005</td>\n",
       "      <td>Delta Vero 1-Handle Shower Only Faucet Trim Ki...</td>\n",
       "      <td>rain shower head</td>\n",
       "      <td>2.33</td>\n",
       "      <td>update your bathroom with the delta vero singl...</td>\n",
       "    </tr>\n",
       "    <tr>\n",
       "      <th>4</th>\n",
       "      <td>17</td>\n",
       "      <td>100005</td>\n",
       "      <td>Delta Vero 1-Handle Shower Only Faucet Trim Ki...</td>\n",
       "      <td>shower only faucet</td>\n",
       "      <td>2.67</td>\n",
       "      <td>update your bathroom with the delta vero singl...</td>\n",
       "    </tr>\n",
       "  </tbody>\n",
       "</table>\n",
       "</div>"
      ],
      "text/plain": [
       "   id  product_uid                                      product_title  \\\n",
       "0   2       100001                  Simpson Strong-Tie 12-Gauge Angle   \n",
       "1   3       100001                  Simpson Strong-Tie 12-Gauge Angle   \n",
       "2   9       100002  BEHR Premium Textured DeckOver 1-gal. #SC-141 ...   \n",
       "3  16       100005  Delta Vero 1-Handle Shower Only Faucet Trim Ki...   \n",
       "4  17       100005  Delta Vero 1-Handle Shower Only Faucet Trim Ki...   \n",
       "\n",
       "          search_term  relevance  \\\n",
       "0       angle bracket       3.00   \n",
       "1           l bracket       2.50   \n",
       "2           deck over       3.00   \n",
       "3    rain shower head       2.33   \n",
       "4  shower only faucet       2.67   \n",
       "\n",
       "                                 product_description  \n",
       "0  not only do angles make joints stronger, they ...  \n",
       "1  not only do angles make joints stronger, they ...  \n",
       "2  behr premium textured deckover is an innovativ...  \n",
       "3  update your bathroom with the delta vero singl...  \n",
       "4  update your bathroom with the delta vero singl...  "
      ]
     },
     "execution_count": 56,
     "metadata": {
      "tags": []
     },
     "output_type": "execute_result"
    }
   ],
   "source": [
    "mergedTrain = pd.merge(train, product_descriptions, how='inner', on='product_uid')\n",
    "mergedTrain.search_term = mergedTrain.search_term.apply(lambda x: x.lower())\n",
    "mergedTrain.product_description = mergedTrain.product_description.apply(lambda x: x.lower())\n",
    "\n",
    "mergedTrain.head()"
   ]
  },
  {
   "cell_type": "code",
   "execution_count": 57,
   "metadata": {
    "colab": {
     "base_uri": "https://localhost:8080/",
     "height": 206
    },
    "colab_type": "code",
    "id": "xBf9HVhLdeSD",
    "outputId": "f6ceb995-385a-4862-9a47-601b177ba7ff"
   },
   "outputs": [
    {
     "data": {
      "text/html": [
       "<div>\n",
       "<style scoped>\n",
       "    .dataframe tbody tr th:only-of-type {\n",
       "        vertical-align: middle;\n",
       "    }\n",
       "\n",
       "    .dataframe tbody tr th {\n",
       "        vertical-align: top;\n",
       "    }\n",
       "\n",
       "    .dataframe thead th {\n",
       "        text-align: right;\n",
       "    }\n",
       "</style>\n",
       "<table border=\"1\" class=\"dataframe\">\n",
       "  <thead>\n",
       "    <tr style=\"text-align: right;\">\n",
       "      <th></th>\n",
       "      <th>id</th>\n",
       "      <th>product_uid</th>\n",
       "      <th>product_title</th>\n",
       "      <th>search_term</th>\n",
       "      <th>product_description</th>\n",
       "    </tr>\n",
       "  </thead>\n",
       "  <tbody>\n",
       "    <tr>\n",
       "      <th>0</th>\n",
       "      <td>1</td>\n",
       "      <td>100001</td>\n",
       "      <td>Simpson Strong-Tie 12-Gauge Angle</td>\n",
       "      <td>90 degree bracket</td>\n",
       "      <td>not only do angles make joints stronger, they ...</td>\n",
       "    </tr>\n",
       "    <tr>\n",
       "      <th>1</th>\n",
       "      <td>4</td>\n",
       "      <td>100001</td>\n",
       "      <td>Simpson Strong-Tie 12-Gauge Angle</td>\n",
       "      <td>metal l brackets</td>\n",
       "      <td>not only do angles make joints stronger, they ...</td>\n",
       "    </tr>\n",
       "    <tr>\n",
       "      <th>2</th>\n",
       "      <td>5</td>\n",
       "      <td>100001</td>\n",
       "      <td>Simpson Strong-Tie 12-Gauge Angle</td>\n",
       "      <td>simpson sku able</td>\n",
       "      <td>not only do angles make joints stronger, they ...</td>\n",
       "    </tr>\n",
       "    <tr>\n",
       "      <th>3</th>\n",
       "      <td>6</td>\n",
       "      <td>100001</td>\n",
       "      <td>Simpson Strong-Tie 12-Gauge Angle</td>\n",
       "      <td>simpson strong  ties</td>\n",
       "      <td>not only do angles make joints stronger, they ...</td>\n",
       "    </tr>\n",
       "    <tr>\n",
       "      <th>4</th>\n",
       "      <td>7</td>\n",
       "      <td>100001</td>\n",
       "      <td>Simpson Strong-Tie 12-Gauge Angle</td>\n",
       "      <td>simpson strong tie hcc668</td>\n",
       "      <td>not only do angles make joints stronger, they ...</td>\n",
       "    </tr>\n",
       "  </tbody>\n",
       "</table>\n",
       "</div>"
      ],
      "text/plain": [
       "   id  product_uid                      product_title  \\\n",
       "0   1       100001  Simpson Strong-Tie 12-Gauge Angle   \n",
       "1   4       100001  Simpson Strong-Tie 12-Gauge Angle   \n",
       "2   5       100001  Simpson Strong-Tie 12-Gauge Angle   \n",
       "3   6       100001  Simpson Strong-Tie 12-Gauge Angle   \n",
       "4   7       100001  Simpson Strong-Tie 12-Gauge Angle   \n",
       "\n",
       "                 search_term  \\\n",
       "0          90 degree bracket   \n",
       "1           metal l brackets   \n",
       "2           simpson sku able   \n",
       "3       simpson strong  ties   \n",
       "4  simpson strong tie hcc668   \n",
       "\n",
       "                                 product_description  \n",
       "0  not only do angles make joints stronger, they ...  \n",
       "1  not only do angles make joints stronger, they ...  \n",
       "2  not only do angles make joints stronger, they ...  \n",
       "3  not only do angles make joints stronger, they ...  \n",
       "4  not only do angles make joints stronger, they ...  "
      ]
     },
     "execution_count": 57,
     "metadata": {
      "tags": []
     },
     "output_type": "execute_result"
    }
   ],
   "source": [
    "mergedTest= pd.merge(test, product_descriptions, how='inner', on='product_uid')\n",
    "mergedTest.search_term = mergedTest.search_term.apply(lambda x: x.lower())\n",
    "mergedTest.product_description = mergedTest.product_description.apply(lambda x: x.lower())\n",
    "\n",
    "mergedTest.head()"
   ]
  },
  {
   "cell_type": "code",
   "execution_count": 58,
   "metadata": {
    "colab": {
     "base_uri": "https://localhost:8080/",
     "height": 54
    },
    "colab_type": "code",
    "id": "cpOwUQVT6nTg",
    "outputId": "a992afce-6075-48ee-8e36-c8f8b1319258"
   },
   "outputs": [
    {
     "name": "stdout",
     "output_type": "stream",
     "text": [
      "[nltk_data] Downloading package punkt to /root/nltk_data...\n",
      "[nltk_data]   Package punkt is already up-to-date!\n"
     ]
    }
   ],
   "source": [
    "import nltk\n",
    "nltk.download('punkt')\n",
    "from nltk.tokenize import word_tokenize\n"
   ]
  },
  {
   "cell_type": "code",
   "execution_count": 0,
   "metadata": {
    "colab": {},
    "colab_type": "code",
    "id": "WWHsKOot6KYZ"
   },
   "outputs": [],
   "source": [
    "st_words = []\n",
    "for term in mergedTrain.search_term.values:\n",
    "   for word in word_tokenize(term):\n",
    "      st_words.append(word)\n",
    "st_word_set = sorted(set(st_words))\n",
    "st_dict = dict((c, i) for i, c in enumerate(st_word_set))\n"
   ]
  },
  {
   "cell_type": "code",
   "execution_count": 0,
   "metadata": {
    "colab": {},
    "colab_type": "code",
    "id": "A_moSd-172rP"
   },
   "outputs": [],
   "source": [
    "pd_words = []\n",
    "for term in mergedTrain.product_description.values:\n",
    "   for word in word_tokenize(term):\n",
    "      pd_words.append(word)\n",
    "pd_word_set = sorted(set(pd_words))\n",
    "pd_dict = dict((c, i) for i, c in enumerate(pd_word_set))"
   ]
  },
  {
   "cell_type": "code",
   "execution_count": 0,
   "metadata": {
    "colab": {},
    "colab_type": "code",
    "id": "VGMyeZdhYpsR"
   },
   "outputs": [],
   "source": [
    "st_words2 = []\n",
    "for term in mergedTest.search_term.values:\n",
    "   for word in word_tokenize(term):\n",
    "      st_words2.append(word)\n",
    "st_word_set2 = sorted(set(st_words2))\n",
    "st_dict2 = dict((c, i) for i, c in enumerate(st_word_set2))\n",
    "\n",
    "pd_words2 = []\n",
    "for term in mergedTest.product_description.values:\n",
    "   for word in word_tokenize(term):\n",
    "      pd_words2.append(word)\n",
    "pd_word_set2 = sorted(set(pd_words2))\n",
    "pd_dict2 = dict((c, i) for i, c in enumerate(pd_word_set2))\n"
   ]
  },
  {
   "cell_type": "code",
   "execution_count": 62,
   "metadata": {
    "colab": {
     "base_uri": "https://localhost:8080/",
     "height": 206
    },
    "colab_type": "code",
    "id": "6oEB5jxm9L2t",
    "outputId": "8c810f57-e6e8-4bed-86fb-76fc1a207e46"
   },
   "outputs": [
    {
     "data": {
      "text/html": [
       "<div>\n",
       "<style scoped>\n",
       "    .dataframe tbody tr th:only-of-type {\n",
       "        vertical-align: middle;\n",
       "    }\n",
       "\n",
       "    .dataframe tbody tr th {\n",
       "        vertical-align: top;\n",
       "    }\n",
       "\n",
       "    .dataframe thead th {\n",
       "        text-align: right;\n",
       "    }\n",
       "</style>\n",
       "<table border=\"1\" class=\"dataframe\">\n",
       "  <thead>\n",
       "    <tr style=\"text-align: right;\">\n",
       "      <th></th>\n",
       "      <th>id</th>\n",
       "      <th>product_uid</th>\n",
       "      <th>product_title</th>\n",
       "      <th>search_term</th>\n",
       "      <th>relevance</th>\n",
       "      <th>product_description</th>\n",
       "    </tr>\n",
       "  </thead>\n",
       "  <tbody>\n",
       "    <tr>\n",
       "      <th>0</th>\n",
       "      <td>2</td>\n",
       "      <td>100001</td>\n",
       "      <td>Simpson Strong-Tie 12-Gauge Angle</td>\n",
       "      <td>[1199, 1715]</td>\n",
       "      <td>3.00</td>\n",
       "      <td>[144772, 147036, 70311, 23139, 133460, 119994,...</td>\n",
       "    </tr>\n",
       "    <tr>\n",
       "      <th>1</th>\n",
       "      <td>3</td>\n",
       "      <td>100001</td>\n",
       "      <td>Simpson Strong-Tie 12-Gauge Angle</td>\n",
       "      <td>[4486, 1715]</td>\n",
       "      <td>2.50</td>\n",
       "      <td>[144772, 147036, 70311, 23139, 133460, 119994,...</td>\n",
       "    </tr>\n",
       "    <tr>\n",
       "      <th>2</th>\n",
       "      <td>9</td>\n",
       "      <td>100002</td>\n",
       "      <td>BEHR Premium Textured DeckOver 1-gal. #SC-141 ...</td>\n",
       "      <td>[2657, 5406]</td>\n",
       "      <td>3.00</td>\n",
       "      <td>[33028, 162291, 206607, 64260, 118454, 22904, ...</td>\n",
       "    </tr>\n",
       "    <tr>\n",
       "      <th>3</th>\n",
       "      <td>16</td>\n",
       "      <td>100005</td>\n",
       "      <td>Delta Vero 1-Handle Shower Only Faucet Trim Ki...</td>\n",
       "      <td>[6037, 6714, 3974]</td>\n",
       "      <td>2.33</td>\n",
       "      <td>[215988, 230394, 31540, 227925, 206720, 65819,...</td>\n",
       "    </tr>\n",
       "    <tr>\n",
       "      <th>4</th>\n",
       "      <td>17</td>\n",
       "      <td>100005</td>\n",
       "      <td>Delta Vero 1-Handle Shower Only Faucet Trim Ki...</td>\n",
       "      <td>[6714, 5334, 3259]</td>\n",
       "      <td>2.67</td>\n",
       "      <td>[215988, 230394, 31540, 227925, 206720, 65819,...</td>\n",
       "    </tr>\n",
       "  </tbody>\n",
       "</table>\n",
       "</div>"
      ],
      "text/plain": [
       "   id  product_uid                                      product_title  \\\n",
       "0   2       100001                  Simpson Strong-Tie 12-Gauge Angle   \n",
       "1   3       100001                  Simpson Strong-Tie 12-Gauge Angle   \n",
       "2   9       100002  BEHR Premium Textured DeckOver 1-gal. #SC-141 ...   \n",
       "3  16       100005  Delta Vero 1-Handle Shower Only Faucet Trim Ki...   \n",
       "4  17       100005  Delta Vero 1-Handle Shower Only Faucet Trim Ki...   \n",
       "\n",
       "          search_term  relevance  \\\n",
       "0        [1199, 1715]       3.00   \n",
       "1        [4486, 1715]       2.50   \n",
       "2        [2657, 5406]       3.00   \n",
       "3  [6037, 6714, 3974]       2.33   \n",
       "4  [6714, 5334, 3259]       2.67   \n",
       "\n",
       "                                 product_description  \n",
       "0  [144772, 147036, 70311, 23139, 133460, 119994,...  \n",
       "1  [144772, 147036, 70311, 23139, 133460, 119994,...  \n",
       "2  [33028, 162291, 206607, 64260, 118454, 22904, ...  \n",
       "3  [215988, 230394, 31540, 227925, 206720, 65819,...  \n",
       "4  [215988, 230394, 31540, 227925, 206720, 65819,...  "
      ]
     },
     "execution_count": 62,
     "metadata": {
      "tags": []
     },
     "output_type": "execute_result"
    }
   ],
   "source": [
    "mergedTrain.search_term = mergedTrain.search_term.apply(lambda x: createData(st_dict, word_tokenize(x)))\n",
    "mergedTrain.product_description = mergedTrain.product_description.apply(lambda x: createData(pd_dict, word_tokenize(x)))\n",
    "\n",
    "mergedTrain.head()"
   ]
  },
  {
   "cell_type": "code",
   "execution_count": 63,
   "metadata": {
    "colab": {
     "base_uri": "https://localhost:8080/",
     "height": 206
    },
    "colab_type": "code",
    "id": "mxasCojTYzZA",
    "outputId": "803cdf0f-bc98-4029-a410-e0199a56f7ed"
   },
   "outputs": [
    {
     "data": {
      "text/html": [
       "<div>\n",
       "<style scoped>\n",
       "    .dataframe tbody tr th:only-of-type {\n",
       "        vertical-align: middle;\n",
       "    }\n",
       "\n",
       "    .dataframe tbody tr th {\n",
       "        vertical-align: top;\n",
       "    }\n",
       "\n",
       "    .dataframe thead th {\n",
       "        text-align: right;\n",
       "    }\n",
       "</style>\n",
       "<table border=\"1\" class=\"dataframe\">\n",
       "  <thead>\n",
       "    <tr style=\"text-align: right;\">\n",
       "      <th></th>\n",
       "      <th>id</th>\n",
       "      <th>product_uid</th>\n",
       "      <th>product_title</th>\n",
       "      <th>search_term</th>\n",
       "      <th>product_description</th>\n",
       "    </tr>\n",
       "  </thead>\n",
       "  <tbody>\n",
       "    <tr>\n",
       "      <th>0</th>\n",
       "      <td>1</td>\n",
       "      <td>100001</td>\n",
       "      <td>Simpson Strong-Tie 12-Gauge Angle</td>\n",
       "      <td>[1552, 4037, 2643]</td>\n",
       "      <td>[208063, 211305, 100927, 32893, 191495, 172146...</td>\n",
       "    </tr>\n",
       "    <tr>\n",
       "      <th>1</th>\n",
       "      <td>4</td>\n",
       "      <td>100001</td>\n",
       "      <td>Simpson Strong-Tie 12-Gauge Angle</td>\n",
       "      <td>[7344, 6673, 2644]</td>\n",
       "      <td>[208063, 211305, 100927, 32893, 191495, 172146...</td>\n",
       "    </tr>\n",
       "    <tr>\n",
       "      <th>2</th>\n",
       "      <td>5</td>\n",
       "      <td>100001</td>\n",
       "      <td>Simpson Strong-Tie 12-Gauge Angle</td>\n",
       "      <td>[10001, 10046, 1616]</td>\n",
       "      <td>[208063, 211305, 100927, 32893, 191495, 172146...</td>\n",
       "    </tr>\n",
       "    <tr>\n",
       "      <th>3</th>\n",
       "      <td>6</td>\n",
       "      <td>100001</td>\n",
       "      <td>Simpson Strong-Tie 12-Gauge Angle</td>\n",
       "      <td>[10001, 10553, 10977]</td>\n",
       "      <td>[208063, 211305, 100927, 32893, 191495, 172146...</td>\n",
       "    </tr>\n",
       "    <tr>\n",
       "      <th>4</th>\n",
       "      <td>7</td>\n",
       "      <td>100001</td>\n",
       "      <td>Simpson Strong-Tie 12-Gauge Angle</td>\n",
       "      <td>[10001, 10553, 10973, 5880]</td>\n",
       "      <td>[208063, 211305, 100927, 32893, 191495, 172146...</td>\n",
       "    </tr>\n",
       "  </tbody>\n",
       "</table>\n",
       "</div>"
      ],
      "text/plain": [
       "   id  product_uid                      product_title  \\\n",
       "0   1       100001  Simpson Strong-Tie 12-Gauge Angle   \n",
       "1   4       100001  Simpson Strong-Tie 12-Gauge Angle   \n",
       "2   5       100001  Simpson Strong-Tie 12-Gauge Angle   \n",
       "3   6       100001  Simpson Strong-Tie 12-Gauge Angle   \n",
       "4   7       100001  Simpson Strong-Tie 12-Gauge Angle   \n",
       "\n",
       "                   search_term  \\\n",
       "0           [1552, 4037, 2643]   \n",
       "1           [7344, 6673, 2644]   \n",
       "2         [10001, 10046, 1616]   \n",
       "3        [10001, 10553, 10977]   \n",
       "4  [10001, 10553, 10973, 5880]   \n",
       "\n",
       "                                 product_description  \n",
       "0  [208063, 211305, 100927, 32893, 191495, 172146...  \n",
       "1  [208063, 211305, 100927, 32893, 191495, 172146...  \n",
       "2  [208063, 211305, 100927, 32893, 191495, 172146...  \n",
       "3  [208063, 211305, 100927, 32893, 191495, 172146...  \n",
       "4  [208063, 211305, 100927, 32893, 191495, 172146...  "
      ]
     },
     "execution_count": 63,
     "metadata": {
      "tags": []
     },
     "output_type": "execute_result"
    }
   ],
   "source": [
    "mergedTest.search_term = mergedTest.search_term.apply(lambda x: createData(st_dict2, word_tokenize(x)))\n",
    "mergedTest.product_description = mergedTest.product_description.apply(lambda x: createData(pd_dict2, word_tokenize(x)))\n",
    "\n",
    "mergedTest.head()"
   ]
  },
  {
   "cell_type": "markdown",
   "metadata": {
    "colab_type": "text",
    "id": "NnuokfV9ac1u"
   },
   "source": [
    "## Data Normalization"
   ]
  },
  {
   "cell_type": "markdown",
   "metadata": {
    "colab_type": "text",
    "id": "WvP0lCwHaK9d"
   },
   "source": [
    "We normalize the target relevance to be in the 0 - 1 range, like in the first part. We try to limit the word sequences to 50 words as in the same manner as characters."
   ]
  },
  {
   "cell_type": "code",
   "execution_count": 64,
   "metadata": {
    "colab": {
     "base_uri": "https://localhost:8080/",
     "height": 109
    },
    "colab_type": "code",
    "id": "pI78eYMv5q-_",
    "outputId": "a9d92b8a-1315-4b60-f75f-4ad2471ca142"
   },
   "outputs": [
    {
     "data": {
      "text/plain": [
       "array([[1.   ],\n",
       "       [0.75 ],\n",
       "       [1.   ],\n",
       "       [0.665],\n",
       "       [0.835]])"
      ]
     },
     "execution_count": 64,
     "metadata": {
      "tags": []
     },
     "output_type": "execute_result"
    }
   ],
   "source": [
    "target = mergedTrain['relevance'].values\n",
    "min_max_scaler = preprocessing.MinMaxScaler()\n",
    "Y = min_max_scaler.fit_transform(target.reshape(-1, 1))\n",
    "\n",
    "Y[:5]\n"
   ]
  },
  {
   "cell_type": "code",
   "execution_count": 0,
   "metadata": {
    "colab": {},
    "colab_type": "code",
    "id": "dwzQQJBGCpGM"
   },
   "outputs": [],
   "source": [
    "X1 = mergedTrain['search_term'].values\n",
    "X2 = mergedTrain['product_description'].values\n",
    "\n",
    "search_terms_lens = []\n",
    "for element in mergedTrain['search_term'].values:\n",
    "    search_terms_lens.append(len(element))\n",
    "    \n",
    "product_description_lens = []\n",
    "for element in mergedTrain['product_description'].values:\n",
    "    product_description_lens.append(len(element))\n",
    "    \n",
    "max_length1 = max(search_terms_lens)\n",
    "max_length2 = max(product_description_lens)\n"
   ]
  },
  {
   "cell_type": "code",
   "execution_count": 0,
   "metadata": {
    "colab": {},
    "colab_type": "code",
    "id": "DngJQER1C3p8"
   },
   "outputs": [],
   "source": [
    "max_length = 30\n",
    "\n",
    "def padding(seq, length):\n",
    "    ans = []\n",
    "    for i in range(0,min(len(seq),length)):\n",
    "        ans.append(seq[i])\n",
    "    if len(seq) <= length:\n",
    "        for i in range(0,length-len(seq)):\n",
    "            ans.append(0)\n",
    "    return ans\n",
    "\n",
    "X1 = np.asarray([padding(x,max_length) for x in X1])\n",
    "X2 = np.asarray([padding(x,max_length) for x in X2])\n",
    "X1 = X1.reshape(X1.shape[0],X1.shape[1],1)\n",
    "X2 = X2.reshape(X2.shape[0],X2.shape[1],1)"
   ]
  },
  {
   "cell_type": "code",
   "execution_count": 0,
   "metadata": {
    "colab": {},
    "colab_type": "code",
    "id": "aMv_GeDqbyPx"
   },
   "outputs": [],
   "source": [
    "X1_test = mergedTest.search_term.values\n",
    "X2_test = mergedTest.product_description.values\n",
    "X1_test = np.asarray([padding(x,max_length) for x in X1_test])\n",
    "X2_test = np.asarray([padding(x,max_length) for x in X2_test])\n",
    "X1_test = X1_test.reshape(X1_test.shape[0],X1_test.shape[1],1)\n",
    "X2_test = X2_test.reshape(X2_test.shape[0],X2_test.shape[1],1)"
   ]
  },
  {
   "cell_type": "markdown",
   "metadata": {
    "colab_type": "text",
    "id": "pdXAj-pwafw0"
   },
   "source": [
    "## Model Fitting + Predictions"
   ]
  },
  {
   "cell_type": "markdown",
   "metadata": {
    "colab_type": "text",
    "id": "ad8IDGkhaXfl"
   },
   "source": [
    "The model is created in the same manner as in the first part. the only difference is that the input now are embedded word sequences of the data samples."
   ]
  },
  {
   "cell_type": "code",
   "execution_count": 0,
   "metadata": {
    "colab": {},
    "colab_type": "code",
    "id": "i-HHEg7bkABB"
   },
   "outputs": [],
   "source": [
    "def set_callbacks2(description='run1',patience=15,tb_base_logdir='./logs/'):\n",
    "    cp = ModelCheckpoint(path + '/best_model_weights_word.h5'.format(description),save_best_only=True)\n",
    "    rlop = ReduceLROnPlateau(patience=5)   \n",
    "    cb = [cp,rlop]\n",
    "    return cb"
   ]
  },
  {
   "cell_type": "code",
   "execution_count": 69,
   "metadata": {
    "colab": {
     "base_uri": "https://localhost:8080/",
     "height": 35
    },
    "colab_type": "code",
    "id": "XUIDq0n0C5Gs",
    "outputId": "89281375-8e18-4dc5-a1d1-006880d3a45b"
   },
   "outputs": [
    {
     "name": "stderr",
     "output_type": "stream",
     "text": [
      "/usr/local/lib/python3.6/dist-packages/ipykernel_launcher.py:19: UserWarning: Update your `Model` call to the Keras 2 API: `Model(inputs=[<tf.Tenso..., outputs=[<tf.Tenso...)`\n"
     ]
    }
   ],
   "source": [
    "st_input = Input(shape=(max_length,1), name='st_input')\n",
    "pd_input = Input(shape=(max_length,1), name='pd_input')\n",
    "\n",
    "\n",
    "def createModel():\n",
    "    model = Sequential()\n",
    "    model.add(LSTM(40))\n",
    "    model.add(Dense(40, activation='relu'))\n",
    "    return model\n",
    "  \n",
    "st_model3 = createModel()\n",
    "pd_model3 = createModel()\n",
    "\n",
    "\n",
    "def createSiameseModel(model1,model2,customLoss):\n",
    "  out = Lambda(function=lambda x: K.exp(-K.sum(K.abs(x[0]-x[1]), axis=1, keepdims=True)),\n",
    "                output_shape=lambda x: (x[0][0], 1),\n",
    "                name='prediction')([model1(st_input), model2(pd_input)])\n",
    "  siamese_net = Model(input=[st_input,pd_input],output=[out])\n",
    "  siamese_net.compile(loss=customLoss,optimizer=Adadelta(lr=1.0, rho=0.95,clipnorm=1.20))\n",
    "  return siamese_net\n",
    "\n",
    "siamese_net3 = createSiameseModel(st_model3,pd_model3,'mse')\n",
    "siamese_net4 = createSiameseModel(st_model3,pd_model3,'mae')"
   ]
  },
  {
   "cell_type": "code",
   "execution_count": 70,
   "metadata": {
    "colab": {
     "base_uri": "https://localhost:8080/",
     "height": 348
    },
    "colab_type": "code",
    "id": "Rfi_TWWCDV0_",
    "outputId": "816f4401-a08d-4cce-bd24-c7c803e9266e"
   },
   "outputs": [
    {
     "name": "stdout",
     "output_type": "stream",
     "text": [
      "__________________________________________________________________________________________________\n",
      "Layer (type)                    Output Shape         Param #     Connected to                     \n",
      "==================================================================================================\n",
      "st_input (InputLayer)           (None, 30, 1)        0                                            \n",
      "__________________________________________________________________________________________________\n",
      "pd_input (InputLayer)           (None, 30, 1)        0                                            \n",
      "__________________________________________________________________________________________________\n",
      "sequential_5 (Sequential)       (None, 40)           8360        st_input[0][0]                   \n",
      "__________________________________________________________________________________________________\n",
      "sequential_6 (Sequential)       (None, 40)           8360        pd_input[0][0]                   \n",
      "__________________________________________________________________________________________________\n",
      "prediction (Lambda)             (None, 1)            0           sequential_5[1][0]               \n",
      "                                                                 sequential_6[1][0]               \n",
      "==================================================================================================\n",
      "Total params: 16,720\n",
      "Trainable params: 16,720\n",
      "Non-trainable params: 0\n",
      "__________________________________________________________________________________________________\n"
     ]
    }
   ],
   "source": [
    "siamese_net3.summary()"
   ]
  },
  {
   "cell_type": "code",
   "execution_count": 71,
   "metadata": {
    "colab": {
     "base_uri": "https://localhost:8080/",
     "height": 219
    },
    "colab_type": "code",
    "id": "iNJhKxS6DT-g",
    "outputId": "4618b012-9c4e-4107-d20e-8042c35ee442"
   },
   "outputs": [
    {
     "name": "stdout",
     "output_type": "stream",
     "text": [
      "Train on 59253 samples, validate on 14814 samples\n",
      "Epoch 1/5\n",
      "59253/59253 [==============================] - 17s 284us/step - loss: 0.2280 - val_loss: 0.0912\n",
      "Epoch 2/5\n",
      "59253/59253 [==============================] - 15s 259us/step - loss: 0.0794 - val_loss: 0.0724\n",
      "Epoch 3/5\n",
      "59253/59253 [==============================] - 15s 252us/step - loss: 0.0715 - val_loss: 0.0722\n",
      "Epoch 4/5\n",
      "59253/59253 [==============================] - 15s 253us/step - loss: 0.0715 - val_loss: 0.0743\n",
      "Epoch 5/5\n",
      "59253/59253 [==============================] - 15s 253us/step - loss: 0.0715 - val_loss: 0.0713\n"
     ]
    }
   ],
   "source": [
    "X1_train,X1_val,X2_train,X2_val,Y_train, Y_val = train_test_split(X1,X2,Y,test_size = 0.2)\n",
    "\n",
    "start = time.time()\n",
    "history3 = siamese_net3.fit([X1_train,X2_train],Y_train,batch_size=1024, epochs=5, verbose=1, validation_data=([X1_val,X2_val],Y_val), callbacks=set_callbacks2())\n",
    "end = time.time()\n",
    "total_time = end - start"
   ]
  },
  {
   "cell_type": "code",
   "execution_count": 0,
   "metadata": {
    "colab": {},
    "colab_type": "code",
    "id": "ipR7KCVXXbW4"
   },
   "outputs": [],
   "source": [
    "val_preds = siamese_net3.predict([X1_val,X2_val])\n",
    "train_preds = siamese_net3.predict([X1_train,X2_train])\n",
    "test_preds = siamese_net3.predict([X1_test,X2_test])"
   ]
  },
  {
   "cell_type": "code",
   "execution_count": 73,
   "metadata": {
    "colab": {
     "base_uri": "https://localhost:8080/",
     "height": 265
    },
    "colab_type": "code",
    "id": "HTrAevDDDcCQ",
    "outputId": "237a81de-9bbe-46a7-9b70-b660f6c582e0"
   },
   "outputs": [
    {
     "data": {
      "image/png": "[encoded data removed]",
      "text/plain": [
       "<Figure size 432x288 with 1 Axes>"
      ]
     },
     "metadata": {
      "tags": []
     },
     "output_type": "display_data"
    }
   ],
   "source": [
    "plt.plot(history3.history['loss'], label='train')\n",
    "plt.plot(history3.history['val_loss'], label='test')\n",
    "plt.legend()\n",
    "plt.show()\n"
   ]
  },
  {
   "cell_type": "markdown",
   "metadata": {
    "colab_type": "text",
    "id": "oF4UrpZOAVs_"
   },
   "source": [
    "### Validation Results"
   ]
  },
  {
   "cell_type": "code",
   "execution_count": 74,
   "metadata": {
    "colab": {
     "base_uri": "https://localhost:8080/",
     "height": 513
    },
    "colab_type": "code",
    "id": "mj15od96DqTP",
    "outputId": "7a485e9e-b3d2-4dda-ac8c-a3f0dffa061e"
   },
   "outputs": [
    {
     "data": {
      "image/png": "[encoded data removed]",
      "text/plain": [
       "<Figure size 432x288 with 1 Axes>"
      ]
     },
     "metadata": {
      "tags": []
     },
     "output_type": "display_data"
    },
    {
     "data": {
      "image/png": "[encoded data removed]",
      "text/plain": [
       "<Figure size 432x288 with 1 Axes>"
      ]
     },
     "metadata": {
      "tags": []
     },
     "output_type": "display_data"
    }
   ],
   "source": [
    "\n",
    "plt.hist(revertNormalization(val_preds),density=True, histtype='bar')\n",
    "plt.show()\n",
    "plt.hist(revertNormalization(Y_val),density=True, histtype='bar')\n",
    "plt.show()"
   ]
  },
  {
   "cell_type": "markdown",
   "metadata": {
    "colab_type": "text",
    "id": "K6d27VZVAYmM"
   },
   "source": [
    "### Test Results"
   ]
  },
  {
   "cell_type": "code",
   "execution_count": 75,
   "metadata": {
    "colab": {
     "base_uri": "https://localhost:8080/",
     "height": 513
    },
    "colab_type": "code",
    "id": "HWGGrjcZAasQ",
    "outputId": "e985418d-d84e-4fdf-b17c-a7dd9c8f2248"
   },
   "outputs": [
    {
     "data": {
      "image/png": "[encoded data removed]",
      "text/plain": [
       "<Figure size 432x288 with 1 Axes>"
      ]
     },
     "metadata": {
      "tags": []
     },
     "output_type": "display_data"
    },
    {
     "data": {
      "image/png": "[encoded data removed]",
      "text/plain": [
       "<Figure size 432x288 with 1 Axes>"
      ]
     },
     "metadata": {
      "tags": []
     },
     "output_type": "display_data"
    }
   ],
   "source": [
    "\n",
    "plt.hist(revertNormalization(test_preds),density=True, histtype='bar')\n",
    "plt.show()\n",
    "plt.hist(revertNormalization(Y_test),density=True, histtype='bar')\n",
    "plt.show()"
   ]
  },
  {
   "cell_type": "code",
   "execution_count": 76,
   "metadata": {
    "colab": {
     "base_uri": "https://localhost:8080/",
     "height": 206
    },
    "colab_type": "code",
    "id": "n-Vzx8yfEe7n",
    "outputId": "526bafbe-09b9-468e-96f8-8bfc78f540fc"
   },
   "outputs": [
    {
     "data": {
      "text/html": [
       "<div>\n",
       "<style scoped>\n",
       "    .dataframe tbody tr th:only-of-type {\n",
       "        vertical-align: middle;\n",
       "    }\n",
       "\n",
       "    .dataframe tbody tr th {\n",
       "        vertical-align: top;\n",
       "    }\n",
       "\n",
       "    .dataframe thead th {\n",
       "        text-align: right;\n",
       "    }\n",
       "</style>\n",
       "<table border=\"1\" class=\"dataframe\">\n",
       "  <thead>\n",
       "    <tr style=\"text-align: right;\">\n",
       "      <th></th>\n",
       "      <th>model</th>\n",
       "      <th>runtime</th>\n",
       "      <th>TrainRMSE</th>\n",
       "      <th>ValRMSE</th>\n",
       "      <th>TestRMSE</th>\n",
       "      <th>TrainMAE</th>\n",
       "      <th>ValMAE</th>\n",
       "      <th>TestMAE</th>\n",
       "    </tr>\n",
       "  </thead>\n",
       "  <tbody>\n",
       "    <tr>\n",
       "      <th>0</th>\n",
       "      <td>CHAR_SiameseNetwork</td>\n",
       "      <td>132.153588</td>\n",
       "      <td>0.284046</td>\n",
       "      <td>0.285338</td>\n",
       "      <td>3.954929</td>\n",
       "      <td>0.437019</td>\n",
       "      <td>0.436452</td>\n",
       "      <td>1.404840</td>\n",
       "    </tr>\n",
       "    <tr>\n",
       "      <th>1</th>\n",
       "      <td>CHAR_RandomForestBenchmark</td>\n",
       "      <td>46.228773</td>\n",
       "      <td>0.156810</td>\n",
       "      <td>0.230951</td>\n",
       "      <td>4.164663</td>\n",
       "      <td>0.308467</td>\n",
       "      <td>0.377454</td>\n",
       "      <td>1.428889</td>\n",
       "    </tr>\n",
       "    <tr>\n",
       "      <th>2</th>\n",
       "      <td>FE_RandomForest_CHAR</td>\n",
       "      <td>6.859185</td>\n",
       "      <td>0.131588</td>\n",
       "      <td>0.242680</td>\n",
       "      <td>4.171411</td>\n",
       "      <td>0.275356</td>\n",
       "      <td>0.386893</td>\n",
       "      <td>1.437754</td>\n",
       "    </tr>\n",
       "    <tr>\n",
       "      <th>3</th>\n",
       "      <td>FE_Adaboost_CHAR</td>\n",
       "      <td>2.208713</td>\n",
       "      <td>0.287369</td>\n",
       "      <td>0.288035</td>\n",
       "      <td>3.775366</td>\n",
       "      <td>0.442420</td>\n",
       "      <td>0.440698</td>\n",
       "      <td>1.381365</td>\n",
       "    </tr>\n",
       "    <tr>\n",
       "      <th>4</th>\n",
       "      <td>WORD_SiameseNetwork</td>\n",
       "      <td>81.938102</td>\n",
       "      <td>0.285369</td>\n",
       "      <td>0.285096</td>\n",
       "      <td>3.887307</td>\n",
       "      <td>0.435509</td>\n",
       "      <td>0.435625</td>\n",
       "      <td>1.393851</td>\n",
       "    </tr>\n",
       "  </tbody>\n",
       "</table>\n",
       "</div>"
      ],
      "text/plain": [
       "                        model     runtime  TrainRMSE   ValRMSE  TestRMSE  \\\n",
       "0         CHAR_SiameseNetwork  132.153588   0.284046  0.285338  3.954929   \n",
       "1  CHAR_RandomForestBenchmark   46.228773   0.156810  0.230951  4.164663   \n",
       "2        FE_RandomForest_CHAR    6.859185   0.131588  0.242680  4.171411   \n",
       "3            FE_Adaboost_CHAR    2.208713   0.287369  0.288035  3.775366   \n",
       "4         WORD_SiameseNetwork   81.938102   0.285369  0.285096  3.887307   \n",
       "\n",
       "   TrainMAE    ValMAE   TestMAE  \n",
       "0  0.437019  0.436452  1.404840  \n",
       "1  0.308467  0.377454  1.428889  \n",
       "2  0.275356  0.386893  1.437754  \n",
       "3  0.442420  0.440698  1.381365  \n",
       "4  0.435509  0.435625  1.393851  "
      ]
     },
     "execution_count": 76,
     "metadata": {
      "tags": []
     },
     "output_type": "execute_result"
    }
   ],
   "source": [
    "resultsTable = addToTable('WORD_SiameseNetwork',total_time,\n",
    "                          mse(revertNormalization(train_preds),revertNormalization(Y_train)),mse(revertNormalization(val_preds),revertNormalization(Y_val)),mse(revertNormalization(test_preds),Y_test)\n",
    "                          ,mae(revertNormalization(train_preds),revertNormalization(Y_train)),mae(revertNormalization(val_preds),revertNormalization(Y_val)),mae(revertNormalization(test_preds),Y_test))\n",
    "resultsTable"
   ]
  },
  {
   "cell_type": "markdown",
   "metadata": {
    "colab_type": "text",
    "id": "Rp8URJurba0n"
   },
   "source": [
    "We see that the word model outperformed the character model, but only by a little bit. "
   ]
  },
  {
   "cell_type": "markdown",
   "metadata": {
    "colab_type": "text",
    "id": "mExqjSNSaPP4"
   },
   "source": [
    "## Feature Extraction - Word Level"
   ]
  },
  {
   "cell_type": "markdown",
   "metadata": {
    "colab_type": "text",
    "id": "IhZKhZy-bl9Y"
   },
   "source": [
    "Again, we want to check our feature extraction capabilites of the word model by feeding the features that the model finds to classic ML models to see their performance with the processed data that our model creates during the learning phase."
   ]
  },
  {
   "cell_type": "code",
   "execution_count": 77,
   "metadata": {
    "colab": {
     "base_uri": "https://localhost:8080/",
     "height": 54
    },
    "colab_type": "code",
    "id": "JLn-Gy2waOQ8",
    "outputId": "e961ac14-df78-4f4f-c326-58f22ebab523"
   },
   "outputs": [
    {
     "name": "stderr",
     "output_type": "stream",
     "text": [
      "/usr/local/lib/python3.6/dist-packages/ipykernel_launcher.py:16: UserWarning: Update your `Model` call to the Keras 2 API: `Model(inputs=[<tf.Tenso..., outputs=[<tf.Tenso...)`\n",
      "  app.launch_new_instance()\n"
     ]
    }
   ],
   "source": [
    "fe_st_input = Input(shape=(max_length,1), name='st_input',dtype='float32')\n",
    "fe_pd_input = Input(shape=(max_length,1), name='pd_input',dtype='float32')\n",
    "\n",
    "input_layer1 = siamese_net1.layers[0].input[0]\n",
    "input_layer2 = siamese_net1.layers[1].input[0]\n",
    "\n",
    "fe_st_model = createModel()\n",
    "fe_pd_model = createModel()\n",
    "\n",
    "output_layer1 = siamese_net1.layers[3].get_output_at(0)\n",
    "output_layer2 = siamese_net1.layers[3].get_output_at(1)\n",
    "\n",
    "output_fn = K.function([st_input, pd_input], [output_layer1, output_layer2])\n",
    "def extractFeatures(model1,model2,customLoss):\n",
    "  out = concatenate([model1(fe_st_input), model2(fe_pd_input)])\n",
    "  siamese_net = Model(input=[fe_st_input,fe_pd_input],output=[out])\n",
    "  siamese_net.load_weights(path + '/best_model_weights_word.h5')\n",
    "  siamese_net.compile(loss=customLoss,optimizer=Adadelta(lr=1.0, rho=0.95,clipnorm=1.20))\n",
    "  return siamese_net\n",
    "\n",
    "fe_model = extractFeatures(fe_st_model,fe_pd_model,'mse')\n"
   ]
  },
  {
   "cell_type": "code",
   "execution_count": 0,
   "metadata": {
    "colab": {},
    "colab_type": "code",
    "id": "Y4U9zq8nbBC_"
   },
   "outputs": [],
   "source": [
    "fe_train_features = fe_model.predict([X1_train,X2_train])\n",
    "fe_val_features = fe_model.predict([X1_val,X2_val])\n",
    "fe_test_features = fe_model.predict([X1_test,X2_test])"
   ]
  },
  {
   "cell_type": "code",
   "execution_count": 79,
   "metadata": {
    "colab": {
     "base_uri": "https://localhost:8080/",
     "height": 90
    },
    "colab_type": "code",
    "id": "XNOM5_dxba5Q",
    "outputId": "a70a3a57-70b5-481c-f88c-c29e4d783ffb"
   },
   "outputs": [
    {
     "name": "stderr",
     "output_type": "stream",
     "text": [
      "/usr/local/lib/python3.6/dist-packages/sklearn/ensemble/forest.py:246: FutureWarning: The default value of n_estimators will change from 10 in version 0.20 to 100 in 0.22.\n",
      "  \"10 in version 0.20 to 100 in 0.22.\", FutureWarning)\n",
      "/usr/local/lib/python3.6/dist-packages/ipykernel_launcher.py:4: DataConversionWarning: A column-vector y was passed when a 1d array was expected. Please change the shape of y to (n_samples,), for example using ravel().\n",
      "  after removing the cwd from sys.path.\n"
     ]
    }
   ],
   "source": [
    "\n",
    "randomForest2 = ensemble.RandomForestRegressor()\n",
    "start_time = time.time()\n",
    "randomForest2.fit(fe_train_features, Y_train)\n",
    "end_time = time.time()\n",
    "total_time = end_time - start_time\n",
    "\n",
    "\n",
    "fe_train_preds = randomForest2.predict(fe_train_features)\n",
    "fe_val_preds = randomForest2.predict(fe_val_features)\n",
    "fe_test_preds = randomForest2.predict(fe_test_features)\n",
    "\n",
    "resultsTable = addToTable('FE_RandomForest_WORD',total_time,\n",
    "                          mse(revertNormalization(fe_train_preds),revertNormalization(Y_train)),mse(revertNormalization(fe_val_preds),revertNormalization(Y_val)),mse(revertNormalization(fe_test_preds),Y_test),\n",
    "                          mae(revertNormalization(fe_train_preds),revertNormalization(Y_train)),mae(revertNormalization(fe_val_preds),revertNormalization(Y_val)),mae(revertNormalization(fe_test_preds),Y_test))\n"
   ]
  },
  {
   "cell_type": "code",
   "execution_count": 80,
   "metadata": {
    "colab": {
     "base_uri": "https://localhost:8080/",
     "height": 74
    },
    "colab_type": "code",
    "id": "KEapYY3PbgC9",
    "outputId": "e6cad0d3-55db-4c68-cc27-a4d57a68d49c"
   },
   "outputs": [
    {
     "name": "stderr",
     "output_type": "stream",
     "text": [
      "/usr/local/lib/python3.6/dist-packages/sklearn/utils/validation.py:761: DataConversionWarning: A column-vector y was passed when a 1d array was expected. Please change the shape of y to (n_samples, ), for example using ravel().\n",
      "  y = column_or_1d(y, warn=True)\n"
     ]
    }
   ],
   "source": [
    "\n",
    "adaboost2 = ensemble.AdaBoostRegressor()\n",
    "start_time = time.time()\n",
    "adaboost2.fit(fe_train_features, Y_train)\n",
    "end_time = time.time()\n",
    "total_time = end_time - start_time\n",
    "\n",
    "\n",
    "fe_train_preds2= adaboost2.predict(fe_train_features)\n",
    "fe_val_preds2 = adaboost2.predict(fe_val_features)\n",
    "fe_test_preds2 = adaboost2.predict(fe_test_features)\n",
    "\n",
    "resultsTable = addToTable('FE_AdaBoostRegressor_WORD',total_time,\n",
    "                          mse(revertNormalization(fe_train_preds2),revertNormalization(Y_train)),mse(revertNormalization(fe_val_preds2),revertNormalization(Y_val)),mse(revertNormalization(fe_test_preds2),Y_test),\n",
    "                          mae(revertNormalization(fe_train_preds2),revertNormalization(Y_train)),mae(revertNormalization(fe_val_preds2),revertNormalization(Y_val)),mae(revertNormalization(fe_test_preds2),Y_test))\n"
   ]
  },
  {
   "cell_type": "code",
   "execution_count": 82,
   "metadata": {
    "colab": {
     "base_uri": "https://localhost:8080/",
     "height": 806
    },
    "colab_type": "code",
    "id": "5PaFSokKMx0D",
    "outputId": "9094d3a8-98d9-4a96-92ea-3650ad18a18d"
   },
   "outputs": [
    {
     "data": {
      "image/png": "[encoded data removed]",
      "text/plain": [
       "<Figure size 432x288 with 1 Axes>"
      ]
     },
     "metadata": {
      "tags": []
     },
     "output_type": "display_data"
    },
    {
     "data": {
      "image/png": "[encoded data removed]",
      "text/plain": [
       "<Figure size 432x288 with 1 Axes>"
      ]
     },
     "metadata": {
      "tags": []
     },
     "output_type": "display_data"
    },
    {
     "data": {
      "image/png": "[encoded data removed]",
      "text/plain": [
       "<Figure size 432x288 with 1 Axes>"
      ]
     },
     "metadata": {
      "tags": []
     },
     "output_type": "display_data"
    }
   ],
   "source": [
    "plt.hist(revertNormalization(fe_test_preds),density=True, histtype='bar')\n",
    "plt.title('Random Forest FE test Results')\n",
    "plt.show()\n",
    "plt.hist(revertNormalization(fe_test_preds2),density=True, histtype='bar')\n",
    "plt.title('Adaboost FE test Results')\n",
    "plt.show()\n",
    "plt.hist(Y_test,density=True, histtype='bar')\n",
    "plt.title('True Values')\n",
    "plt.show()"
   ]
  },
  {
   "cell_type": "code",
   "execution_count": 83,
   "metadata": {
    "colab": {
     "base_uri": "https://localhost:8080/",
     "height": 269
    },
    "colab_type": "code",
    "id": "iNgrqbCaq18j",
    "outputId": "c0442e53-8ef3-4b6b-c3bc-1aa4f997b46b"
   },
   "outputs": [
    {
     "data": {
      "text/html": [
       "<div>\n",
       "<style scoped>\n",
       "    .dataframe tbody tr th:only-of-type {\n",
       "        vertical-align: middle;\n",
       "    }\n",
       "\n",
       "    .dataframe tbody tr th {\n",
       "        vertical-align: top;\n",
       "    }\n",
       "\n",
       "    .dataframe thead th {\n",
       "        text-align: right;\n",
       "    }\n",
       "</style>\n",
       "<table border=\"1\" class=\"dataframe\">\n",
       "  <thead>\n",
       "    <tr style=\"text-align: right;\">\n",
       "      <th></th>\n",
       "      <th>model</th>\n",
       "      <th>runtime</th>\n",
       "      <th>TrainRMSE</th>\n",
       "      <th>ValRMSE</th>\n",
       "      <th>TestRMSE</th>\n",
       "      <th>TrainMAE</th>\n",
       "      <th>ValMAE</th>\n",
       "      <th>TestMAE</th>\n",
       "    </tr>\n",
       "  </thead>\n",
       "  <tbody>\n",
       "    <tr>\n",
       "      <th>0</th>\n",
       "      <td>CHAR_SiameseNetwork</td>\n",
       "      <td>132.153588</td>\n",
       "      <td>0.284046</td>\n",
       "      <td>0.285338</td>\n",
       "      <td>3.954929</td>\n",
       "      <td>0.437019</td>\n",
       "      <td>0.436452</td>\n",
       "      <td>1.404840</td>\n",
       "    </tr>\n",
       "    <tr>\n",
       "      <th>1</th>\n",
       "      <td>CHAR_RandomForestBenchmark</td>\n",
       "      <td>46.228773</td>\n",
       "      <td>0.156810</td>\n",
       "      <td>0.230951</td>\n",
       "      <td>4.164663</td>\n",
       "      <td>0.308467</td>\n",
       "      <td>0.377454</td>\n",
       "      <td>1.428889</td>\n",
       "    </tr>\n",
       "    <tr>\n",
       "      <th>2</th>\n",
       "      <td>FE_RandomForest_CHAR</td>\n",
       "      <td>6.859185</td>\n",
       "      <td>0.131588</td>\n",
       "      <td>0.242680</td>\n",
       "      <td>4.171411</td>\n",
       "      <td>0.275356</td>\n",
       "      <td>0.386893</td>\n",
       "      <td>1.437754</td>\n",
       "    </tr>\n",
       "    <tr>\n",
       "      <th>3</th>\n",
       "      <td>FE_Adaboost_CHAR</td>\n",
       "      <td>2.208713</td>\n",
       "      <td>0.287369</td>\n",
       "      <td>0.288035</td>\n",
       "      <td>3.775366</td>\n",
       "      <td>0.442420</td>\n",
       "      <td>0.440698</td>\n",
       "      <td>1.381365</td>\n",
       "    </tr>\n",
       "    <tr>\n",
       "      <th>4</th>\n",
       "      <td>WORD_SiameseNetwork</td>\n",
       "      <td>81.938102</td>\n",
       "      <td>0.285369</td>\n",
       "      <td>0.285096</td>\n",
       "      <td>3.887307</td>\n",
       "      <td>0.435509</td>\n",
       "      <td>0.435625</td>\n",
       "      <td>1.393851</td>\n",
       "    </tr>\n",
       "    <tr>\n",
       "      <th>5</th>\n",
       "      <td>FE_RandomForest_WORD</td>\n",
       "      <td>3.425977</td>\n",
       "      <td>0.251777</td>\n",
       "      <td>0.272166</td>\n",
       "      <td>4.025584</td>\n",
       "      <td>0.405640</td>\n",
       "      <td>0.425316</td>\n",
       "      <td>1.416301</td>\n",
       "    </tr>\n",
       "    <tr>\n",
       "      <th>6</th>\n",
       "      <td>FE_AdaBoostRegressor_WORD</td>\n",
       "      <td>2.209754</td>\n",
       "      <td>0.284438</td>\n",
       "      <td>0.283751</td>\n",
       "      <td>3.812905</td>\n",
       "      <td>0.443557</td>\n",
       "      <td>0.442999</td>\n",
       "      <td>1.387966</td>\n",
       "    </tr>\n",
       "  </tbody>\n",
       "</table>\n",
       "</div>"
      ],
      "text/plain": [
       "                        model     runtime  TrainRMSE   ValRMSE  TestRMSE  \\\n",
       "0         CHAR_SiameseNetwork  132.153588   0.284046  0.285338  3.954929   \n",
       "1  CHAR_RandomForestBenchmark   46.228773   0.156810  0.230951  4.164663   \n",
       "2        FE_RandomForest_CHAR    6.859185   0.131588  0.242680  4.171411   \n",
       "3            FE_Adaboost_CHAR    2.208713   0.287369  0.288035  3.775366   \n",
       "4         WORD_SiameseNetwork   81.938102   0.285369  0.285096  3.887307   \n",
       "5        FE_RandomForest_WORD    3.425977   0.251777  0.272166  4.025584   \n",
       "6   FE_AdaBoostRegressor_WORD    2.209754   0.284438  0.283751  3.812905   \n",
       "\n",
       "   TrainMAE    ValMAE   TestMAE  \n",
       "0  0.437019  0.436452  1.404840  \n",
       "1  0.308467  0.377454  1.428889  \n",
       "2  0.275356  0.386893  1.437754  \n",
       "3  0.442420  0.440698  1.381365  \n",
       "4  0.435509  0.435625  1.393851  \n",
       "5  0.405640  0.425316  1.416301  \n",
       "6  0.443557  0.442999  1.387966  "
      ]
     },
     "execution_count": 83,
     "metadata": {
      "tags": []
     },
     "output_type": "execute_result"
    }
   ],
   "source": [
    "resultsTable"
   ]
  },
  {
   "cell_type": "markdown",
   "metadata": {
    "colab_type": "text",
    "id": "Fe4_9LAFb-4Y"
   },
   "source": [
    "## Test results submission"
   ]
  },
  {
   "cell_type": "code",
   "execution_count": 0,
   "metadata": {
    "colab": {},
    "colab_type": "code",
    "id": "dvvMpTEvuRuO"
   },
   "outputs": [],
   "source": [
    "subans = test_preds.reshape(test_preds.shape[0])\n"
   ]
  },
  {
   "cell_type": "code",
   "execution_count": 0,
   "metadata": {
    "colab": {},
    "colab_type": "code",
    "id": "hEkHD5clzTej"
   },
   "outputs": [],
   "source": [
    "subans = min_max_scaler.inverse_transform(subans.reshape(1, -1))\n",
    "subans = subans.reshape(subans.shape[1])"
   ]
  },
  {
   "cell_type": "code",
   "execution_count": 86,
   "metadata": {
    "colab": {
     "base_uri": "https://localhost:8080/",
     "height": 54
    },
    "colab_type": "code",
    "id": "j9BqAbnKzhFh",
    "outputId": "4d2a8fb4-c9c3-4eda-ed95-99b5a8035456"
   },
   "outputs": [
    {
     "data": {
      "text/plain": [
       "array([2.3582325, 2.3582327, 2.3581476, ..., 2.3682241, 2.363795 ,\n",
       "       2.3512778], dtype=float32)"
      ]
     },
     "execution_count": 86,
     "metadata": {
      "tags": []
     },
     "output_type": "execute_result"
    }
   ],
   "source": [
    "subans"
   ]
  },
  {
   "cell_type": "code",
   "execution_count": 87,
   "metadata": {
    "colab": {
     "base_uri": "https://localhost:8080/",
     "height": 35
    },
    "colab_type": "code",
    "id": "SJm5T2Hpt9FM",
    "outputId": "1b13dad0-52e1-4440-bef6-ce3d0bee2090"
   },
   "outputs": [
    {
     "name": "stdout",
     "output_type": "stream",
     "text": [
      "(166693,)\n"
     ]
    }
   ],
   "source": [
    "sub = pd.read_csv(\"/content/gdrive/My Drive/Colab Notebooks/input/sample_submission.csv\")\n",
    "sub.reset_index(drop = True)\n",
    "print(sub.relevance.values.shape)\n",
    "sub['relevance'] = subans\n",
    "sub.to_csv(path + '/sub.csv')"
   ]
  },
  {
   "cell_type": "markdown",
   "metadata": {
    "colab_type": "text",
    "id": "ZOtqKYLslnlC"
   },
   "source": [
    "# Summary"
   ]
  },
  {
   "cell_type": "markdown",
   "metadata": {
    "colab_type": "text",
    "id": "seyyPu1cLhDY"
   },
   "source": [
    "To conclude our research, we did see that the word model was slightly better than the character model we created using the siamese network. \n",
    "We made some attempts to tune the parameters of both the char and word models but we didnt get significant improvements. The difference of the relevance value between the training and testing sets was impactful to the results as the sets have different value distribution. The feature extraction part helped us identify that the problem is in the feature extraction part of our model. We tried different options on the unification of the 2 branches of the model, as concationation or averaging the results was proven not as good as the negative Manhattan distance. \n",
    "\n",
    "We did submit our results on the test set to the Kaggle competitioמ as a late submission in order to get some indication regarding the results we got. The RMSE we got was 0.55, while the best score in the leaderboard is 0.43192.\n"
   ]
  },
  {
   "cell_type": "code",
   "execution_count": 0,
   "metadata": {
    "colab": {},
    "colab_type": "code",
    "id": "ZWqr1DvKMsKm"
   },
   "outputs": [],
   "source": []
  }
 ],
 "metadata": {
  "colab": {
   "collapsed_sections": [],
   "name": "hw3dl.ipynb",
   "provenance": [],
   "version": "0.3.2"
  },
  "kernelspec": {
   "display_name": "Python 3",
   "language": "python",
   "name": "python3"
  },
  "language_info": {
   "codemirror_mode": {
    "name": "ipython",
    "version": 3
   },
   "file_extension": ".py",
   "mimetype": "text/x-python",
   "name": "python",
   "nbconvert_exporter": "python",
   "pygments_lexer": "ipython3",
   "version": "3.6.6"
  }
 },
 "nbformat": 4,
 "nbformat_minor": 1
}
