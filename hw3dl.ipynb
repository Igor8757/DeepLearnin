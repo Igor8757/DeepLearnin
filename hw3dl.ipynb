{
  "nbformat": 4,
  "nbformat_minor": 0,
  "metadata": {
    "colab": {
      "name": "hw3dl.ipynb",
      "version": "0.3.2",
      "provenance": [],
      "collapsed_sections": []
    },
    "kernelspec": {
      "display_name": "Python 3",
      "language": "python",
      "name": "python3"
    }
  },
  "cells": [
    {
      "metadata": {
        "id": "LCziYWI6-MOL",
        "colab_type": "text"
      },
      "cell_type": "markdown",
      "source": [
        "# Assignment 3 - Practical Deep Learning Workshop\n"
      ]
    },
    {
      "metadata": {
        "id": "kof0gpyU-MOj",
        "colab_type": "text"
      },
      "cell_type": "markdown",
      "source": [
        "#### In this task we will work with the dataset of the Home depot product search relevance competition.\n",
        "#### Some background: \n",
        "In this competition, Home Depot is asking to help them improve their customers' shopping experience by developing a model that can accurately predict the relevance of search results.\n",
        "\n",
        "Search relevancy is an implicit measure Home Depot uses to gauge how quickly they can get customers to the right products. \n",
        "\n",
        "This data set contains a number of products and real customer search terms from Home Depot's website. The challenge is to predict a relevance score for the provided combinations of search terms and products. To create the ground truth labels, Home Depot has crowdsourced the search/product pairs to multiple human raters.\n",
        "The relevance is a number between 1 (not relevant) to 3 (highly relevant). For example, a search for \"AA battery\" would be considered highly relevant to a pack of size AA batteries (relevance = 3), mildly relevant to a cordless drill battery (relevance = 2), and not relevant to a snow shovel (relevance = 1).\n",
        "\n",
        "Each pair was evaluated by at least three human raters. The provided relevance scores are the average value of the ratings. There are three additional things to know about the ratings:\n",
        "•\tThe specific instructions given to the raters is provided in relevance_instructions.docx.\n",
        "•\tRaters did not have access to the attributes.\n",
        "•\tRaters had access to product images, while the competition does not include images.\n",
        "\n",
        "\n",
        "#### Out task here is to predict the relevance for each pair listed in the test set. The test set contains both seen and unseen search terms.\n"
      ]
    },
    {
      "metadata": {
        "id": "2MX3jC58-MOv",
        "colab_type": "code",
        "outputId": "93fb5a21-3e7d-4aaa-eb05-afcfb20d7ed9",
        "colab": {
          "base_uri": "https://localhost:8080/",
          "height": 35
        }
      },
      "cell_type": "code",
      "source": [
        "from sklearn.feature_extraction.text import CountVectorizer\n",
        "from keras.preprocessing.text import Tokenizer\n",
        "from keras.preprocessing.sequence import pad_sequences\n",
        "from keras.models import Model, Sequential\n",
        "from keras.layers import * # Dense, Embedding, LSTM\n",
        "from sklearn.model_selection import train_test_split\n",
        "from keras.utils.np_utils import to_categorical\n",
        "from keras.regularizers import l2\n",
        "import re\n",
        "\n",
        "import pandas as pd\n",
        "import numpy as np\n",
        "import datetime\n",
        "import seaborn as sns \n",
        "import matplotlib.pyplot as plt\n",
        "import matplotlib.dates as mdates\n",
        "%matplotlib inline\n",
        " \n"
      ],
      "execution_count": 1,
      "outputs": [
        {
          "output_type": "stream",
          "text": [
            "Using TensorFlow backend.\n"
          ],
          "name": "stderr"
        }
      ]
    },
    {
      "metadata": {
        "id": "XZkB-Gjx-7Qf",
        "colab_type": "code",
        "outputId": "575e85c3-c765-49be-c0e9-11bb615fda76",
        "colab": {
          "base_uri": "https://localhost:8080/",
          "height": 35
        }
      },
      "cell_type": "code",
      "source": [
        "from google.colab import drive\n",
        "drive.mount('/content/gdrive')"
      ],
      "execution_count": 2,
      "outputs": [
        {
          "output_type": "stream",
          "text": [
            "Drive already mounted at /content/gdrive; to attempt to forcibly remount, call drive.mount(\"/content/gdrive\", force_remount=True).\n"
          ],
          "name": "stdout"
        }
      ]
    },
    {
      "metadata": {
        "id": "yiT5fXTC-MP9",
        "colab_type": "text"
      },
      "cell_type": "markdown",
      "source": [
        "#### First of all, we'll take a look at the data in each dataset of the input:"
      ]
    },
    {
      "metadata": {
        "id": "T1eqOAru-MQJ",
        "colab_type": "text"
      },
      "cell_type": "markdown",
      "source": [
        "train.csv is the training set, contains products, searches, and relevance scores."
      ]
    },
    {
      "metadata": {
        "id": "571V6TUw-MQQ",
        "colab_type": "code",
        "outputId": "8107dfa0-de35-4ae6-e449-3e655c3c6e0a",
        "colab": {
          "base_uri": "https://localhost:8080/",
          "height": 206
        }
      },
      "cell_type": "code",
      "source": [
        "train = pd.read_csv('/content/gdrive/My Drive/Colab Notebooks/input/train.csv',encoding='latin1')\n",
        "train.head()"
      ],
      "execution_count": 3,
      "outputs": [
        {
          "output_type": "execute_result",
          "data": {
            "text/html": [
              "<div>\n",
              "<style scoped>\n",
              "    .dataframe tbody tr th:only-of-type {\n",
              "        vertical-align: middle;\n",
              "    }\n",
              "\n",
              "    .dataframe tbody tr th {\n",
              "        vertical-align: top;\n",
              "    }\n",
              "\n",
              "    .dataframe thead th {\n",
              "        text-align: right;\n",
              "    }\n",
              "</style>\n",
              "<table border=\"1\" class=\"dataframe\">\n",
              "  <thead>\n",
              "    <tr style=\"text-align: right;\">\n",
              "      <th></th>\n",
              "      <th>id</th>\n",
              "      <th>product_uid</th>\n",
              "      <th>product_title</th>\n",
              "      <th>search_term</th>\n",
              "      <th>relevance</th>\n",
              "    </tr>\n",
              "  </thead>\n",
              "  <tbody>\n",
              "    <tr>\n",
              "      <th>0</th>\n",
              "      <td>2</td>\n",
              "      <td>100001</td>\n",
              "      <td>Simpson Strong-Tie 12-Gauge Angle</td>\n",
              "      <td>angle bracket</td>\n",
              "      <td>3.00</td>\n",
              "    </tr>\n",
              "    <tr>\n",
              "      <th>1</th>\n",
              "      <td>3</td>\n",
              "      <td>100001</td>\n",
              "      <td>Simpson Strong-Tie 12-Gauge Angle</td>\n",
              "      <td>l bracket</td>\n",
              "      <td>2.50</td>\n",
              "    </tr>\n",
              "    <tr>\n",
              "      <th>2</th>\n",
              "      <td>9</td>\n",
              "      <td>100002</td>\n",
              "      <td>BEHR Premium Textured DeckOver 1-gal. #SC-141 ...</td>\n",
              "      <td>deck over</td>\n",
              "      <td>3.00</td>\n",
              "    </tr>\n",
              "    <tr>\n",
              "      <th>3</th>\n",
              "      <td>16</td>\n",
              "      <td>100005</td>\n",
              "      <td>Delta Vero 1-Handle Shower Only Faucet Trim Ki...</td>\n",
              "      <td>rain shower head</td>\n",
              "      <td>2.33</td>\n",
              "    </tr>\n",
              "    <tr>\n",
              "      <th>4</th>\n",
              "      <td>17</td>\n",
              "      <td>100005</td>\n",
              "      <td>Delta Vero 1-Handle Shower Only Faucet Trim Ki...</td>\n",
              "      <td>shower only faucet</td>\n",
              "      <td>2.67</td>\n",
              "    </tr>\n",
              "  </tbody>\n",
              "</table>\n",
              "</div>"
            ],
            "text/plain": [
              "   id  product_uid                                      product_title  \\\n",
              "0   2       100001                  Simpson Strong-Tie 12-Gauge Angle   \n",
              "1   3       100001                  Simpson Strong-Tie 12-Gauge Angle   \n",
              "2   9       100002  BEHR Premium Textured DeckOver 1-gal. #SC-141 ...   \n",
              "3  16       100005  Delta Vero 1-Handle Shower Only Faucet Trim Ki...   \n",
              "4  17       100005  Delta Vero 1-Handle Shower Only Faucet Trim Ki...   \n",
              "\n",
              "          search_term  relevance  \n",
              "0       angle bracket       3.00  \n",
              "1           l bracket       2.50  \n",
              "2           deck over       3.00  \n",
              "3    rain shower head       2.33  \n",
              "4  shower only faucet       2.67  "
            ]
          },
          "metadata": {
            "tags": []
          },
          "execution_count": 3
        }
      ]
    },
    {
      "metadata": {
        "id": "6Fs9YZB5-MRD",
        "colab_type": "text"
      },
      "cell_type": "markdown",
      "source": [
        "test.csv is the test set, contains products and searches. We will need to predict the relevance for these pairs."
      ]
    },
    {
      "metadata": {
        "id": "CCp-j0Fo-MRP",
        "colab_type": "code",
        "outputId": "d9e2ab44-cd67-4cce-e610-57dd83e84a3b",
        "colab": {
          "base_uri": "https://localhost:8080/",
          "height": 206
        }
      },
      "cell_type": "code",
      "source": [
        "test = pd.read_csv('/content/gdrive/My Drive/Colab Notebooks/input/test.csv',encoding='latin1')\n",
        "test.head()"
      ],
      "execution_count": 4,
      "outputs": [
        {
          "output_type": "execute_result",
          "data": {
            "text/html": [
              "<div>\n",
              "<style scoped>\n",
              "    .dataframe tbody tr th:only-of-type {\n",
              "        vertical-align: middle;\n",
              "    }\n",
              "\n",
              "    .dataframe tbody tr th {\n",
              "        vertical-align: top;\n",
              "    }\n",
              "\n",
              "    .dataframe thead th {\n",
              "        text-align: right;\n",
              "    }\n",
              "</style>\n",
              "<table border=\"1\" class=\"dataframe\">\n",
              "  <thead>\n",
              "    <tr style=\"text-align: right;\">\n",
              "      <th></th>\n",
              "      <th>id</th>\n",
              "      <th>product_uid</th>\n",
              "      <th>product_title</th>\n",
              "      <th>search_term</th>\n",
              "    </tr>\n",
              "  </thead>\n",
              "  <tbody>\n",
              "    <tr>\n",
              "      <th>0</th>\n",
              "      <td>1</td>\n",
              "      <td>100001</td>\n",
              "      <td>Simpson Strong-Tie 12-Gauge Angle</td>\n",
              "      <td>90 degree bracket</td>\n",
              "    </tr>\n",
              "    <tr>\n",
              "      <th>1</th>\n",
              "      <td>4</td>\n",
              "      <td>100001</td>\n",
              "      <td>Simpson Strong-Tie 12-Gauge Angle</td>\n",
              "      <td>metal l brackets</td>\n",
              "    </tr>\n",
              "    <tr>\n",
              "      <th>2</th>\n",
              "      <td>5</td>\n",
              "      <td>100001</td>\n",
              "      <td>Simpson Strong-Tie 12-Gauge Angle</td>\n",
              "      <td>simpson sku able</td>\n",
              "    </tr>\n",
              "    <tr>\n",
              "      <th>3</th>\n",
              "      <td>6</td>\n",
              "      <td>100001</td>\n",
              "      <td>Simpson Strong-Tie 12-Gauge Angle</td>\n",
              "      <td>simpson strong  ties</td>\n",
              "    </tr>\n",
              "    <tr>\n",
              "      <th>4</th>\n",
              "      <td>7</td>\n",
              "      <td>100001</td>\n",
              "      <td>Simpson Strong-Tie 12-Gauge Angle</td>\n",
              "      <td>simpson strong tie hcc668</td>\n",
              "    </tr>\n",
              "  </tbody>\n",
              "</table>\n",
              "</div>"
            ],
            "text/plain": [
              "   id  product_uid                      product_title  \\\n",
              "0   1       100001  Simpson Strong-Tie 12-Gauge Angle   \n",
              "1   4       100001  Simpson Strong-Tie 12-Gauge Angle   \n",
              "2   5       100001  Simpson Strong-Tie 12-Gauge Angle   \n",
              "3   6       100001  Simpson Strong-Tie 12-Gauge Angle   \n",
              "4   7       100001  Simpson Strong-Tie 12-Gauge Angle   \n",
              "\n",
              "                 search_term  \n",
              "0          90 degree bracket  \n",
              "1           metal l brackets  \n",
              "2           simpson sku able  \n",
              "3       simpson strong  ties  \n",
              "4  simpson strong tie hcc668  "
            ]
          },
          "metadata": {
            "tags": []
          },
          "execution_count": 4
        }
      ]
    },
    {
      "metadata": {
        "id": "o5QyHDbp-MR0",
        "colab_type": "text"
      },
      "cell_type": "markdown",
      "source": [
        "product_descriptions.csv contains a text description of each product. We may join this table to the training or test set via the product_uid."
      ]
    },
    {
      "metadata": {
        "id": "kly-_Lrw-MSC",
        "colab_type": "code",
        "outputId": "3f3b3591-a2ae-46e0-9022-7c6720f9568f",
        "colab": {
          "base_uri": "https://localhost:8080/",
          "height": 206
        }
      },
      "cell_type": "code",
      "source": [
        "product_descriptions = pd.read_csv('/content/gdrive/My Drive/Colab Notebooks/input/product_descriptions.csv',encoding='latin1')\n",
        "product_descriptions.head()"
      ],
      "execution_count": 5,
      "outputs": [
        {
          "output_type": "execute_result",
          "data": {
            "text/html": [
              "<div>\n",
              "<style scoped>\n",
              "    .dataframe tbody tr th:only-of-type {\n",
              "        vertical-align: middle;\n",
              "    }\n",
              "\n",
              "    .dataframe tbody tr th {\n",
              "        vertical-align: top;\n",
              "    }\n",
              "\n",
              "    .dataframe thead th {\n",
              "        text-align: right;\n",
              "    }\n",
              "</style>\n",
              "<table border=\"1\" class=\"dataframe\">\n",
              "  <thead>\n",
              "    <tr style=\"text-align: right;\">\n",
              "      <th></th>\n",
              "      <th>product_uid</th>\n",
              "      <th>product_description</th>\n",
              "    </tr>\n",
              "  </thead>\n",
              "  <tbody>\n",
              "    <tr>\n",
              "      <th>0</th>\n",
              "      <td>100001</td>\n",
              "      <td>Not only do angles make joints stronger, they ...</td>\n",
              "    </tr>\n",
              "    <tr>\n",
              "      <th>1</th>\n",
              "      <td>100002</td>\n",
              "      <td>BEHR Premium Textured DECKOVER is an innovativ...</td>\n",
              "    </tr>\n",
              "    <tr>\n",
              "      <th>2</th>\n",
              "      <td>100003</td>\n",
              "      <td>Classic architecture meets contemporary design...</td>\n",
              "    </tr>\n",
              "    <tr>\n",
              "      <th>3</th>\n",
              "      <td>100004</td>\n",
              "      <td>The Grape Solar 265-Watt Polycrystalline PV So...</td>\n",
              "    </tr>\n",
              "    <tr>\n",
              "      <th>4</th>\n",
              "      <td>100005</td>\n",
              "      <td>Update your bathroom with the Delta Vero Singl...</td>\n",
              "    </tr>\n",
              "  </tbody>\n",
              "</table>\n",
              "</div>"
            ],
            "text/plain": [
              "   product_uid                                product_description\n",
              "0       100001  Not only do angles make joints stronger, they ...\n",
              "1       100002  BEHR Premium Textured DECKOVER is an innovativ...\n",
              "2       100003  Classic architecture meets contemporary design...\n",
              "3       100004  The Grape Solar 265-Watt Polycrystalline PV So...\n",
              "4       100005  Update your bathroom with the Delta Vero Singl..."
            ]
          },
          "metadata": {
            "tags": []
          },
          "execution_count": 5
        }
      ]
    },
    {
      "metadata": {
        "id": "2DlmxNyV-MS-",
        "colab_type": "text"
      },
      "cell_type": "markdown",
      "source": [
        "attributes.csv provides extended information about a subset of the products (typically representing detailed technical specifications). Not every product will have attributes."
      ]
    },
    {
      "metadata": {
        "id": "_9ryYcng-MTE",
        "colab_type": "code",
        "outputId": "b1d51985-24af-4494-eaad-339abdbe9fc7",
        "colab": {
          "base_uri": "https://localhost:8080/",
          "height": 206
        }
      },
      "cell_type": "code",
      "source": [
        "attributes = pd.read_csv('/content/gdrive/My Drive/Colab Notebooks/input/attributes.csv',encoding='latin1')\n",
        "attributes.head()"
      ],
      "execution_count": 6,
      "outputs": [
        {
          "output_type": "execute_result",
          "data": {
            "text/html": [
              "<div>\n",
              "<style scoped>\n",
              "    .dataframe tbody tr th:only-of-type {\n",
              "        vertical-align: middle;\n",
              "    }\n",
              "\n",
              "    .dataframe tbody tr th {\n",
              "        vertical-align: top;\n",
              "    }\n",
              "\n",
              "    .dataframe thead th {\n",
              "        text-align: right;\n",
              "    }\n",
              "</style>\n",
              "<table border=\"1\" class=\"dataframe\">\n",
              "  <thead>\n",
              "    <tr style=\"text-align: right;\">\n",
              "      <th></th>\n",
              "      <th>product_uid</th>\n",
              "      <th>name</th>\n",
              "      <th>value</th>\n",
              "    </tr>\n",
              "  </thead>\n",
              "  <tbody>\n",
              "    <tr>\n",
              "      <th>0</th>\n",
              "      <td>100001.0</td>\n",
              "      <td>Bullet01</td>\n",
              "      <td>Versatile connector for various 90Â° connectio...</td>\n",
              "    </tr>\n",
              "    <tr>\n",
              "      <th>1</th>\n",
              "      <td>100001.0</td>\n",
              "      <td>Bullet02</td>\n",
              "      <td>Stronger than angled nailing or screw fastenin...</td>\n",
              "    </tr>\n",
              "    <tr>\n",
              "      <th>2</th>\n",
              "      <td>100001.0</td>\n",
              "      <td>Bullet03</td>\n",
              "      <td>Help ensure joints are consistently straight a...</td>\n",
              "    </tr>\n",
              "    <tr>\n",
              "      <th>3</th>\n",
              "      <td>100001.0</td>\n",
              "      <td>Bullet04</td>\n",
              "      <td>Dimensions: 3 in. x 3 in. x 1-1/2 in.</td>\n",
              "    </tr>\n",
              "    <tr>\n",
              "      <th>4</th>\n",
              "      <td>100001.0</td>\n",
              "      <td>Bullet05</td>\n",
              "      <td>Made from 12-Gauge steel</td>\n",
              "    </tr>\n",
              "  </tbody>\n",
              "</table>\n",
              "</div>"
            ],
            "text/plain": [
              "   product_uid      name                                              value\n",
              "0     100001.0  Bullet01  Versatile connector for various 90Â° connectio...\n",
              "1     100001.0  Bullet02  Stronger than angled nailing or screw fastenin...\n",
              "2     100001.0  Bullet03  Help ensure joints are consistently straight a...\n",
              "3     100001.0  Bullet04              Dimensions: 3 in. x 3 in. x 1-1/2 in.\n",
              "4     100001.0  Bullet05                           Made from 12-Gauge steel"
            ]
          },
          "metadata": {
            "tags": []
          },
          "execution_count": 6
        }
      ]
    },
    {
      "metadata": {
        "id": "XWx4D8OI-MTf",
        "colab_type": "text"
      },
      "cell_type": "markdown",
      "source": [
        "Data fields:\n",
        "- id - a unique Id field which represents a (search_term, product_uid) pair\n",
        "- product_uid - an id for the products\n",
        "- product_title - the product title\n",
        "- product_description - the text description of the product (may contain HTML content)\n",
        "- search_term - the search query\n",
        "- relevance - the average of the relevance ratings for a given id\n",
        "- name - an attribute name\n",
        "- value - the attribute's value\n"
      ]
    },
    {
      "metadata": {
        "id": "OH3P79hG-MTn",
        "colab_type": "text"
      },
      "cell_type": "markdown",
      "source": [
        "## Preprocessing the data"
      ]
    },
    {
      "metadata": {
        "id": "O8MOqmXE-MTu",
        "colab_type": "text"
      },
      "cell_type": "markdown",
      "source": [
        "We would like to have the products' corresponding product description, so we will merge the train and test datasets with the product_description table.\n",
        "\n",
        "Note: in order to decrease the dimensionality of the text, we will lower the characters."
      ]
    },
    {
      "metadata": {
        "scrolled": true,
        "id": "Boqw3h6t-MTy",
        "colab_type": "code",
        "outputId": "616e8ad3-a11b-4c7a-cd97-bcb267615a4d",
        "colab": {
          "base_uri": "https://localhost:8080/",
          "height": 206
        }
      },
      "cell_type": "code",
      "source": [
        "mergedTrain = pd.merge(train, product_descriptions, how='inner', on='product_uid')\n",
        "#lower the characters\n",
        "mergedTrain.search_term = mergedTrain.search_term.apply(lambda x: x.lower())\n",
        "mergedTrain.product_description = mergedTrain.product_description.apply(lambda x: x.lower())\n",
        "\n",
        "mergedTrain.head()"
      ],
      "execution_count": 7,
      "outputs": [
        {
          "output_type": "execute_result",
          "data": {
            "text/html": [
              "<div>\n",
              "<style scoped>\n",
              "    .dataframe tbody tr th:only-of-type {\n",
              "        vertical-align: middle;\n",
              "    }\n",
              "\n",
              "    .dataframe tbody tr th {\n",
              "        vertical-align: top;\n",
              "    }\n",
              "\n",
              "    .dataframe thead th {\n",
              "        text-align: right;\n",
              "    }\n",
              "</style>\n",
              "<table border=\"1\" class=\"dataframe\">\n",
              "  <thead>\n",
              "    <tr style=\"text-align: right;\">\n",
              "      <th></th>\n",
              "      <th>id</th>\n",
              "      <th>product_uid</th>\n",
              "      <th>product_title</th>\n",
              "      <th>search_term</th>\n",
              "      <th>relevance</th>\n",
              "      <th>product_description</th>\n",
              "    </tr>\n",
              "  </thead>\n",
              "  <tbody>\n",
              "    <tr>\n",
              "      <th>0</th>\n",
              "      <td>2</td>\n",
              "      <td>100001</td>\n",
              "      <td>Simpson Strong-Tie 12-Gauge Angle</td>\n",
              "      <td>angle bracket</td>\n",
              "      <td>3.00</td>\n",
              "      <td>not only do angles make joints stronger, they ...</td>\n",
              "    </tr>\n",
              "    <tr>\n",
              "      <th>1</th>\n",
              "      <td>3</td>\n",
              "      <td>100001</td>\n",
              "      <td>Simpson Strong-Tie 12-Gauge Angle</td>\n",
              "      <td>l bracket</td>\n",
              "      <td>2.50</td>\n",
              "      <td>not only do angles make joints stronger, they ...</td>\n",
              "    </tr>\n",
              "    <tr>\n",
              "      <th>2</th>\n",
              "      <td>9</td>\n",
              "      <td>100002</td>\n",
              "      <td>BEHR Premium Textured DeckOver 1-gal. #SC-141 ...</td>\n",
              "      <td>deck over</td>\n",
              "      <td>3.00</td>\n",
              "      <td>behr premium textured deckover is an innovativ...</td>\n",
              "    </tr>\n",
              "    <tr>\n",
              "      <th>3</th>\n",
              "      <td>16</td>\n",
              "      <td>100005</td>\n",
              "      <td>Delta Vero 1-Handle Shower Only Faucet Trim Ki...</td>\n",
              "      <td>rain shower head</td>\n",
              "      <td>2.33</td>\n",
              "      <td>update your bathroom with the delta vero singl...</td>\n",
              "    </tr>\n",
              "    <tr>\n",
              "      <th>4</th>\n",
              "      <td>17</td>\n",
              "      <td>100005</td>\n",
              "      <td>Delta Vero 1-Handle Shower Only Faucet Trim Ki...</td>\n",
              "      <td>shower only faucet</td>\n",
              "      <td>2.67</td>\n",
              "      <td>update your bathroom with the delta vero singl...</td>\n",
              "    </tr>\n",
              "  </tbody>\n",
              "</table>\n",
              "</div>"
            ],
            "text/plain": [
              "   id  product_uid                                      product_title  \\\n",
              "0   2       100001                  Simpson Strong-Tie 12-Gauge Angle   \n",
              "1   3       100001                  Simpson Strong-Tie 12-Gauge Angle   \n",
              "2   9       100002  BEHR Premium Textured DeckOver 1-gal. #SC-141 ...   \n",
              "3  16       100005  Delta Vero 1-Handle Shower Only Faucet Trim Ki...   \n",
              "4  17       100005  Delta Vero 1-Handle Shower Only Faucet Trim Ki...   \n",
              "\n",
              "          search_term  relevance  \\\n",
              "0       angle bracket       3.00   \n",
              "1           l bracket       2.50   \n",
              "2           deck over       3.00   \n",
              "3    rain shower head       2.33   \n",
              "4  shower only faucet       2.67   \n",
              "\n",
              "                                 product_description  \n",
              "0  not only do angles make joints stronger, they ...  \n",
              "1  not only do angles make joints stronger, they ...  \n",
              "2  behr premium textured deckover is an innovativ...  \n",
              "3  update your bathroom with the delta vero singl...  \n",
              "4  update your bathroom with the delta vero singl...  "
            ]
          },
          "metadata": {
            "tags": []
          },
          "execution_count": 7
        }
      ]
    },
    {
      "metadata": {
        "id": "AG8ijy_k-MT9",
        "colab_type": "code",
        "outputId": "84cd5663-7958-483e-8996-34a46a75db26",
        "colab": {
          "base_uri": "https://localhost:8080/",
          "height": 206
        }
      },
      "cell_type": "code",
      "source": [
        "# move to end\n",
        "mergedTest= pd.merge(test, product_descriptions, how='inner', on='product_uid')\n",
        "mergedTest.search_term = mergedTest.search_term.apply(lambda x: x.lower())\n",
        "mergedTest.product_description = mergedTest.product_description.apply(lambda x: x.lower())\n",
        "\n",
        "mergedTest.head()"
      ],
      "execution_count": 8,
      "outputs": [
        {
          "output_type": "execute_result",
          "data": {
            "text/html": [
              "<div>\n",
              "<style scoped>\n",
              "    .dataframe tbody tr th:only-of-type {\n",
              "        vertical-align: middle;\n",
              "    }\n",
              "\n",
              "    .dataframe tbody tr th {\n",
              "        vertical-align: top;\n",
              "    }\n",
              "\n",
              "    .dataframe thead th {\n",
              "        text-align: right;\n",
              "    }\n",
              "</style>\n",
              "<table border=\"1\" class=\"dataframe\">\n",
              "  <thead>\n",
              "    <tr style=\"text-align: right;\">\n",
              "      <th></th>\n",
              "      <th>id</th>\n",
              "      <th>product_uid</th>\n",
              "      <th>product_title</th>\n",
              "      <th>search_term</th>\n",
              "      <th>product_description</th>\n",
              "    </tr>\n",
              "  </thead>\n",
              "  <tbody>\n",
              "    <tr>\n",
              "      <th>0</th>\n",
              "      <td>1</td>\n",
              "      <td>100001</td>\n",
              "      <td>Simpson Strong-Tie 12-Gauge Angle</td>\n",
              "      <td>90 degree bracket</td>\n",
              "      <td>not only do angles make joints stronger, they ...</td>\n",
              "    </tr>\n",
              "    <tr>\n",
              "      <th>1</th>\n",
              "      <td>4</td>\n",
              "      <td>100001</td>\n",
              "      <td>Simpson Strong-Tie 12-Gauge Angle</td>\n",
              "      <td>metal l brackets</td>\n",
              "      <td>not only do angles make joints stronger, they ...</td>\n",
              "    </tr>\n",
              "    <tr>\n",
              "      <th>2</th>\n",
              "      <td>5</td>\n",
              "      <td>100001</td>\n",
              "      <td>Simpson Strong-Tie 12-Gauge Angle</td>\n",
              "      <td>simpson sku able</td>\n",
              "      <td>not only do angles make joints stronger, they ...</td>\n",
              "    </tr>\n",
              "    <tr>\n",
              "      <th>3</th>\n",
              "      <td>6</td>\n",
              "      <td>100001</td>\n",
              "      <td>Simpson Strong-Tie 12-Gauge Angle</td>\n",
              "      <td>simpson strong  ties</td>\n",
              "      <td>not only do angles make joints stronger, they ...</td>\n",
              "    </tr>\n",
              "    <tr>\n",
              "      <th>4</th>\n",
              "      <td>7</td>\n",
              "      <td>100001</td>\n",
              "      <td>Simpson Strong-Tie 12-Gauge Angle</td>\n",
              "      <td>simpson strong tie hcc668</td>\n",
              "      <td>not only do angles make joints stronger, they ...</td>\n",
              "    </tr>\n",
              "  </tbody>\n",
              "</table>\n",
              "</div>"
            ],
            "text/plain": [
              "   id  product_uid                      product_title  \\\n",
              "0   1       100001  Simpson Strong-Tie 12-Gauge Angle   \n",
              "1   4       100001  Simpson Strong-Tie 12-Gauge Angle   \n",
              "2   5       100001  Simpson Strong-Tie 12-Gauge Angle   \n",
              "3   6       100001  Simpson Strong-Tie 12-Gauge Angle   \n",
              "4   7       100001  Simpson Strong-Tie 12-Gauge Angle   \n",
              "\n",
              "                 search_term  \\\n",
              "0          90 degree bracket   \n",
              "1           metal l brackets   \n",
              "2           simpson sku able   \n",
              "3       simpson strong  ties   \n",
              "4  simpson strong tie hcc668   \n",
              "\n",
              "                                 product_description  \n",
              "0  not only do angles make joints stronger, they ...  \n",
              "1  not only do angles make joints stronger, they ...  \n",
              "2  not only do angles make joints stronger, they ...  \n",
              "3  not only do angles make joints stronger, they ...  \n",
              "4  not only do angles make joints stronger, they ...  "
            ]
          },
          "metadata": {
            "tags": []
          },
          "execution_count": 8
        }
      ]
    },
    {
      "metadata": {
        "id": "nT0BmvrG-MUE",
        "colab_type": "text"
      },
      "cell_type": "markdown",
      "source": [
        "We convert the product_description and search_term attributes' values to lists of characters."
      ]
    },
    {
      "metadata": {
        "id": "MVcxj3yH-MUF",
        "colab_type": "code",
        "colab": {}
      },
      "cell_type": "code",
      "source": [
        "search_term_chars = []\n",
        "product_description_chars = []\n",
        "search_term_chars = mergedTrain.search_term.apply(lambda x: search_term_chars + list(x))\n",
        "product_description_chars = mergedTrain.product_description.apply(lambda x: product_description_chars + list(x))\n",
        "search_term_chars = [item for sublist in search_term_chars for item in sublist]\n",
        "product_description_chars = [item for sublist in product_description_chars for item in sublist]\n"
      ],
      "execution_count": 0,
      "outputs": []
    },
    {
      "metadata": {
        "id": "6I0gPihE-MUQ",
        "colab_type": "text"
      },
      "cell_type": "markdown",
      "source": [
        "And then, translate the characters to a unique integer values."
      ]
    },
    {
      "metadata": {
        "id": "p2pdGCwJ-MUS",
        "colab_type": "code",
        "colab": {}
      },
      "cell_type": "code",
      "source": [
        "search_term_char_set = sorted(set(search_term_chars))\n",
        "product_description_char_set = sorted(set(product_description_chars))\n",
        "\n",
        "# translate from character to number, it's enumerator\n",
        "search_term_char_to_int = dict((c, i) for i, c in enumerate(search_term_char_set))\n",
        "search_term_int_to_char = dict((i, c) for i, c in enumerate(search_term_char_set))\n",
        "product_description_char_to_int = dict((c, i) for i, c in enumerate(product_description_char_set))\n",
        "product_description_int_to_char = dict((i, c) for i, c in enumerate(product_description_char_set))"
      ],
      "execution_count": 0,
      "outputs": []
    },
    {
      "metadata": {
        "id": "xRlcIGMS-MUa",
        "colab_type": "code",
        "outputId": "2df8caf5-4655-4f33-9962-25e79724b3fe",
        "colab": {
          "base_uri": "https://localhost:8080/",
          "height": 90
        }
      },
      "cell_type": "code",
      "source": [
        "# summarize the loaded data\n",
        "n_chars = len(search_term_chars)\n",
        "n_vocab = len(search_term_char_set)\n",
        "print(\"search_term Total Characters: \", n_chars)\n",
        "print(\"search_term Total Vocab: \", n_vocab)\n",
        "\n",
        "n_chars2 = len(product_description_chars)\n",
        "n_vocab2 = len(product_description_char_set)\n",
        "print(\"product_description Total Characters: \", n_chars2)\n",
        "print(\"product_description Total Vocab: \", n_vocab2)"
      ],
      "execution_count": 11,
      "outputs": [
        {
          "output_type": "stream",
          "text": [
            "search_term Total Characters:  1407926\n",
            "search_term Total Vocab:  51\n",
            "product_description Total Characters:  65598457\n",
            "product_description Total Vocab:  67\n"
          ],
          "name": "stdout"
        }
      ]
    },
    {
      "metadata": {
        "id": "qNnrXX4O-MUk",
        "colab_type": "code",
        "outputId": "f82e0896-8eb1-47ef-c2cd-829476575f6b",
        "colab": {
          "base_uri": "https://localhost:8080/",
          "height": 206
        }
      },
      "cell_type": "code",
      "source": [
        "mergedTrain.search_term = mergedTrain.search_term.apply(lambda x: list(x))\n",
        "mergedTrain.product_description = mergedTrain.product_description.apply(lambda x: list(x))\n",
        "mergedTrain.head()"
      ],
      "execution_count": 12,
      "outputs": [
        {
          "output_type": "execute_result",
          "data": {
            "text/html": [
              "<div>\n",
              "<style scoped>\n",
              "    .dataframe tbody tr th:only-of-type {\n",
              "        vertical-align: middle;\n",
              "    }\n",
              "\n",
              "    .dataframe tbody tr th {\n",
              "        vertical-align: top;\n",
              "    }\n",
              "\n",
              "    .dataframe thead th {\n",
              "        text-align: right;\n",
              "    }\n",
              "</style>\n",
              "<table border=\"1\" class=\"dataframe\">\n",
              "  <thead>\n",
              "    <tr style=\"text-align: right;\">\n",
              "      <th></th>\n",
              "      <th>id</th>\n",
              "      <th>product_uid</th>\n",
              "      <th>product_title</th>\n",
              "      <th>search_term</th>\n",
              "      <th>relevance</th>\n",
              "      <th>product_description</th>\n",
              "    </tr>\n",
              "  </thead>\n",
              "  <tbody>\n",
              "    <tr>\n",
              "      <th>0</th>\n",
              "      <td>2</td>\n",
              "      <td>100001</td>\n",
              "      <td>Simpson Strong-Tie 12-Gauge Angle</td>\n",
              "      <td>[a, n, g, l, e,  , b, r, a, c, k, e, t]</td>\n",
              "      <td>3.00</td>\n",
              "      <td>[n, o, t,  , o, n, l, y,  , d, o,  , a, n, g, ...</td>\n",
              "    </tr>\n",
              "    <tr>\n",
              "      <th>1</th>\n",
              "      <td>3</td>\n",
              "      <td>100001</td>\n",
              "      <td>Simpson Strong-Tie 12-Gauge Angle</td>\n",
              "      <td>[l,  , b, r, a, c, k, e, t]</td>\n",
              "      <td>2.50</td>\n",
              "      <td>[n, o, t,  , o, n, l, y,  , d, o,  , a, n, g, ...</td>\n",
              "    </tr>\n",
              "    <tr>\n",
              "      <th>2</th>\n",
              "      <td>9</td>\n",
              "      <td>100002</td>\n",
              "      <td>BEHR Premium Textured DeckOver 1-gal. #SC-141 ...</td>\n",
              "      <td>[d, e, c, k,  , o, v, e, r]</td>\n",
              "      <td>3.00</td>\n",
              "      <td>[b, e, h, r,  , p, r, e, m, i, u, m,  , t, e, ...</td>\n",
              "    </tr>\n",
              "    <tr>\n",
              "      <th>3</th>\n",
              "      <td>16</td>\n",
              "      <td>100005</td>\n",
              "      <td>Delta Vero 1-Handle Shower Only Faucet Trim Ki...</td>\n",
              "      <td>[r, a, i, n,  , s, h, o, w, e, r,  , h, e, a, d]</td>\n",
              "      <td>2.33</td>\n",
              "      <td>[u, p, d, a, t, e,  , y, o, u, r,  , b, a, t, ...</td>\n",
              "    </tr>\n",
              "    <tr>\n",
              "      <th>4</th>\n",
              "      <td>17</td>\n",
              "      <td>100005</td>\n",
              "      <td>Delta Vero 1-Handle Shower Only Faucet Trim Ki...</td>\n",
              "      <td>[s, h, o, w, e, r,  , o, n, l, y,  , f, a, u, ...</td>\n",
              "      <td>2.67</td>\n",
              "      <td>[u, p, d, a, t, e,  , y, o, u, r,  , b, a, t, ...</td>\n",
              "    </tr>\n",
              "  </tbody>\n",
              "</table>\n",
              "</div>"
            ],
            "text/plain": [
              "   id  product_uid                                      product_title  \\\n",
              "0   2       100001                  Simpson Strong-Tie 12-Gauge Angle   \n",
              "1   3       100001                  Simpson Strong-Tie 12-Gauge Angle   \n",
              "2   9       100002  BEHR Premium Textured DeckOver 1-gal. #SC-141 ...   \n",
              "3  16       100005  Delta Vero 1-Handle Shower Only Faucet Trim Ki...   \n",
              "4  17       100005  Delta Vero 1-Handle Shower Only Faucet Trim Ki...   \n",
              "\n",
              "                                         search_term  relevance  \\\n",
              "0            [a, n, g, l, e,  , b, r, a, c, k, e, t]       3.00   \n",
              "1                        [l,  , b, r, a, c, k, e, t]       2.50   \n",
              "2                        [d, e, c, k,  , o, v, e, r]       3.00   \n",
              "3   [r, a, i, n,  , s, h, o, w, e, r,  , h, e, a, d]       2.33   \n",
              "4  [s, h, o, w, e, r,  , o, n, l, y,  , f, a, u, ...       2.67   \n",
              "\n",
              "                                 product_description  \n",
              "0  [n, o, t,  , o, n, l, y,  , d, o,  , a, n, g, ...  \n",
              "1  [n, o, t,  , o, n, l, y,  , d, o,  , a, n, g, ...  \n",
              "2  [b, e, h, r,  , p, r, e, m, i, u, m,  , t, e, ...  \n",
              "3  [u, p, d, a, t, e,  , y, o, u, r,  , b, a, t, ...  \n",
              "4  [u, p, d, a, t, e,  , y, o, u, r,  , b, a, t, ...  "
            ]
          },
          "metadata": {
            "tags": []
          },
          "execution_count": 12
        }
      ]
    },
    {
      "metadata": {
        "id": "FG0e7bN_-MUv",
        "colab_type": "code",
        "colab": {}
      },
      "cell_type": "code",
      "source": [
        "def createData(char_to_int, char_arr):\n",
        "    #seq_length = 100\n",
        "    dataX = []\n",
        "    for i in range(0,len(char_arr)):\n",
        "        dataX.append(char_to_int[char_arr[i]])\n",
        "    return np.asarray(dataX)"
      ],
      "execution_count": 0,
      "outputs": []
    },
    {
      "metadata": {
        "id": "xwnz8Nmb-MU-",
        "colab_type": "code",
        "outputId": "5908c487-ca50-4c7e-b1c3-fa580ae315a0",
        "colab": {
          "base_uri": "https://localhost:8080/",
          "height": 206
        }
      },
      "cell_type": "code",
      "source": [
        "mergedTrain.search_term = mergedTrain.search_term.apply(lambda x: createData(search_term_char_to_int, x))\n",
        "mergedTrain.product_description = mergedTrain.product_description.apply(lambda x: createData(product_description_char_to_int, x))\n",
        "mergedTrain.head()\n"
      ],
      "execution_count": 14,
      "outputs": [
        {
          "output_type": "execute_result",
          "data": {
            "text/html": [
              "<div>\n",
              "<style scoped>\n",
              "    .dataframe tbody tr th:only-of-type {\n",
              "        vertical-align: middle;\n",
              "    }\n",
              "\n",
              "    .dataframe tbody tr th {\n",
              "        vertical-align: top;\n",
              "    }\n",
              "\n",
              "    .dataframe thead th {\n",
              "        text-align: right;\n",
              "    }\n",
              "</style>\n",
              "<table border=\"1\" class=\"dataframe\">\n",
              "  <thead>\n",
              "    <tr style=\"text-align: right;\">\n",
              "      <th></th>\n",
              "      <th>id</th>\n",
              "      <th>product_uid</th>\n",
              "      <th>product_title</th>\n",
              "      <th>search_term</th>\n",
              "      <th>relevance</th>\n",
              "      <th>product_description</th>\n",
              "    </tr>\n",
              "  </thead>\n",
              "  <tbody>\n",
              "    <tr>\n",
              "      <th>0</th>\n",
              "      <td>2</td>\n",
              "      <td>100001</td>\n",
              "      <td>Simpson Strong-Tie 12-Gauge Angle</td>\n",
              "      <td>[24, 37, 30, 35, 28, 0, 25, 41, 24, 26, 34, 28...</td>\n",
              "      <td>3.00</td>\n",
              "      <td>[52, 53, 58, 0, 53, 52, 50, 63, 0, 42, 53, 0, ...</td>\n",
              "    </tr>\n",
              "    <tr>\n",
              "      <th>1</th>\n",
              "      <td>3</td>\n",
              "      <td>100001</td>\n",
              "      <td>Simpson Strong-Tie 12-Gauge Angle</td>\n",
              "      <td>[35, 0, 25, 41, 24, 26, 34, 28, 43]</td>\n",
              "      <td>2.50</td>\n",
              "      <td>[52, 53, 58, 0, 53, 52, 50, 63, 0, 42, 53, 0, ...</td>\n",
              "    </tr>\n",
              "    <tr>\n",
              "      <th>2</th>\n",
              "      <td>9</td>\n",
              "      <td>100002</td>\n",
              "      <td>BEHR Premium Textured DeckOver 1-gal. #SC-141 ...</td>\n",
              "      <td>[27, 28, 26, 34, 0, 38, 45, 28, 41]</td>\n",
              "      <td>3.00</td>\n",
              "      <td>[40, 43, 46, 56, 0, 54, 56, 43, 51, 47, 59, 51...</td>\n",
              "    </tr>\n",
              "    <tr>\n",
              "      <th>3</th>\n",
              "      <td>16</td>\n",
              "      <td>100005</td>\n",
              "      <td>Delta Vero 1-Handle Shower Only Faucet Trim Ki...</td>\n",
              "      <td>[41, 24, 32, 37, 0, 42, 31, 38, 46, 28, 41, 0,...</td>\n",
              "      <td>2.33</td>\n",
              "      <td>[59, 54, 42, 39, 58, 43, 0, 63, 53, 59, 56, 0,...</td>\n",
              "    </tr>\n",
              "    <tr>\n",
              "      <th>4</th>\n",
              "      <td>17</td>\n",
              "      <td>100005</td>\n",
              "      <td>Delta Vero 1-Handle Shower Only Faucet Trim Ki...</td>\n",
              "      <td>[42, 31, 38, 46, 28, 41, 0, 38, 37, 35, 48, 0,...</td>\n",
              "      <td>2.67</td>\n",
              "      <td>[59, 54, 42, 39, 58, 43, 0, 63, 53, 59, 56, 0,...</td>\n",
              "    </tr>\n",
              "  </tbody>\n",
              "</table>\n",
              "</div>"
            ],
            "text/plain": [
              "   id  product_uid                                      product_title  \\\n",
              "0   2       100001                  Simpson Strong-Tie 12-Gauge Angle   \n",
              "1   3       100001                  Simpson Strong-Tie 12-Gauge Angle   \n",
              "2   9       100002  BEHR Premium Textured DeckOver 1-gal. #SC-141 ...   \n",
              "3  16       100005  Delta Vero 1-Handle Shower Only Faucet Trim Ki...   \n",
              "4  17       100005  Delta Vero 1-Handle Shower Only Faucet Trim Ki...   \n",
              "\n",
              "                                         search_term  relevance  \\\n",
              "0  [24, 37, 30, 35, 28, 0, 25, 41, 24, 26, 34, 28...       3.00   \n",
              "1                [35, 0, 25, 41, 24, 26, 34, 28, 43]       2.50   \n",
              "2                [27, 28, 26, 34, 0, 38, 45, 28, 41]       3.00   \n",
              "3  [41, 24, 32, 37, 0, 42, 31, 38, 46, 28, 41, 0,...       2.33   \n",
              "4  [42, 31, 38, 46, 28, 41, 0, 38, 37, 35, 48, 0,...       2.67   \n",
              "\n",
              "                                 product_description  \n",
              "0  [52, 53, 58, 0, 53, 52, 50, 63, 0, 42, 53, 0, ...  \n",
              "1  [52, 53, 58, 0, 53, 52, 50, 63, 0, 42, 53, 0, ...  \n",
              "2  [40, 43, 46, 56, 0, 54, 56, 43, 51, 47, 59, 51...  \n",
              "3  [59, 54, 42, 39, 58, 43, 0, 63, 53, 59, 56, 0,...  \n",
              "4  [59, 54, 42, 39, 58, 43, 0, 63, 53, 59, 56, 0,...  "
            ]
          },
          "metadata": {
            "tags": []
          },
          "execution_count": 14
        }
      ]
    },
    {
      "metadata": {
        "id": "1XvHxr8U-MVI",
        "colab_type": "code",
        "outputId": "ccd6e851-3de0-44c9-9b51-bdb6d9b14237",
        "colab": {
          "base_uri": "https://localhost:8080/",
          "height": 108
        }
      },
      "cell_type": "code",
      "source": [
        "from sklearn import preprocessing\n",
        "\n",
        "target = mergedTrain['relevance'].values\n",
        "min_max_scaler = preprocessing.MinMaxScaler()\n",
        "Y = min_max_scaler.fit_transform(target.reshape(-1, 1))\n",
        "\n",
        "Y[:5]\n"
      ],
      "execution_count": 15,
      "outputs": [
        {
          "output_type": "execute_result",
          "data": {
            "text/plain": [
              "array([[1.   ],\n",
              "       [0.75 ],\n",
              "       [1.   ],\n",
              "       [0.665],\n",
              "       [0.835]])"
            ]
          },
          "metadata": {
            "tags": []
          },
          "execution_count": 15
        }
      ]
    },
    {
      "metadata": {
        "id": "1ZXo6K1w-MVV",
        "colab_type": "code",
        "colab": {}
      },
      "cell_type": "code",
      "source": [
        "X1 = mergedTrain['search_term'].values\n",
        "X2 = mergedTrain['product_description'].values\n"
      ],
      "execution_count": 0,
      "outputs": []
    },
    {
      "metadata": {
        "id": "QHeLb30d-MVg",
        "colab_type": "code",
        "colab": {}
      },
      "cell_type": "code",
      "source": [
        "search_terms_lens = []\n",
        "for element in mergedTrain['search_term'].values:\n",
        "    search_terms_lens.append(len(element))\n",
        "    \n",
        "product_description_lens = []\n",
        "for element in mergedTrain['product_description'].values:\n",
        "    product_description_lens.append(len(element))\n",
        "    \n",
        "max_length1 = max(search_terms_lens)\n",
        "max_length2 = max(product_description_lens)\n"
      ],
      "execution_count": 0,
      "outputs": []
    },
    {
      "metadata": {
        "id": "q10L5vrGYBZa",
        "colab_type": "code",
        "outputId": "c0dabb28-bf72-4d67-b1d4-49e64d3c35a7",
        "colab": {
          "base_uri": "https://localhost:8080/",
          "height": 35
        }
      },
      "cell_type": "code",
      "source": [
        "max_length1"
      ],
      "execution_count": 18,
      "outputs": [
        {
          "output_type": "execute_result",
          "data": {
            "text/plain": [
              "60"
            ]
          },
          "metadata": {
            "tags": []
          },
          "execution_count": 18
        }
      ]
    },
    {
      "metadata": {
        "id": "SRq6AFLA-MVk",
        "colab_type": "code",
        "colab": {}
      },
      "cell_type": "code",
      "source": [
        "max_length = 150\n",
        "\n",
        "def padding(seq, length):\n",
        "    ans = []\n",
        "    for i in range(0,min(len(seq),length)):\n",
        "        ans.append(seq[i])\n",
        "    if len(seq) <= length:\n",
        "        for i in range(0,length-len(seq)):\n",
        "            ans.append(0)\n",
        "    return ans\n",
        "\n",
        "X1 = np.asarray([padding(x,max_length) for x in X1])\n",
        "X2 = np.asarray([padding(x,max_length) for x in X2])\n",
        "X1 = X1.reshape(X1.shape[0],X1.shape[1],1)\n",
        "X2 = X2.reshape(X2.shape[0],X2.shape[1],1)"
      ],
      "execution_count": 0,
      "outputs": []
    },
    {
      "metadata": {
        "id": "UwnIr1XLDdUv",
        "colab_type": "code",
        "outputId": "f824312c-7b63-41a3-a12a-4572059252c9",
        "colab": {
          "base_uri": "https://localhost:8080/",
          "height": 53
        }
      },
      "cell_type": "code",
      "source": [
        "print(X1.shape)\n",
        "print(X2.shape)"
      ],
      "execution_count": 20,
      "outputs": [
        {
          "output_type": "stream",
          "text": [
            "(74067, 150, 1)\n",
            "(74067, 150, 1)\n"
          ],
          "name": "stdout"
        }
      ]
    },
    {
      "metadata": {
        "id": "KWrg7kIp-MVs",
        "colab_type": "code",
        "colab": {}
      },
      "cell_type": "code",
      "source": [
        "st_input = Input(shape=(max_length,1), name='st_input')\n",
        "pd_input = Input(shape=(max_length,1), name='pd_input')\n",
        "\n",
        "\n",
        "def createModel():\n",
        "    model = Sequential()\n",
        "    model.add(LSTM(50, return_sequences=True))\n",
        "    model.add(Dense(64, activation='relu'))\n",
        "    return model"
      ],
      "execution_count": 0,
      "outputs": []
    },
    {
      "metadata": {
        "id": "1P5CErP3-MVy",
        "colab_type": "code",
        "outputId": "b3e65f41-ed2f-4d62-f486-38dd7d43cdfa",
        "colab": {
          "base_uri": "https://localhost:8080/",
          "height": 734
        }
      },
      "cell_type": "code",
      "source": [
        "\n",
        "st_model = createModel()\n",
        "pd_model = createModel()\n",
        "\n",
        "\n",
        "def createSiameseModel(model1,model2,customLoss):\n",
        "  out = Lambda(function=lambda x: K.exp(-K.sum(K.abs(x[0]-x[1]), axis=1, keepdims=True)),\n",
        "                output_shape=lambda x: (x[0][0], 1),\n",
        "                name='prediction')([model1(st_input), model2(pd_input)])\n",
        "  siamese_net = Model(input=[st_input,pd_input],output=[out])\n",
        "  siamese_net.compile(loss=customLoss,optimizer='adam',metrics=['acc'])\n",
        "  return siamese_net\n",
        "\n",
        "siamese_net1 = createSiameseModel(st_model,pd_model,'mse')\n",
        "siamese_net2 = createSiameseModel(st_model,pd_model,'mae')\n"
      ],
      "execution_count": 36,
      "outputs": [
        {
          "output_type": "error",
          "ename": "TypeError",
          "evalue": "ignored",
          "traceback": [
            "\u001b[0;31m---------------------------------------------------------------------------\u001b[0m",
            "\u001b[0;31mTypeError\u001b[0m                                 Traceback (most recent call last)",
            "\u001b[0;32m<ipython-input-36-405e959c954f>\u001b[0m in \u001b[0;36m<module>\u001b[0;34m()\u001b[0m\n\u001b[1;32m     12\u001b[0m   \u001b[0;32mreturn\u001b[0m \u001b[0msiamese_net\u001b[0m\u001b[0;34m\u001b[0m\u001b[0;34m\u001b[0m\u001b[0m\n\u001b[1;32m     13\u001b[0m \u001b[0;34m\u001b[0m\u001b[0m\n\u001b[0;32m---> 14\u001b[0;31m \u001b[0msiamese_net1\u001b[0m \u001b[0;34m=\u001b[0m \u001b[0mcreateSiameseModel\u001b[0m\u001b[0;34m(\u001b[0m\u001b[0mst_model\u001b[0m\u001b[0;34m,\u001b[0m\u001b[0mpd_model\u001b[0m\u001b[0;34m,\u001b[0m\u001b[0;34m'mse'\u001b[0m\u001b[0;34m)\u001b[0m\u001b[0;34m\u001b[0m\u001b[0;34m\u001b[0m\u001b[0m\n\u001b[0m\u001b[1;32m     15\u001b[0m \u001b[0msiamese_net2\u001b[0m \u001b[0;34m=\u001b[0m \u001b[0mcreateSiameseModel\u001b[0m\u001b[0;34m(\u001b[0m\u001b[0mst_model\u001b[0m\u001b[0;34m,\u001b[0m\u001b[0mpd_model\u001b[0m\u001b[0;34m,\u001b[0m\u001b[0;34m'mae'\u001b[0m\u001b[0;34m)\u001b[0m\u001b[0;34m\u001b[0m\u001b[0;34m\u001b[0m\u001b[0m\n",
            "\u001b[0;32m<ipython-input-36-405e959c954f>\u001b[0m in \u001b[0;36mcreateSiameseModel\u001b[0;34m(model1, model2, customLoss)\u001b[0m\n\u001b[1;32m      7\u001b[0m   out = Lambda(function=lambda x: K.exp(-K.sum(K.abs(x[0]-x[1]), axis=1, keepdims=True)),\n\u001b[1;32m      8\u001b[0m                 \u001b[0moutput_shape\u001b[0m\u001b[0;34m=\u001b[0m\u001b[0;32mlambda\u001b[0m \u001b[0mx\u001b[0m\u001b[0;34m:\u001b[0m \u001b[0;34m(\u001b[0m\u001b[0mx\u001b[0m\u001b[0;34m[\u001b[0m\u001b[0;36m0\u001b[0m\u001b[0;34m]\u001b[0m\u001b[0;34m[\u001b[0m\u001b[0;36m0\u001b[0m\u001b[0;34m]\u001b[0m\u001b[0;34m[\u001b[0m\u001b[0;36m0\u001b[0m\u001b[0;34m]\u001b[0m\u001b[0;34m,\u001b[0m \u001b[0;36m1\u001b[0m\u001b[0;34m)\u001b[0m\u001b[0;34m,\u001b[0m\u001b[0;34m\u001b[0m\u001b[0;34m\u001b[0m\u001b[0m\n\u001b[0;32m----> 9\u001b[0;31m                 name='prediction')([model1(st_input), model2(pd_input)])\n\u001b[0m\u001b[1;32m     10\u001b[0m   \u001b[0msiamese_net\u001b[0m \u001b[0;34m=\u001b[0m \u001b[0mModel\u001b[0m\u001b[0;34m(\u001b[0m\u001b[0minput\u001b[0m\u001b[0;34m=\u001b[0m\u001b[0;34m[\u001b[0m\u001b[0mst_input\u001b[0m\u001b[0;34m,\u001b[0m\u001b[0mpd_input\u001b[0m\u001b[0;34m]\u001b[0m\u001b[0;34m,\u001b[0m\u001b[0moutput\u001b[0m\u001b[0;34m=\u001b[0m\u001b[0;34m[\u001b[0m\u001b[0mout\u001b[0m\u001b[0;34m]\u001b[0m\u001b[0;34m)\u001b[0m\u001b[0;34m\u001b[0m\u001b[0;34m\u001b[0m\u001b[0m\n\u001b[1;32m     11\u001b[0m   \u001b[0msiamese_net\u001b[0m\u001b[0;34m.\u001b[0m\u001b[0mcompile\u001b[0m\u001b[0;34m(\u001b[0m\u001b[0mloss\u001b[0m\u001b[0;34m=\u001b[0m\u001b[0mcustomLoss\u001b[0m\u001b[0;34m,\u001b[0m\u001b[0moptimizer\u001b[0m\u001b[0;34m=\u001b[0m\u001b[0;34m'adam'\u001b[0m\u001b[0;34m,\u001b[0m\u001b[0mmetrics\u001b[0m\u001b[0;34m=\u001b[0m\u001b[0;34m[\u001b[0m\u001b[0;34m'acc'\u001b[0m\u001b[0;34m]\u001b[0m\u001b[0;34m)\u001b[0m\u001b[0;34m\u001b[0m\u001b[0;34m\u001b[0m\u001b[0m\n",
            "\u001b[0;32m/usr/local/lib/python3.6/dist-packages/keras/engine/base_layer.py\u001b[0m in \u001b[0;36m__call__\u001b[0;34m(self, inputs, **kwargs)\u001b[0m\n\u001b[1;32m    472\u001b[0m             if all([s is not None\n\u001b[1;32m    473\u001b[0m                     for s in to_list(input_shape)]):\n\u001b[0;32m--> 474\u001b[0;31m                 \u001b[0moutput_shape\u001b[0m \u001b[0;34m=\u001b[0m \u001b[0mself\u001b[0m\u001b[0;34m.\u001b[0m\u001b[0mcompute_output_shape\u001b[0m\u001b[0;34m(\u001b[0m\u001b[0minput_shape\u001b[0m\u001b[0;34m)\u001b[0m\u001b[0;34m\u001b[0m\u001b[0;34m\u001b[0m\u001b[0m\n\u001b[0m\u001b[1;32m    475\u001b[0m             \u001b[0;32melse\u001b[0m\u001b[0;34m:\u001b[0m\u001b[0;34m\u001b[0m\u001b[0;34m\u001b[0m\u001b[0m\n\u001b[1;32m    476\u001b[0m                 \u001b[0;32mif\u001b[0m \u001b[0misinstance\u001b[0m\u001b[0;34m(\u001b[0m\u001b[0minput_shape\u001b[0m\u001b[0;34m,\u001b[0m \u001b[0mlist\u001b[0m\u001b[0;34m)\u001b[0m\u001b[0;34m:\u001b[0m\u001b[0;34m\u001b[0m\u001b[0;34m\u001b[0m\u001b[0m\n",
            "\u001b[0;32m/usr/local/lib/python3.6/dist-packages/keras/layers/core.py\u001b[0m in \u001b[0;36mcompute_output_shape\u001b[0;34m(self, input_shape)\u001b[0m\n\u001b[1;32m    672\u001b[0m             \u001b[0;32mreturn\u001b[0m \u001b[0;34m(\u001b[0m\u001b[0mnum_samples\u001b[0m\u001b[0;34m,\u001b[0m\u001b[0;34m)\u001b[0m \u001b[0;34m+\u001b[0m \u001b[0mtuple\u001b[0m\u001b[0;34m(\u001b[0m\u001b[0mself\u001b[0m\u001b[0;34m.\u001b[0m\u001b[0m_output_shape\u001b[0m\u001b[0;34m)\u001b[0m\u001b[0;34m\u001b[0m\u001b[0;34m\u001b[0m\u001b[0m\n\u001b[1;32m    673\u001b[0m         \u001b[0;32melse\u001b[0m\u001b[0;34m:\u001b[0m\u001b[0;34m\u001b[0m\u001b[0;34m\u001b[0m\u001b[0m\n\u001b[0;32m--> 674\u001b[0;31m             \u001b[0mshape\u001b[0m \u001b[0;34m=\u001b[0m \u001b[0mself\u001b[0m\u001b[0;34m.\u001b[0m\u001b[0m_output_shape\u001b[0m\u001b[0;34m(\u001b[0m\u001b[0minput_shape\u001b[0m\u001b[0;34m)\u001b[0m\u001b[0;34m\u001b[0m\u001b[0;34m\u001b[0m\u001b[0m\n\u001b[0m\u001b[1;32m    675\u001b[0m             \u001b[0;32mif\u001b[0m \u001b[0;32mnot\u001b[0m \u001b[0misinstance\u001b[0m\u001b[0;34m(\u001b[0m\u001b[0mshape\u001b[0m\u001b[0;34m,\u001b[0m \u001b[0;34m(\u001b[0m\u001b[0mlist\u001b[0m\u001b[0;34m,\u001b[0m \u001b[0mtuple\u001b[0m\u001b[0;34m)\u001b[0m\u001b[0;34m)\u001b[0m\u001b[0;34m:\u001b[0m\u001b[0;34m\u001b[0m\u001b[0;34m\u001b[0m\u001b[0m\n\u001b[1;32m    676\u001b[0m                 raise ValueError('`output_shape` function must return a tuple or '\n",
            "\u001b[0;32m<ipython-input-36-405e959c954f>\u001b[0m in \u001b[0;36m<lambda>\u001b[0;34m(x)\u001b[0m\n\u001b[1;32m      6\u001b[0m \u001b[0;32mdef\u001b[0m \u001b[0mcreateSiameseModel\u001b[0m\u001b[0;34m(\u001b[0m\u001b[0mmodel1\u001b[0m\u001b[0;34m,\u001b[0m\u001b[0mmodel2\u001b[0m\u001b[0;34m,\u001b[0m\u001b[0mcustomLoss\u001b[0m\u001b[0;34m)\u001b[0m\u001b[0;34m:\u001b[0m\u001b[0;34m\u001b[0m\u001b[0;34m\u001b[0m\u001b[0m\n\u001b[1;32m      7\u001b[0m   out = Lambda(function=lambda x: K.exp(-K.sum(K.abs(x[0]-x[1]), axis=1, keepdims=True)),\n\u001b[0;32m----> 8\u001b[0;31m                 \u001b[0moutput_shape\u001b[0m\u001b[0;34m=\u001b[0m\u001b[0;32mlambda\u001b[0m \u001b[0mx\u001b[0m\u001b[0;34m:\u001b[0m \u001b[0;34m(\u001b[0m\u001b[0mx\u001b[0m\u001b[0;34m[\u001b[0m\u001b[0;36m0\u001b[0m\u001b[0;34m]\u001b[0m\u001b[0;34m[\u001b[0m\u001b[0;36m0\u001b[0m\u001b[0;34m]\u001b[0m\u001b[0;34m[\u001b[0m\u001b[0;36m0\u001b[0m\u001b[0;34m]\u001b[0m\u001b[0;34m,\u001b[0m \u001b[0;36m1\u001b[0m\u001b[0;34m)\u001b[0m\u001b[0;34m,\u001b[0m\u001b[0;34m\u001b[0m\u001b[0;34m\u001b[0m\u001b[0m\n\u001b[0m\u001b[1;32m      9\u001b[0m                 name='prediction')([model1(st_input), model2(pd_input)])\n\u001b[1;32m     10\u001b[0m   \u001b[0msiamese_net\u001b[0m \u001b[0;34m=\u001b[0m \u001b[0mModel\u001b[0m\u001b[0;34m(\u001b[0m\u001b[0minput\u001b[0m\u001b[0;34m=\u001b[0m\u001b[0;34m[\u001b[0m\u001b[0mst_input\u001b[0m\u001b[0;34m,\u001b[0m\u001b[0mpd_input\u001b[0m\u001b[0;34m]\u001b[0m\u001b[0;34m,\u001b[0m\u001b[0moutput\u001b[0m\u001b[0;34m=\u001b[0m\u001b[0;34m[\u001b[0m\u001b[0mout\u001b[0m\u001b[0;34m]\u001b[0m\u001b[0;34m)\u001b[0m\u001b[0;34m\u001b[0m\u001b[0;34m\u001b[0m\u001b[0m\n",
            "\u001b[0;31mTypeError\u001b[0m: 'NoneType' object is not subscriptable"
          ]
        }
      ]
    },
    {
      "metadata": {
        "id": "YACG1GiJ-MWC",
        "colab_type": "code",
        "outputId": "8e33b80e-cb51-4a5a-c8ed-3f7873332d3d",
        "colab": {
          "base_uri": "https://localhost:8080/",
          "height": 344
        }
      },
      "cell_type": "code",
      "source": [
        "siamese_net1.summary()"
      ],
      "execution_count": 26,
      "outputs": [
        {
          "output_type": "stream",
          "text": [
            "__________________________________________________________________________________________________\n",
            "Layer (type)                    Output Shape         Param #     Connected to                     \n",
            "==================================================================================================\n",
            "st_input (InputLayer)           (None, 150, 1)       0                                            \n",
            "__________________________________________________________________________________________________\n",
            "pd_input (InputLayer)           (None, 150, 1)       0                                            \n",
            "__________________________________________________________________________________________________\n",
            "sequential_3 (Sequential)       (None, 150, 64)      13664       st_input[0][0]                   \n",
            "__________________________________________________________________________________________________\n",
            "sequential_4 (Sequential)       (None, 150, 64)      13664       pd_input[0][0]                   \n",
            "__________________________________________________________________________________________________\n",
            "prediction (Lambda)             (None, 1)            0           sequential_3[1][0]               \n",
            "                                                                 sequential_4[1][0]               \n",
            "==================================================================================================\n",
            "Total params: 27,328\n",
            "Trainable params: 27,328\n",
            "Non-trainable params: 0\n",
            "__________________________________________________________________________________________________\n"
          ],
          "name": "stdout"
        }
      ]
    },
    {
      "metadata": {
        "id": "D5nCWY89-MWP",
        "colab_type": "code",
        "colab": {}
      },
      "cell_type": "code",
      "source": [
        "X1_train,X1_val,X2_train,X2_val,Y_train, Y_val = train_test_split(X1,X2,Y,test_size = 0.25)\n"
      ],
      "execution_count": 0,
      "outputs": []
    },
    {
      "metadata": {
        "id": "uN8i5wFE-MWU",
        "colab_type": "code",
        "colab": {}
      },
      "cell_type": "code",
      "source": [
        "from keras.callbacks import *\n",
        "\n",
        "\n",
        "def set_callbacks(description='run1',patience=15,tb_base_logdir='./logs/'):\n",
        "    cp = ModelCheckpoint('best_model_weights_{}.h5'.format(description),save_best_only=True)\n",
        "    rlop = ReduceLROnPlateau(patience=5)   \n",
        "    cb = [cp,rlop]\n",
        "    return cb"
      ],
      "execution_count": 0,
      "outputs": []
    },
    {
      "metadata": {
        "id": "w5adk4qt-MWY",
        "colab_type": "code",
        "outputId": "2eb0f133-9e84-4e78-bb5b-1a7b7dee2800",
        "colab": {
          "base_uri": "https://localhost:8080/",
          "height": 72
        }
      },
      "cell_type": "code",
      "source": [
        "history = siamese_net1.fit([X1_train,X2_train],Y_train,batch_size=1024, epochs=1, verbose=1, validation_data=([X1_val,X2_val],Y_val), callbacks=set_callbacks())"
      ],
      "execution_count": 30,
      "outputs": [
        {
          "output_type": "stream",
          "text": [
            "Train on 55550 samples, validate on 18517 samples\n",
            "Epoch 1/1\n",
            "55550/55550 [==============================] - 786s 14ms/step - loss: 0.3039 - acc: 0.1441 - val_loss: 0.2604 - val_acc: 0.1736\n"
          ],
          "name": "stdout"
        }
      ]
    },
    {
      "metadata": {
        "id": "V-48pZPv-MWe",
        "colab_type": "code",
        "outputId": "d6143dfb-3a6b-44e3-ada2-5409c0ab39e7",
        "colab": {
          "base_uri": "https://localhost:8080/",
          "height": 265
        }
      },
      "cell_type": "code",
      "source": [
        "plt.plot(history.history['loss'], label='train')\n",
        "plt.plot(history.history['val_loss'], label='test')\n",
        "plt.legend()\n",
        "plt.show()\n"
      ],
      "execution_count": 31,
      "outputs": [
        {
          "output_type": "display_data",
          "data": {
            "image/png": "[encoded data removed]",
            "text/plain": [
              "<matplotlib.figure.Figure at 0x7f458b6f2be0>"
            ]
          },
          "metadata": {
            "tags": []
          }
        }
      ]
    },
    {
      "metadata": {
        "id": "xf5mMT5JWPS2",
        "colab_type": "code",
        "outputId": "2df92d1c-e4be-4942-8431-63b892dde02d",
        "colab": {
          "base_uri": "https://localhost:8080/",
          "height": 269
        }
      },
      "cell_type": "code",
      "source": [
        "plt.plot(history.history['acc'], label='train')\n",
        "plt.plot(history.history['val_acc'], label='test')\n",
        "plt.legend()\n",
        "plt.show()"
      ],
      "execution_count": 32,
      "outputs": [
        {
          "output_type": "display_data",
          "data": {
            "image/png": "[encoded data removed]",
            "text/plain": [
              "<matplotlib.figure.Figure at 0x7f458b6e6198>"
            ]
          },
          "metadata": {
            "tags": []
          }
        }
      ]
    },
    {
      "metadata": {
        "id": "ficxWZ0V-MWj",
        "colab_type": "code",
        "colab": {}
      },
      "cell_type": "code",
      "source": [
        "preds = siamese_net1.predict([X1_val,X2_val])"
      ],
      "execution_count": 0,
      "outputs": []
    },
    {
      "metadata": {
        "id": "PI6SmNNXXqx6",
        "colab_type": "code",
        "outputId": "df6ead96-e45e-4fce-893e-c1c4ce65accd",
        "colab": {
          "base_uri": "https://localhost:8080/",
          "height": 35
        }
      },
      "cell_type": "code",
      "source": [
        "preds.shape"
      ],
      "execution_count": 34,
      "outputs": [
        {
          "output_type": "execute_result",
          "data": {
            "text/plain": [
              "(18517, 1, 64)"
            ]
          },
          "metadata": {
            "tags": []
          },
          "execution_count": 34
        }
      ]
    },
    {
      "metadata": {
        "id": "WC_AEkXSqTu7",
        "colab_type": "code",
        "outputId": "938921c5-6466-4f73-dc46-2323db12867d",
        "colab": {
          "base_uri": "https://localhost:8080/",
          "height": 326
        }
      },
      "cell_type": "code",
      "source": [
        "preds[1]"
      ],
      "execution_count": 35,
      "outputs": [
        {
          "output_type": "execute_result",
          "data": {
            "text/plain": [
              "array([[6.6883099e-01, 0.0000000e+00, 6.3930041e-01, 3.1421151e-14,\n",
              "        7.4174821e-01, 7.9336965e-01, 6.8376118e-01, 6.7161644e-01,\n",
              "        7.3734975e-01, 7.5169681e-14, 7.7987462e-01, 1.0000000e+00,\n",
              "        1.0000000e+00, 4.7551531e-01, 7.4127138e-01, 7.3690522e-01,\n",
              "        6.8228537e-01, 9.3069524e-01, 6.9032836e-01, 8.5346705e-01,\n",
              "        3.1499603e-20, 9.7804967e-18, 7.5902683e-01, 3.9675619e-04,\n",
              "        6.8830359e-01, 4.7577381e-23, 6.6141307e-01, 8.4540255e-32,\n",
              "        4.9467692e-25, 7.2180736e-01, 1.0000000e+00, 6.1217934e-01,\n",
              "        7.4388108e-36, 7.8409207e-01, 7.4070168e-12, 7.5080138e-01,\n",
              "        4.7286301e-21, 6.7898244e-01, 2.5967837e-22, 1.0000000e+00,\n",
              "        8.6855035e-38, 7.0932651e-01, 2.2656458e-11, 3.0570561e-27,\n",
              "        7.4548447e-01, 5.4761642e-08, 6.9883299e-01, 2.4319152e-16,\n",
              "        2.4318542e-28, 7.0121443e-01, 7.6123321e-01, 1.5259555e-19,\n",
              "        1.2469242e-12, 5.5073094e-01, 2.4751146e-18, 6.4947164e-01,\n",
              "        6.5401804e-01, 7.2951651e-01, 4.2386541e-20, 1.0000000e+00,\n",
              "        7.3020375e-01, 8.5599885e-07, 7.0414311e-01, 7.3694313e-01]],\n",
              "      dtype=float32)"
            ]
          },
          "metadata": {
            "tags": []
          },
          "execution_count": 35
        }
      ]
    },
    {
      "metadata": {
        "id": "6Y16lYHzV0HW",
        "colab_type": "code",
        "outputId": "5eeddf53-7b4e-40a8-e222-84f47a29337b",
        "colab": {
          "base_uri": "https://localhost:8080/",
          "height": 171
        }
      },
      "cell_type": "code",
      "source": [
        "preds = preds.reshape(preds.shape[0],preds.shape[1])"
      ],
      "execution_count": 0,
      "outputs": [
        {
          "output_type": "error",
          "ename": "ValueError",
          "evalue": "ignored",
          "traceback": [
            "\u001b[0;31m---------------------------------------------------------------------------\u001b[0m",
            "\u001b[0;31mValueError\u001b[0m                                Traceback (most recent call last)",
            "\u001b[0;32m<ipython-input-105-3bf33216c9f8>\u001b[0m in \u001b[0;36m<module>\u001b[0;34m()\u001b[0m\n\u001b[0;32m----> 1\u001b[0;31m \u001b[0mpreds\u001b[0m \u001b[0;34m=\u001b[0m \u001b[0mpreds\u001b[0m\u001b[0;34m.\u001b[0m\u001b[0mreshape\u001b[0m\u001b[0;34m(\u001b[0m\u001b[0mpreds\u001b[0m\u001b[0;34m.\u001b[0m\u001b[0mshape\u001b[0m\u001b[0;34m[\u001b[0m\u001b[0;36m0\u001b[0m\u001b[0;34m]\u001b[0m\u001b[0;34m,\u001b[0m\u001b[0mpreds\u001b[0m\u001b[0;34m.\u001b[0m\u001b[0mshape\u001b[0m\u001b[0;34m[\u001b[0m\u001b[0;36m1\u001b[0m\u001b[0;34m]\u001b[0m\u001b[0;34m)\u001b[0m\u001b[0;34m\u001b[0m\u001b[0;34m\u001b[0m\u001b[0m\n\u001b[0m",
            "\u001b[0;31mValueError\u001b[0m: cannot reshape array of size 1185088 into shape (18517,1)"
          ]
        }
      ]
    },
    {
      "metadata": {
        "id": "y8D6DtGa-MWn",
        "colab_type": "code",
        "outputId": "5ed5125f-3204-4aed-fbc6-542423566236",
        "colab": {
          "base_uri": "https://localhost:8080/",
          "height": 625
        }
      },
      "cell_type": "code",
      "source": [
        "from sklearn.metrics import r2_score \n",
        "\n",
        "predsDF = pd.DataFrame(data = preds)\n",
        "testDF = pd.DataFrame(data = Y_val)\n",
        "print('The score of model1 is:')\n",
        "print(r2_score(testDF.values,predsDF.values))\n",
        "plt.scatter(preds,Y_val)\n",
        "\n"
      ],
      "execution_count": 0,
      "outputs": [
        {
          "output_type": "error",
          "ename": "ValueError",
          "evalue": "ignored",
          "traceback": [
            "\u001b[0;31m---------------------------------------------------------------------------\u001b[0m",
            "\u001b[0;31mValueError\u001b[0m                                Traceback (most recent call last)",
            "\u001b[0;32m<ipython-input-106-441f7cb325a5>\u001b[0m in \u001b[0;36m<module>\u001b[0;34m()\u001b[0m\n\u001b[1;32m      1\u001b[0m \u001b[0;32mfrom\u001b[0m \u001b[0msklearn\u001b[0m\u001b[0;34m.\u001b[0m\u001b[0mmetrics\u001b[0m \u001b[0;32mimport\u001b[0m \u001b[0mr2_score\u001b[0m\u001b[0;34m\u001b[0m\u001b[0;34m\u001b[0m\u001b[0m\n\u001b[1;32m      2\u001b[0m \u001b[0;34m\u001b[0m\u001b[0m\n\u001b[0;32m----> 3\u001b[0;31m \u001b[0mpredsDF\u001b[0m \u001b[0;34m=\u001b[0m \u001b[0mpd\u001b[0m\u001b[0;34m.\u001b[0m\u001b[0mDataFrame\u001b[0m\u001b[0;34m(\u001b[0m\u001b[0mdata\u001b[0m \u001b[0;34m=\u001b[0m \u001b[0mpreds\u001b[0m\u001b[0;34m)\u001b[0m\u001b[0;34m\u001b[0m\u001b[0;34m\u001b[0m\u001b[0m\n\u001b[0m\u001b[1;32m      4\u001b[0m \u001b[0mtestDF\u001b[0m \u001b[0;34m=\u001b[0m \u001b[0mpd\u001b[0m\u001b[0;34m.\u001b[0m\u001b[0mDataFrame\u001b[0m\u001b[0;34m(\u001b[0m\u001b[0mdata\u001b[0m \u001b[0;34m=\u001b[0m \u001b[0mY_val\u001b[0m\u001b[0;34m)\u001b[0m\u001b[0;34m\u001b[0m\u001b[0;34m\u001b[0m\u001b[0m\n\u001b[1;32m      5\u001b[0m \u001b[0mprint\u001b[0m\u001b[0;34m(\u001b[0m\u001b[0;34m'The score of model1 is:'\u001b[0m\u001b[0;34m)\u001b[0m\u001b[0;34m\u001b[0m\u001b[0;34m\u001b[0m\u001b[0m\n",
            "\u001b[0;32m/usr/local/lib/python3.6/dist-packages/pandas/core/frame.py\u001b[0m in \u001b[0;36m__init__\u001b[0;34m(self, data, index, columns, dtype, copy)\u001b[0m\n\u001b[1;32m    359\u001b[0m             \u001b[0;32melse\u001b[0m\u001b[0;34m:\u001b[0m\u001b[0;34m\u001b[0m\u001b[0;34m\u001b[0m\u001b[0m\n\u001b[1;32m    360\u001b[0m                 mgr = self._init_ndarray(data, index, columns, dtype=dtype,\n\u001b[0;32m--> 361\u001b[0;31m                                          copy=copy)\n\u001b[0m\u001b[1;32m    362\u001b[0m         \u001b[0;32melif\u001b[0m \u001b[0misinstance\u001b[0m\u001b[0;34m(\u001b[0m\u001b[0mdata\u001b[0m\u001b[0;34m,\u001b[0m \u001b[0;34m(\u001b[0m\u001b[0mlist\u001b[0m\u001b[0;34m,\u001b[0m \u001b[0mtypes\u001b[0m\u001b[0;34m.\u001b[0m\u001b[0mGeneratorType\u001b[0m\u001b[0;34m)\u001b[0m\u001b[0;34m)\u001b[0m\u001b[0;34m:\u001b[0m\u001b[0;34m\u001b[0m\u001b[0;34m\u001b[0m\u001b[0m\n\u001b[1;32m    363\u001b[0m             \u001b[0;32mif\u001b[0m \u001b[0misinstance\u001b[0m\u001b[0;34m(\u001b[0m\u001b[0mdata\u001b[0m\u001b[0;34m,\u001b[0m \u001b[0mtypes\u001b[0m\u001b[0;34m.\u001b[0m\u001b[0mGeneratorType\u001b[0m\u001b[0;34m)\u001b[0m\u001b[0;34m:\u001b[0m\u001b[0;34m\u001b[0m\u001b[0;34m\u001b[0m\u001b[0m\n",
            "\u001b[0;32m/usr/local/lib/python3.6/dist-packages/pandas/core/frame.py\u001b[0m in \u001b[0;36m_init_ndarray\u001b[0;34m(self, values, index, columns, dtype, copy)\u001b[0m\n\u001b[1;32m    511\u001b[0m         \u001b[0;31m# by definition an array here\u001b[0m\u001b[0;34m\u001b[0m\u001b[0;34m\u001b[0m\u001b[0;34m\u001b[0m\u001b[0m\n\u001b[1;32m    512\u001b[0m         \u001b[0;31m# the dtypes will be coerced to a single dtype\u001b[0m\u001b[0;34m\u001b[0m\u001b[0;34m\u001b[0m\u001b[0;34m\u001b[0m\u001b[0m\n\u001b[0;32m--> 513\u001b[0;31m         \u001b[0mvalues\u001b[0m \u001b[0;34m=\u001b[0m \u001b[0m_prep_ndarray\u001b[0m\u001b[0;34m(\u001b[0m\u001b[0mvalues\u001b[0m\u001b[0;34m,\u001b[0m \u001b[0mcopy\u001b[0m\u001b[0;34m=\u001b[0m\u001b[0mcopy\u001b[0m\u001b[0;34m)\u001b[0m\u001b[0;34m\u001b[0m\u001b[0;34m\u001b[0m\u001b[0m\n\u001b[0m\u001b[1;32m    514\u001b[0m \u001b[0;34m\u001b[0m\u001b[0m\n\u001b[1;32m    515\u001b[0m         \u001b[0;32mif\u001b[0m \u001b[0mdtype\u001b[0m \u001b[0;32mis\u001b[0m \u001b[0;32mnot\u001b[0m \u001b[0;32mNone\u001b[0m\u001b[0;34m:\u001b[0m\u001b[0;34m\u001b[0m\u001b[0;34m\u001b[0m\u001b[0m\n",
            "\u001b[0;32m/usr/local/lib/python3.6/dist-packages/pandas/core/frame.py\u001b[0m in \u001b[0;36m_prep_ndarray\u001b[0;34m(values, copy)\u001b[0m\n\u001b[1;32m   6255\u001b[0m         \u001b[0mvalues\u001b[0m \u001b[0;34m=\u001b[0m \u001b[0mvalues\u001b[0m\u001b[0;34m.\u001b[0m\u001b[0mreshape\u001b[0m\u001b[0;34m(\u001b[0m\u001b[0;34m(\u001b[0m\u001b[0mvalues\u001b[0m\u001b[0;34m.\u001b[0m\u001b[0mshape\u001b[0m\u001b[0;34m[\u001b[0m\u001b[0;36m0\u001b[0m\u001b[0;34m]\u001b[0m\u001b[0;34m,\u001b[0m \u001b[0;36m1\u001b[0m\u001b[0;34m)\u001b[0m\u001b[0;34m)\u001b[0m\u001b[0;34m\u001b[0m\u001b[0;34m\u001b[0m\u001b[0m\n\u001b[1;32m   6256\u001b[0m     \u001b[0;32melif\u001b[0m \u001b[0mvalues\u001b[0m\u001b[0;34m.\u001b[0m\u001b[0mndim\u001b[0m \u001b[0;34m!=\u001b[0m \u001b[0;36m2\u001b[0m\u001b[0;34m:\u001b[0m\u001b[0;34m\u001b[0m\u001b[0;34m\u001b[0m\u001b[0m\n\u001b[0;32m-> 6257\u001b[0;31m         \u001b[0;32mraise\u001b[0m \u001b[0mValueError\u001b[0m\u001b[0;34m(\u001b[0m\u001b[0;34m'Must pass 2-d input'\u001b[0m\u001b[0;34m)\u001b[0m\u001b[0;34m\u001b[0m\u001b[0;34m\u001b[0m\u001b[0m\n\u001b[0m\u001b[1;32m   6258\u001b[0m \u001b[0;34m\u001b[0m\u001b[0m\n\u001b[1;32m   6259\u001b[0m     \u001b[0;32mreturn\u001b[0m \u001b[0mvalues\u001b[0m\u001b[0;34m\u001b[0m\u001b[0;34m\u001b[0m\u001b[0m\n",
            "\u001b[0;31mValueError\u001b[0m: Must pass 2-d input"
          ]
        }
      ]
    },
    {
      "metadata": {
        "id": "rkLbt2g_-MWt",
        "colab_type": "code",
        "outputId": "c7d1eabe-107a-44aa-8272-cd61f6eccf29",
        "colab": {
          "base_uri": "https://localhost:8080/",
          "height": 206
        }
      },
      "cell_type": "code",
      "source": [
        "predsDF.head()"
      ],
      "execution_count": 0,
      "outputs": [
        {
          "output_type": "execute_result",
          "data": {
            "text/html": [
              "<div>\n",
              "<style scoped>\n",
              "    .dataframe tbody tr th:only-of-type {\n",
              "        vertical-align: middle;\n",
              "    }\n",
              "\n",
              "    .dataframe tbody tr th {\n",
              "        vertical-align: top;\n",
              "    }\n",
              "\n",
              "    .dataframe thead th {\n",
              "        text-align: right;\n",
              "    }\n",
              "</style>\n",
              "<table border=\"1\" class=\"dataframe\">\n",
              "  <thead>\n",
              "    <tr style=\"text-align: right;\">\n",
              "      <th></th>\n",
              "      <th>0</th>\n",
              "    </tr>\n",
              "  </thead>\n",
              "  <tbody>\n",
              "    <tr>\n",
              "      <th>0</th>\n",
              "      <td>0.706371</td>\n",
              "    </tr>\n",
              "    <tr>\n",
              "      <th>1</th>\n",
              "      <td>0.709171</td>\n",
              "    </tr>\n",
              "    <tr>\n",
              "      <th>2</th>\n",
              "      <td>0.709526</td>\n",
              "    </tr>\n",
              "    <tr>\n",
              "      <th>3</th>\n",
              "      <td>0.711832</td>\n",
              "    </tr>\n",
              "    <tr>\n",
              "      <th>4</th>\n",
              "      <td>0.704719</td>\n",
              "    </tr>\n",
              "  </tbody>\n",
              "</table>\n",
              "</div>"
            ],
            "text/plain": [
              "          0\n",
              "0  0.706371\n",
              "1  0.709171\n",
              "2  0.709526\n",
              "3  0.711832\n",
              "4  0.704719"
            ]
          },
          "metadata": {
            "tags": []
          },
          "execution_count": 90
        }
      ]
    },
    {
      "metadata": {
        "id": "3jXlMzUz-MWw",
        "colab_type": "code",
        "outputId": "3bb18f0e-e3c7-4e10-8e8f-ef0344091d65",
        "colab": {
          "base_uri": "https://localhost:8080/",
          "height": 206
        }
      },
      "cell_type": "code",
      "source": [
        "testDF.head()"
      ],
      "execution_count": 0,
      "outputs": [
        {
          "output_type": "execute_result",
          "data": {
            "text/html": [
              "<div>\n",
              "<style scoped>\n",
              "    .dataframe tbody tr th:only-of-type {\n",
              "        vertical-align: middle;\n",
              "    }\n",
              "\n",
              "    .dataframe tbody tr th {\n",
              "        vertical-align: top;\n",
              "    }\n",
              "\n",
              "    .dataframe thead th {\n",
              "        text-align: right;\n",
              "    }\n",
              "</style>\n",
              "<table border=\"1\" class=\"dataframe\">\n",
              "  <thead>\n",
              "    <tr style=\"text-align: right;\">\n",
              "      <th></th>\n",
              "      <th>0</th>\n",
              "    </tr>\n",
              "  </thead>\n",
              "  <tbody>\n",
              "    <tr>\n",
              "      <th>0</th>\n",
              "      <td>0.835</td>\n",
              "    </tr>\n",
              "    <tr>\n",
              "      <th>1</th>\n",
              "      <td>0.500</td>\n",
              "    </tr>\n",
              "    <tr>\n",
              "      <th>2</th>\n",
              "      <td>0.835</td>\n",
              "    </tr>\n",
              "    <tr>\n",
              "      <th>3</th>\n",
              "      <td>0.500</td>\n",
              "    </tr>\n",
              "    <tr>\n",
              "      <th>4</th>\n",
              "      <td>0.335</td>\n",
              "    </tr>\n",
              "  </tbody>\n",
              "</table>\n",
              "</div>"
            ],
            "text/plain": [
              "       0\n",
              "0  0.835\n",
              "1  0.500\n",
              "2  0.835\n",
              "3  0.500\n",
              "4  0.335"
            ]
          },
          "metadata": {
            "tags": []
          },
          "execution_count": 91
        }
      ]
    },
    {
      "metadata": {
        "id": "ND_G1M_S-MW_",
        "colab_type": "code",
        "outputId": "5d2ffb48-9847-4ae9-d6fd-32346b623095",
        "colab": {}
      },
      "cell_type": "code",
      "source": [
        "search_term_chars2 = []\n",
        "product_description_chars2 = []\n",
        "search_term_chars2 = mergedTest.search_term.apply(lambda x: search_term_chars2 + list(x))\n",
        "product_description_chars2 = mergedTest.product_description.apply(lambda x: product_description_chars2 + list(x))\n",
        "search_term_chars2 = [item for sublist in search_term_chars2 for item in sublist]\n",
        "product_description_chars2 = [item for sublist in product_description_chars2 for item in sublist]\n",
        "search_term_char_set2 = sorted(set(search_term_chars2))\n",
        "product_description_char_set2 = sorted(set(product_description_chars2))\n",
        "\n",
        "# translate from character to number, it's enumerator\n",
        "search_term_char_to_int2 = dict((c, i) for i, c in enumerate(search_term_char_set2))\n",
        "search_term_int_to_char2 = dict((i, c) for i, c in enumerate(search_term_char_set2))\n",
        "product_description_char_to_int2 = dict((c, i) for i, c in enumerate(product_description_char_set2))\n",
        "product_description_int_to_char2 = dict((i, c) for i, c in enumerate(product_description_char_set2))\n",
        "\n",
        "mergedTest.search_term = mergedTest.search_term.apply(lambda x: list(x))\n",
        "mergedTest.product_description = mergedTest.product_description.apply(lambda x: list(x))\n",
        "\n",
        "mergedTest.search_term = mergedTest.search_term.apply(lambda x: createData(search_term_char_to_int2, x))\n",
        "mergedTest.product_description = mergedTest.product_description.apply(lambda x: createData(product_description_char_to_int2, x))\n",
        "mergedTest.head()"
      ],
      "execution_count": 0,
      "outputs": [
        {
          "output_type": "execute_result",
          "data": {
            "text/html": [
              "<div>\n",
              "<style scoped>\n",
              "    .dataframe tbody tr th:only-of-type {\n",
              "        vertical-align: middle;\n",
              "    }\n",
              "\n",
              "    .dataframe tbody tr th {\n",
              "        vertical-align: top;\n",
              "    }\n",
              "\n",
              "    .dataframe thead th {\n",
              "        text-align: right;\n",
              "    }\n",
              "</style>\n",
              "<table border=\"1\" class=\"dataframe\">\n",
              "  <thead>\n",
              "    <tr style=\"text-align: right;\">\n",
              "      <th></th>\n",
              "      <th>id</th>\n",
              "      <th>product_uid</th>\n",
              "      <th>product_title</th>\n",
              "      <th>search_term</th>\n",
              "      <th>product_description</th>\n",
              "    </tr>\n",
              "  </thead>\n",
              "  <tbody>\n",
              "    <tr>\n",
              "      <th>0</th>\n",
              "      <td>1</td>\n",
              "      <td>100001</td>\n",
              "      <td>Simpson Strong-Tie 12-Gauge Angle</td>\n",
              "      <td>[18, 9, 0, 27, 28, 30, 41, 28, 28, 0, 25, 41, ...</td>\n",
              "      <td>[52, 53, 58, 0, 53, 52, 50, 63, 0, 42, 53, 0, ...</td>\n",
              "    </tr>\n",
              "    <tr>\n",
              "      <th>1</th>\n",
              "      <td>4</td>\n",
              "      <td>100001</td>\n",
              "      <td>Simpson Strong-Tie 12-Gauge Angle</td>\n",
              "      <td>[36, 28, 43, 24, 35, 0, 35, 0, 25, 41, 24, 26,...</td>\n",
              "      <td>[52, 53, 58, 0, 53, 52, 50, 63, 0, 42, 53, 0, ...</td>\n",
              "    </tr>\n",
              "    <tr>\n",
              "      <th>2</th>\n",
              "      <td>5</td>\n",
              "      <td>100001</td>\n",
              "      <td>Simpson Strong-Tie 12-Gauge Angle</td>\n",
              "      <td>[42, 32, 36, 39, 42, 38, 37, 0, 42, 34, 44, 0,...</td>\n",
              "      <td>[52, 53, 58, 0, 53, 52, 50, 63, 0, 42, 53, 0, ...</td>\n",
              "    </tr>\n",
              "    <tr>\n",
              "      <th>3</th>\n",
              "      <td>6</td>\n",
              "      <td>100001</td>\n",
              "      <td>Simpson Strong-Tie 12-Gauge Angle</td>\n",
              "      <td>[42, 32, 36, 39, 42, 38, 37, 0, 42, 43, 41, 38...</td>\n",
              "      <td>[52, 53, 58, 0, 53, 52, 50, 63, 0, 42, 53, 0, ...</td>\n",
              "    </tr>\n",
              "    <tr>\n",
              "      <th>4</th>\n",
              "      <td>7</td>\n",
              "      <td>100001</td>\n",
              "      <td>Simpson Strong-Tie 12-Gauge Angle</td>\n",
              "      <td>[42, 32, 36, 39, 42, 38, 37, 0, 42, 43, 41, 38...</td>\n",
              "      <td>[52, 53, 58, 0, 53, 52, 50, 63, 0, 42, 53, 0, ...</td>\n",
              "    </tr>\n",
              "  </tbody>\n",
              "</table>\n",
              "</div>"
            ],
            "text/plain": [
              "   id  product_uid                      product_title  \\\n",
              "0   1       100001  Simpson Strong-Tie 12-Gauge Angle   \n",
              "1   4       100001  Simpson Strong-Tie 12-Gauge Angle   \n",
              "2   5       100001  Simpson Strong-Tie 12-Gauge Angle   \n",
              "3   6       100001  Simpson Strong-Tie 12-Gauge Angle   \n",
              "4   7       100001  Simpson Strong-Tie 12-Gauge Angle   \n",
              "\n",
              "                                         search_term  \\\n",
              "0  [18, 9, 0, 27, 28, 30, 41, 28, 28, 0, 25, 41, ...   \n",
              "1  [36, 28, 43, 24, 35, 0, 35, 0, 25, 41, 24, 26,...   \n",
              "2  [42, 32, 36, 39, 42, 38, 37, 0, 42, 34, 44, 0,...   \n",
              "3  [42, 32, 36, 39, 42, 38, 37, 0, 42, 43, 41, 38...   \n",
              "4  [42, 32, 36, 39, 42, 38, 37, 0, 42, 43, 41, 38...   \n",
              "\n",
              "                                 product_description  \n",
              "0  [52, 53, 58, 0, 53, 52, 50, 63, 0, 42, 53, 0, ...  \n",
              "1  [52, 53, 58, 0, 53, 52, 50, 63, 0, 42, 53, 0, ...  \n",
              "2  [52, 53, 58, 0, 53, 52, 50, 63, 0, 42, 53, 0, ...  \n",
              "3  [52, 53, 58, 0, 53, 52, 50, 63, 0, 42, 53, 0, ...  \n",
              "4  [52, 53, 58, 0, 53, 52, 50, 63, 0, 42, 53, 0, ...  "
            ]
          },
          "metadata": {
            "tags": []
          },
          "execution_count": 39
        }
      ]
    },
    {
      "metadata": {
        "id": "S_l3rmQY-MXQ",
        "colab_type": "text"
      },
      "cell_type": "markdown",
      "source": [
        "## ML Benchmark"
      ]
    },
    {
      "metadata": {
        "id": "jCX_kRgi-MXU",
        "colab_type": "code",
        "outputId": "bc36f72c-57af-452d-ae6b-5b7491eeff57",
        "colab": {}
      },
      "cell_type": "code",
      "source": [
        "mergedTrain2 = pd.merge(train, product_descriptions, how='inner', on='product_uid')\n",
        "mergedTrain2.head()"
      ],
      "execution_count": 0,
      "outputs": [
        {
          "output_type": "execute_result",
          "data": {
            "text/html": [
              "<div>\n",
              "<style scoped>\n",
              "    .dataframe tbody tr th:only-of-type {\n",
              "        vertical-align: middle;\n",
              "    }\n",
              "\n",
              "    .dataframe tbody tr th {\n",
              "        vertical-align: top;\n",
              "    }\n",
              "\n",
              "    .dataframe thead th {\n",
              "        text-align: right;\n",
              "    }\n",
              "</style>\n",
              "<table border=\"1\" class=\"dataframe\">\n",
              "  <thead>\n",
              "    <tr style=\"text-align: right;\">\n",
              "      <th></th>\n",
              "      <th>id</th>\n",
              "      <th>product_uid</th>\n",
              "      <th>product_title</th>\n",
              "      <th>search_term</th>\n",
              "      <th>relevance</th>\n",
              "      <th>product_description</th>\n",
              "    </tr>\n",
              "  </thead>\n",
              "  <tbody>\n",
              "    <tr>\n",
              "      <th>0</th>\n",
              "      <td>2</td>\n",
              "      <td>100001</td>\n",
              "      <td>Simpson Strong-Tie 12-Gauge Angle</td>\n",
              "      <td>angle bracket</td>\n",
              "      <td>3.00</td>\n",
              "      <td>Not only do angles make joints stronger, they ...</td>\n",
              "    </tr>\n",
              "    <tr>\n",
              "      <th>1</th>\n",
              "      <td>3</td>\n",
              "      <td>100001</td>\n",
              "      <td>Simpson Strong-Tie 12-Gauge Angle</td>\n",
              "      <td>l bracket</td>\n",
              "      <td>2.50</td>\n",
              "      <td>Not only do angles make joints stronger, they ...</td>\n",
              "    </tr>\n",
              "    <tr>\n",
              "      <th>2</th>\n",
              "      <td>9</td>\n",
              "      <td>100002</td>\n",
              "      <td>BEHR Premium Textured DeckOver 1-gal. #SC-141 ...</td>\n",
              "      <td>deck over</td>\n",
              "      <td>3.00</td>\n",
              "      <td>BEHR Premium Textured DECKOVER is an innovativ...</td>\n",
              "    </tr>\n",
              "    <tr>\n",
              "      <th>3</th>\n",
              "      <td>16</td>\n",
              "      <td>100005</td>\n",
              "      <td>Delta Vero 1-Handle Shower Only Faucet Trim Ki...</td>\n",
              "      <td>rain shower head</td>\n",
              "      <td>2.33</td>\n",
              "      <td>Update your bathroom with the Delta Vero Singl...</td>\n",
              "    </tr>\n",
              "    <tr>\n",
              "      <th>4</th>\n",
              "      <td>17</td>\n",
              "      <td>100005</td>\n",
              "      <td>Delta Vero 1-Handle Shower Only Faucet Trim Ki...</td>\n",
              "      <td>shower only faucet</td>\n",
              "      <td>2.67</td>\n",
              "      <td>Update your bathroom with the Delta Vero Singl...</td>\n",
              "    </tr>\n",
              "  </tbody>\n",
              "</table>\n",
              "</div>"
            ],
            "text/plain": [
              "   id  product_uid                                      product_title  \\\n",
              "0   2       100001                  Simpson Strong-Tie 12-Gauge Angle   \n",
              "1   3       100001                  Simpson Strong-Tie 12-Gauge Angle   \n",
              "2   9       100002  BEHR Premium Textured DeckOver 1-gal. #SC-141 ...   \n",
              "3  16       100005  Delta Vero 1-Handle Shower Only Faucet Trim Ki...   \n",
              "4  17       100005  Delta Vero 1-Handle Shower Only Faucet Trim Ki...   \n",
              "\n",
              "          search_term  relevance  \\\n",
              "0       angle bracket       3.00   \n",
              "1           l bracket       2.50   \n",
              "2           deck over       3.00   \n",
              "3    rain shower head       2.33   \n",
              "4  shower only faucet       2.67   \n",
              "\n",
              "                                 product_description  \n",
              "0  Not only do angles make joints stronger, they ...  \n",
              "1  Not only do angles make joints stronger, they ...  \n",
              "2  BEHR Premium Textured DECKOVER is an innovativ...  \n",
              "3  Update your bathroom with the Delta Vero Singl...  \n",
              "4  Update your bathroom with the Delta Vero Singl...  "
            ]
          },
          "metadata": {
            "tags": []
          },
          "execution_count": 46
        }
      ]
    },
    {
      "metadata": {
        "id": "ptKpWyix-MXa",
        "colab_type": "code",
        "colab": {}
      },
      "cell_type": "code",
      "source": [
        "from sklearn.feature_extraction.text import CountVectorizer\n",
        "\n",
        "vectorizer = CountVectorizer(encoding='latin-1', analyzer='char')\n",
        "vectorizer.fit(mergedTrain2['search_term'])\n",
        "\n",
        "mltrain_x,mlval_x,mltrain_y,mlval_y = train_test_split(mergedTrain2['search_term'].values,mergedTrain2['relevance'].values, test_size = 0.25)\n",
        "train_x_count =  vectorizer.transform(mltrain_x)\n",
        "test_x_count =  vectorizer.transform(mlval_x)"
      ],
      "execution_count": 0,
      "outputs": []
    },
    {
      "metadata": {
        "id": "s7z50EYG-MXe",
        "colab_type": "code",
        "colab": {}
      },
      "cell_type": "code",
      "source": [
        ""
      ],
      "execution_count": 0,
      "outputs": []
    },
    {
      "metadata": {
        "id": "QzNz1fOM-MXi",
        "colab_type": "code",
        "outputId": "a8618a2e-36c0-4e52-f797-ac53ad723387",
        "colab": {}
      },
      "cell_type": "code",
      "source": [
        "from sklearn import model_selection, preprocessing, linear_model, naive_bayes, metrics, svm,ensemble\n",
        "\n",
        "ml = ensemble.RandomForestRegressor()\n",
        "ml.fit(train_x_count, mltrain_y)    \n",
        "mlpreds = ml.predict(test_x_count)\n",
        "print(mlpreds.shape)\n",
        "acc = ml.score(test_x_count, mlval_y)\n",
        "print('accuarcy : {0}'.format(acc))"
      ],
      "execution_count": 0,
      "outputs": [
        {
          "output_type": "stream",
          "text": [
            "C:\\Users\\igor8\\Anaconda3\\envs\\deep learning\\lib\\site-packages\\sklearn\\ensemble\\forest.py:248: FutureWarning: The default value of n_estimators will change from 10 in version 0.20 to 100 in 0.22.\n",
            "  \"10 in version 0.20 to 100 in 0.22.\", FutureWarning)\n"
          ],
          "name": "stderr"
        },
        {
          "output_type": "stream",
          "text": [
            "(18517,)\n",
            "accuarcy : 0.18442933746628676\n"
          ],
          "name": "stdout"
        }
      ]
    },
    {
      "metadata": {
        "id": "Kr7dK6bI-MXq",
        "colab_type": "code",
        "outputId": "2add4726-a024-43f1-be8c-a7067dba1992",
        "colab": {}
      },
      "cell_type": "code",
      "source": [
        "plt.scatter(min_max_scaler.inverse_transform(preds.reshape(-1, 1)),mlpreds)\n"
      ],
      "execution_count": 0,
      "outputs": [
        {
          "output_type": "execute_result",
          "data": {
            "text/plain": [
              "<matplotlib.collections.PathCollection at 0x2753937ffd0>"
            ]
          },
          "metadata": {
            "tags": []
          },
          "execution_count": 74
        },
        {
          "output_type": "display_data",
          "data": {
            "image/png": "[encoded data removed]",
            "text/plain": [
              "<Figure size 432x288 with 1 Axes>"
            ]
          },
          "metadata": {
            "tags": [],
            "needs_background": "light"
          }
        }
      ]
    },
    {
      "metadata": {
        "id": "BH7kinB_-MXv",
        "colab_type": "text"
      },
      "cell_type": "markdown",
      "source": [
        "## Feature Extraction"
      ]
    },
    {
      "metadata": {
        "id": "9tN-8dzt-MXw",
        "colab_type": "code",
        "colab": {}
      },
      "cell_type": "code",
      "source": [
        "from keras import backend as K\n",
        "\n",
        "# with a Sequential model\n",
        "inp = siamese_net.input\n",
        "outputs = [siamese_net.layers[6].output]\n",
        "functor = K.function([inp, K.learning_phase()], outputs ) "
      ],
      "execution_count": 0,
      "outputs": []
    },
    {
      "metadata": {
        "id": "ZnJNtEXd-MXz",
        "colab_type": "code",
        "colab": {}
      },
      "cell_type": "code",
      "source": [
        ""
      ],
      "execution_count": 0,
      "outputs": []
    },
    {
      "metadata": {
        "id": "meBXk3A3-MX3",
        "colab_type": "code",
        "colab": {}
      },
      "cell_type": "code",
      "source": [
        ""
      ],
      "execution_count": 0,
      "outputs": []
    },
    {
      "metadata": {
        "id": "1kQLJokSc-NC",
        "colab_type": "text"
      },
      "cell_type": "markdown",
      "source": [
        "# Word Level Embedding"
      ]
    },
    {
      "metadata": {
        "id": "yMRi6xlKdpEC",
        "colab_type": "code",
        "outputId": "9805537a-e132-49f3-fafe-64617a31e732",
        "colab": {
          "base_uri": "https://localhost:8080/",
          "height": 206
        }
      },
      "cell_type": "code",
      "source": [
        "mergedTrain = pd.merge(train, product_descriptions, how='inner', on='product_uid')\n",
        "#lower the characters\n",
        "mergedTrain.search_term = mergedTrain.search_term.apply(lambda x: x.lower())\n",
        "mergedTrain.product_description = mergedTrain.product_description.apply(lambda x: x.lower())\n",
        "\n",
        "mergedTrain.head()"
      ],
      "execution_count": 0,
      "outputs": [
        {
          "output_type": "execute_result",
          "data": {
            "text/html": [
              "<div>\n",
              "<style scoped>\n",
              "    .dataframe tbody tr th:only-of-type {\n",
              "        vertical-align: middle;\n",
              "    }\n",
              "\n",
              "    .dataframe tbody tr th {\n",
              "        vertical-align: top;\n",
              "    }\n",
              "\n",
              "    .dataframe thead th {\n",
              "        text-align: right;\n",
              "    }\n",
              "</style>\n",
              "<table border=\"1\" class=\"dataframe\">\n",
              "  <thead>\n",
              "    <tr style=\"text-align: right;\">\n",
              "      <th></th>\n",
              "      <th>id</th>\n",
              "      <th>product_uid</th>\n",
              "      <th>product_title</th>\n",
              "      <th>search_term</th>\n",
              "      <th>relevance</th>\n",
              "      <th>product_description</th>\n",
              "    </tr>\n",
              "  </thead>\n",
              "  <tbody>\n",
              "    <tr>\n",
              "      <th>0</th>\n",
              "      <td>2</td>\n",
              "      <td>100001</td>\n",
              "      <td>Simpson Strong-Tie 12-Gauge Angle</td>\n",
              "      <td>angle bracket</td>\n",
              "      <td>3.00</td>\n",
              "      <td>not only do angles make joints stronger, they ...</td>\n",
              "    </tr>\n",
              "    <tr>\n",
              "      <th>1</th>\n",
              "      <td>3</td>\n",
              "      <td>100001</td>\n",
              "      <td>Simpson Strong-Tie 12-Gauge Angle</td>\n",
              "      <td>l bracket</td>\n",
              "      <td>2.50</td>\n",
              "      <td>not only do angles make joints stronger, they ...</td>\n",
              "    </tr>\n",
              "    <tr>\n",
              "      <th>2</th>\n",
              "      <td>9</td>\n",
              "      <td>100002</td>\n",
              "      <td>BEHR Premium Textured DeckOver 1-gal. #SC-141 ...</td>\n",
              "      <td>deck over</td>\n",
              "      <td>3.00</td>\n",
              "      <td>behr premium textured deckover is an innovativ...</td>\n",
              "    </tr>\n",
              "    <tr>\n",
              "      <th>3</th>\n",
              "      <td>16</td>\n",
              "      <td>100005</td>\n",
              "      <td>Delta Vero 1-Handle Shower Only Faucet Trim Ki...</td>\n",
              "      <td>rain shower head</td>\n",
              "      <td>2.33</td>\n",
              "      <td>update your bathroom with the delta vero singl...</td>\n",
              "    </tr>\n",
              "    <tr>\n",
              "      <th>4</th>\n",
              "      <td>17</td>\n",
              "      <td>100005</td>\n",
              "      <td>Delta Vero 1-Handle Shower Only Faucet Trim Ki...</td>\n",
              "      <td>shower only faucet</td>\n",
              "      <td>2.67</td>\n",
              "      <td>update your bathroom with the delta vero singl...</td>\n",
              "    </tr>\n",
              "  </tbody>\n",
              "</table>\n",
              "</div>"
            ],
            "text/plain": [
              "   id  product_uid                                      product_title  \\\n",
              "0   2       100001                  Simpson Strong-Tie 12-Gauge Angle   \n",
              "1   3       100001                  Simpson Strong-Tie 12-Gauge Angle   \n",
              "2   9       100002  BEHR Premium Textured DeckOver 1-gal. #SC-141 ...   \n",
              "3  16       100005  Delta Vero 1-Handle Shower Only Faucet Trim Ki...   \n",
              "4  17       100005  Delta Vero 1-Handle Shower Only Faucet Trim Ki...   \n",
              "\n",
              "          search_term  relevance  \\\n",
              "0       angle bracket       3.00   \n",
              "1           l bracket       2.50   \n",
              "2           deck over       3.00   \n",
              "3    rain shower head       2.33   \n",
              "4  shower only faucet       2.67   \n",
              "\n",
              "                                 product_description  \n",
              "0  not only do angles make joints stronger, they ...  \n",
              "1  not only do angles make joints stronger, they ...  \n",
              "2  behr premium textured deckover is an innovativ...  \n",
              "3  update your bathroom with the delta vero singl...  \n",
              "4  update your bathroom with the delta vero singl...  "
            ]
          },
          "metadata": {
            "tags": []
          },
          "execution_count": 180
        }
      ]
    },
    {
      "metadata": {
        "id": "xBf9HVhLdeSD",
        "colab_type": "code",
        "outputId": "4ff30b2e-df20-400e-b714-9f0f743f5b3a",
        "colab": {
          "base_uri": "https://localhost:8080/",
          "height": 206
        }
      },
      "cell_type": "code",
      "source": [
        "# move to end\n",
        "mergedTest= pd.merge(test, product_descriptions, how='inner', on='product_uid')\n",
        "mergedTest.search_term = mergedTest.search_term.apply(lambda x: x.lower())\n",
        "mergedTest.product_description = mergedTest.product_description.apply(lambda x: x.lower())\n",
        "\n",
        "mergedTest.head()"
      ],
      "execution_count": 0,
      "outputs": [
        {
          "output_type": "execute_result",
          "data": {
            "text/html": [
              "<div>\n",
              "<style scoped>\n",
              "    .dataframe tbody tr th:only-of-type {\n",
              "        vertical-align: middle;\n",
              "    }\n",
              "\n",
              "    .dataframe tbody tr th {\n",
              "        vertical-align: top;\n",
              "    }\n",
              "\n",
              "    .dataframe thead th {\n",
              "        text-align: right;\n",
              "    }\n",
              "</style>\n",
              "<table border=\"1\" class=\"dataframe\">\n",
              "  <thead>\n",
              "    <tr style=\"text-align: right;\">\n",
              "      <th></th>\n",
              "      <th>id</th>\n",
              "      <th>product_uid</th>\n",
              "      <th>product_title</th>\n",
              "      <th>search_term</th>\n",
              "      <th>product_description</th>\n",
              "    </tr>\n",
              "  </thead>\n",
              "  <tbody>\n",
              "    <tr>\n",
              "      <th>0</th>\n",
              "      <td>1</td>\n",
              "      <td>100001</td>\n",
              "      <td>Simpson Strong-Tie 12-Gauge Angle</td>\n",
              "      <td>90 degree bracket</td>\n",
              "      <td>not only do angles make joints stronger, they ...</td>\n",
              "    </tr>\n",
              "    <tr>\n",
              "      <th>1</th>\n",
              "      <td>4</td>\n",
              "      <td>100001</td>\n",
              "      <td>Simpson Strong-Tie 12-Gauge Angle</td>\n",
              "      <td>metal l brackets</td>\n",
              "      <td>not only do angles make joints stronger, they ...</td>\n",
              "    </tr>\n",
              "    <tr>\n",
              "      <th>2</th>\n",
              "      <td>5</td>\n",
              "      <td>100001</td>\n",
              "      <td>Simpson Strong-Tie 12-Gauge Angle</td>\n",
              "      <td>simpson sku able</td>\n",
              "      <td>not only do angles make joints stronger, they ...</td>\n",
              "    </tr>\n",
              "    <tr>\n",
              "      <th>3</th>\n",
              "      <td>6</td>\n",
              "      <td>100001</td>\n",
              "      <td>Simpson Strong-Tie 12-Gauge Angle</td>\n",
              "      <td>simpson strong  ties</td>\n",
              "      <td>not only do angles make joints stronger, they ...</td>\n",
              "    </tr>\n",
              "    <tr>\n",
              "      <th>4</th>\n",
              "      <td>7</td>\n",
              "      <td>100001</td>\n",
              "      <td>Simpson Strong-Tie 12-Gauge Angle</td>\n",
              "      <td>simpson strong tie hcc668</td>\n",
              "      <td>not only do angles make joints stronger, they ...</td>\n",
              "    </tr>\n",
              "  </tbody>\n",
              "</table>\n",
              "</div>"
            ],
            "text/plain": [
              "   id  product_uid                      product_title  \\\n",
              "0   1       100001  Simpson Strong-Tie 12-Gauge Angle   \n",
              "1   4       100001  Simpson Strong-Tie 12-Gauge Angle   \n",
              "2   5       100001  Simpson Strong-Tie 12-Gauge Angle   \n",
              "3   6       100001  Simpson Strong-Tie 12-Gauge Angle   \n",
              "4   7       100001  Simpson Strong-Tie 12-Gauge Angle   \n",
              "\n",
              "                 search_term  \\\n",
              "0          90 degree bracket   \n",
              "1           metal l brackets   \n",
              "2           simpson sku able   \n",
              "3       simpson strong  ties   \n",
              "4  simpson strong tie hcc668   \n",
              "\n",
              "                                 product_description  \n",
              "0  not only do angles make joints stronger, they ...  \n",
              "1  not only do angles make joints stronger, they ...  \n",
              "2  not only do angles make joints stronger, they ...  \n",
              "3  not only do angles make joints stronger, they ...  \n",
              "4  not only do angles make joints stronger, they ...  "
            ]
          },
          "metadata": {
            "tags": []
          },
          "execution_count": 181
        }
      ]
    },
    {
      "metadata": {
        "id": "cpOwUQVT6nTg",
        "colab_type": "code",
        "outputId": "b5ec0bf6-2b4b-4631-fa21-6b0028deabb4",
        "colab": {
          "base_uri": "https://localhost:8080/",
          "height": 53
        }
      },
      "cell_type": "code",
      "source": [
        "import nltk\n",
        "nltk.download('punkt')\n",
        "from nltk.tokenize import word_tokenize\n"
      ],
      "execution_count": 0,
      "outputs": [
        {
          "output_type": "stream",
          "text": [
            "[nltk_data] Downloading package punkt to /root/nltk_data...\n",
            "[nltk_data]   Package punkt is already up-to-date!\n"
          ],
          "name": "stdout"
        }
      ]
    },
    {
      "metadata": {
        "id": "WWHsKOot6KYZ",
        "colab_type": "code",
        "colab": {}
      },
      "cell_type": "code",
      "source": [
        "st_words = []\n",
        "for term in mergedTrain.search_term.values:\n",
        "   for word in word_tokenize(term):\n",
        "      st_words.append(word)\n",
        "st_word_set = sorted(set(st_words))\n",
        "st_dict = dict((c, i) for i, c in enumerate(st_word_set))\n"
      ],
      "execution_count": 0,
      "outputs": []
    },
    {
      "metadata": {
        "id": "A_moSd-172rP",
        "colab_type": "code",
        "colab": {}
      },
      "cell_type": "code",
      "source": [
        "pd_words = []\n",
        "for term in mergedTrain.product_description.values:\n",
        "   for word in word_tokenize(term):\n",
        "      pd_words.append(word)\n",
        "pd_word_set = sorted(set(pd_words))\n",
        "pd_dict = dict((c, i) for i, c in enumerate(pd_word_set))"
      ],
      "execution_count": 0,
      "outputs": []
    },
    {
      "metadata": {
        "id": "6oEB5jxm9L2t",
        "colab_type": "code",
        "outputId": "27e66ce9-6eaa-4dac-b2ce-f275e45e5391",
        "colab": {
          "base_uri": "https://localhost:8080/",
          "height": 206
        }
      },
      "cell_type": "code",
      "source": [
        "mergedTrain.search_term = mergedTrain.search_term.apply(lambda x: createData(st_dict, word_tokenize(x)))\n",
        "mergedTrain.product_description = mergedTrain.product_description.apply(lambda x: createData(pd_dict, word_tokenize(x)))\n",
        "\n",
        "mergedTrain.head()"
      ],
      "execution_count": 0,
      "outputs": [
        {
          "output_type": "execute_result",
          "data": {
            "text/html": [
              "<div>\n",
              "<style scoped>\n",
              "    .dataframe tbody tr th:only-of-type {\n",
              "        vertical-align: middle;\n",
              "    }\n",
              "\n",
              "    .dataframe tbody tr th {\n",
              "        vertical-align: top;\n",
              "    }\n",
              "\n",
              "    .dataframe thead th {\n",
              "        text-align: right;\n",
              "    }\n",
              "</style>\n",
              "<table border=\"1\" class=\"dataframe\">\n",
              "  <thead>\n",
              "    <tr style=\"text-align: right;\">\n",
              "      <th></th>\n",
              "      <th>id</th>\n",
              "      <th>product_uid</th>\n",
              "      <th>product_title</th>\n",
              "      <th>search_term</th>\n",
              "      <th>relevance</th>\n",
              "      <th>product_description</th>\n",
              "    </tr>\n",
              "  </thead>\n",
              "  <tbody>\n",
              "    <tr>\n",
              "      <th>0</th>\n",
              "      <td>2</td>\n",
              "      <td>100001</td>\n",
              "      <td>Simpson Strong-Tie 12-Gauge Angle</td>\n",
              "      <td>[1199, 1715]</td>\n",
              "      <td>3.00</td>\n",
              "      <td>[144772, 147036, 70311, 23139, 133460, 119994,...</td>\n",
              "    </tr>\n",
              "    <tr>\n",
              "      <th>1</th>\n",
              "      <td>3</td>\n",
              "      <td>100001</td>\n",
              "      <td>Simpson Strong-Tie 12-Gauge Angle</td>\n",
              "      <td>[4486, 1715]</td>\n",
              "      <td>2.50</td>\n",
              "      <td>[144772, 147036, 70311, 23139, 133460, 119994,...</td>\n",
              "    </tr>\n",
              "    <tr>\n",
              "      <th>2</th>\n",
              "      <td>9</td>\n",
              "      <td>100002</td>\n",
              "      <td>BEHR Premium Textured DeckOver 1-gal. #SC-141 ...</td>\n",
              "      <td>[2657, 5406]</td>\n",
              "      <td>3.00</td>\n",
              "      <td>[33028, 162291, 206607, 64260, 118454, 22904, ...</td>\n",
              "    </tr>\n",
              "    <tr>\n",
              "      <th>3</th>\n",
              "      <td>16</td>\n",
              "      <td>100005</td>\n",
              "      <td>Delta Vero 1-Handle Shower Only Faucet Trim Ki...</td>\n",
              "      <td>[6037, 6714, 3974]</td>\n",
              "      <td>2.33</td>\n",
              "      <td>[215988, 230394, 31540, 227925, 206720, 65819,...</td>\n",
              "    </tr>\n",
              "    <tr>\n",
              "      <th>4</th>\n",
              "      <td>17</td>\n",
              "      <td>100005</td>\n",
              "      <td>Delta Vero 1-Handle Shower Only Faucet Trim Ki...</td>\n",
              "      <td>[6714, 5334, 3259]</td>\n",
              "      <td>2.67</td>\n",
              "      <td>[215988, 230394, 31540, 227925, 206720, 65819,...</td>\n",
              "    </tr>\n",
              "  </tbody>\n",
              "</table>\n",
              "</div>"
            ],
            "text/plain": [
              "   id  product_uid                                      product_title  \\\n",
              "0   2       100001                  Simpson Strong-Tie 12-Gauge Angle   \n",
              "1   3       100001                  Simpson Strong-Tie 12-Gauge Angle   \n",
              "2   9       100002  BEHR Premium Textured DeckOver 1-gal. #SC-141 ...   \n",
              "3  16       100005  Delta Vero 1-Handle Shower Only Faucet Trim Ki...   \n",
              "4  17       100005  Delta Vero 1-Handle Shower Only Faucet Trim Ki...   \n",
              "\n",
              "          search_term  relevance  \\\n",
              "0        [1199, 1715]       3.00   \n",
              "1        [4486, 1715]       2.50   \n",
              "2        [2657, 5406]       3.00   \n",
              "3  [6037, 6714, 3974]       2.33   \n",
              "4  [6714, 5334, 3259]       2.67   \n",
              "\n",
              "                                 product_description  \n",
              "0  [144772, 147036, 70311, 23139, 133460, 119994,...  \n",
              "1  [144772, 147036, 70311, 23139, 133460, 119994,...  \n",
              "2  [33028, 162291, 206607, 64260, 118454, 22904, ...  \n",
              "3  [215988, 230394, 31540, 227925, 206720, 65819,...  \n",
              "4  [215988, 230394, 31540, 227925, 206720, 65819,...  "
            ]
          },
          "metadata": {
            "tags": []
          },
          "execution_count": 185
        }
      ]
    },
    {
      "metadata": {
        "id": "pI78eYMv5q-_",
        "colab_type": "code",
        "colab": {}
      },
      "cell_type": "code",
      "source": [
        ""
      ],
      "execution_count": 0,
      "outputs": []
    }
  ]
}